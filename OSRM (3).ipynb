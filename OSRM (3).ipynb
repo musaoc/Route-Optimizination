{
  "cells": [
    {
      "cell_type": "markdown",
      "id": "Z2uDDs8sCtFX",
      "metadata": {
        "id": "Z2uDDs8sCtFX"
      },
      "source": [
        "Libraries setup"
      ]
    },
    {
      "cell_type": "code",
      "execution_count": 1,
      "id": "46U9H1ikM35E",
      "metadata": {
        "id": "46U9H1ikM35E"
      },
      "outputs": [],
      "source": [
        "#!pip install ortools osrm folium"
      ]
    },
    {
      "cell_type": "code",
      "execution_count": 2,
      "id": "71cb9a33",
      "metadata": {
        "colab": {
          "base_uri": "https://localhost:8080/"
        },
        "id": "71cb9a33",
        "outputId": "c613182e-2ee9-49d5-a63e-1d14fdfd454f"
      },
      "outputs": [
        {
          "name": "stdout",
          "output_type": "stream",
          "text": [
            "✅ OSRM libraries installed!\n"
          ]
        }
      ],
      "source": [
        "#import osrm\n",
        "import requests\n",
        "import json\n",
        "import numpy as np\n",
        "\n",
        "print(\"✅ OSRM libraries installed!\")"
      ]
    },
    {
      "cell_type": "markdown",
      "id": "8Y8gH8Vw3j29",
      "metadata": {
        "id": "8Y8gH8Vw3j29"
      },
      "source": [
        "Bhawan real orders"
      ]
    },
    {
      "cell_type": "code",
      "execution_count": 59,
      "id": "b5u87k_V3m2I",
      "metadata": {
        "colab": {
          "base_uri": "https://localhost:8080/"
        },
        "id": "b5u87k_V3m2I",
        "outputId": "50d3b5d5-0b78-49c1-bc08-de663759e491"
      },
      "outputs": [
        {
          "name": "stdout",
          "output_type": "stream",
          "text": [
            "Collecting fuzzywuzzy\n",
            "  Downloading fuzzywuzzy-0.18.0-py2.py3-none-any.whl.metadata (4.9 kB)\n",
            "Downloading fuzzywuzzy-0.18.0-py2.py3-none-any.whl (18 kB)\n",
            "Installing collected packages: fuzzywuzzy\n",
            "Successfully installed fuzzywuzzy-0.18.0\n"
          ]
        }
      ],
      "source": [
        "!pip install fuzzywuzzy"
      ]
    },
    {
      "cell_type": "code",
      "execution_count": null,
      "id": "sITP1ArP3jVM",
      "metadata": {
        "colab": {
          "base_uri": "https://localhost:8080/"
        },
        "id": "sITP1ArP3jVM",
        "outputId": "8346f377-c596-41af-9f41-c7885d95e36c"
      },
      "outputs": [
        {
          "name": "stdout",
          "output_type": "stream",
          "text": [
            "('KD Ada Gagh Chowk', 31.43111111111111, 72.74569444444444)\n",
            "('KD Ada Sheikhan', 31.61363888888889, 72.45583333333333)\n",
            "('KD Barkhudar (Adda Kot Nijabat)', 31.57825, 72.66772222222222)\n",
            "('KD Chak 137', 31.57063888888889, 72.88902777777778)\n",
            "('KD Chak 144', 31.591777777777775, 72.83613888888888)\n",
            "('KD Chak 151', 31.495, 72.85875)\n",
            "('KD Chak 201', 31.392055555555554, 72.77875)\n",
            "('KD Chak 206', 31.454666666666665, 72.79808333333334)\n",
            "('KD Chak 224', 31.480527777777777, 72.65294444444444)\n",
            "('KD Chak 240 (Adda 240 Handlana)', 31.48286111111111, 72.70538888888889)\n",
            "('KD Jani Shah', 31.653, 72.86527777777778)\n",
            "('KD Kalri', 31.659055555555554, 72.53947222222222)\n",
            "('KD Kurk Muhammadi', 31.613805555555558, 72.75005555555556)\n",
            "('KD Lodhia (Jand Wala Colony)', 31.644861111111112, 72.818)\n",
            "('KD Mathruma', 31.67713888888889, 72.90944444444445)\n",
            "('KD Mouza Satiana', 31.431444444444445, 72.49616666666667)\n",
            "('KD Ubhaan', 31.64386111111111, 72.6363888888889)\n",
            "('KD Wara-Thatha Shah Muhammad', 31.536472222222223, 72.53513888888888)\n"
          ]
        }
      ],
      "source": [
        "'''\n",
        "all_locations = [\n",
        "    #(\"Warehouse\", 31.522334, 72.576500),\n",
        "    ('Shop 1', 31.570639, 72.889028),\n",
        "    ('Shop 2', 31.591778, 72.836139),\n",
        "    ('Shop 3', 31.495, 72.85875),\n",
        "    ('Shop 4', 31.653, 72.865278),\n",
        "    ('Shop 5', 31.677139, 72.909444),\n",
        "    ('Shop 6', 31.480528, 72.652944),\n",
        "    ('Shop 7', 31.431111, 72.745694),\n",
        "    ('Shop 8', 31.644861, 72.818),\n",
        "    ('Shop 9', 31.643861, 72.636389),\n",
        "    ('Shop 10', 31.613639, 72.455833),\n",
        "    ('Shop 11', 31.613806, 72.750056),\n",
        "    ('Shop 12', 31.431444, 72.496167),\n",
        "    ('Shop 13', 31.392056, 72.77875),\n",
        "    ('Shop 14', 31.454667, 72.798083),\n",
        "    ('Shop 15', 31.636528, 72.503222),\n",
        "    ('Shop 16', 31.597333, 72.611944),\n",
        "    ('Shop 17', 31.536472, 72.535139),\n",
        "    ('Shop 18', 31.482861, 72.705389),\n",
        "    ('Shop 19', 31.57825, 72.667722),\n",
        "    ('Shop 20', 31.659056, 72.539472),\n",
        "]'''\n",
        "\n",
        "#all_demands = [0, 40, 20, 30, 10, 12, 15, 18, 20, 0, 0, 0, 0, 0, 0, 0, 0, 0, 0, 0, 0]\n",
        "\n",
        "# Filter out locations with zero demand (except warehouse at index 0)\n",
        "locations = []\n",
        "demands = []\n",
        "\n",
        "for i, (location, demand) in enumerate(zip(all_locations, all_demands)):\n",
        "    if i == 0 or demand > 0:  # Keep warehouse (index 0) and locations with demand > 0\n",
        "        locations.append(location)\n",
        "        demands.append(demand)\n",
        "\n",
        "print(\"📍 Setup complete:\")\n",
        "print(f\"  Total locations: {len(all_locations)}\")\n",
        "print(f\"  Active locations (with demand): {len(locations)}\")\n",
        "print(f\"  Filtered out: {len(all_locations) - len(locations)} locations\")\n",
        "print(f\"  Total demand: {sum(demands)} bags\")\n",
        "\n",
        "print(\"\\n📦 Active locations:\")\n",
        "for i, (name, _, _) in enumerate(locations):\n",
        "    print(f\"  {name}: {demands[i]} bags\")"
      ]
    },
    {
      "cell_type": "code",
      "execution_count": 102,
      "id": "BM-v_Gqt32lD",
      "metadata": {
        "id": "BM-v_Gqt32lD"
      },
      "outputs": [],
      "source": []
    },
    {
      "cell_type": "code",
      "execution_count": null,
      "id": "gVm5FmmWN9gs",
      "metadata": {
        "colab": {
          "base_uri": "https://localhost:8080/"
        },
        "id": "gVm5FmmWN9gs",
        "outputId": "a1644cb0-0fee-439a-93e7-808455a74206"
      },
      "outputs": [
        {
          "name": "stdout",
          "output_type": "stream",
          "text": [
            "📍 Setup complete:\n",
            "  Total locations: 20\n",
            "  Active locations (with demand): 18\n",
            "  Filtered out: 2 locations\n",
            "  Total demand: 1589 bags\n",
            "\n",
            "📦 Active locations:\n",
            "  Shop 1: 17 bags\n",
            "  Shop 2: 18 bags\n",
            "  Shop 3: 18 bags\n",
            "  Shop 4: 15 bags\n",
            "  Shop 5: 49 bags\n",
            "  Shop 6: 20 bags\n",
            "  Shop 7: 78 bags\n",
            "  Shop 8: 65 bags\n",
            "  Shop 9: 10 bags\n",
            "  Shop 10: 69 bags\n",
            "  Shop 11: 36 bags\n",
            "  Shop 12: 20 bags\n",
            "  Shop 13: 86 bags\n",
            "  Shop 14: 100 bags\n",
            "  Shop 15: 142 bags\n",
            "  Shop 16: 205 bags\n",
            "  Shop 17: 558 bags\n",
            "  Shop 18: 83 bags\n"
          ]
        }
      ],
      "source": [
        "'''\n",
        "all_locations = [\n",
        "    #(\"Warehouse\", 31.522334, 72.576500),\n",
        "    ('Shop 1', 31.570639, 72.889028),\n",
        "    ('Shop 2', 31.591778, 72.836139),\n",
        "    ('Shop 3', 31.495, 72.85875),\n",
        "    ('Shop 4', 31.653, 72.865278),\n",
        "    ('Shop 5', 31.677139, 72.909444),\n",
        "    ('Shop 6', 31.480528, 72.652944),\n",
        "    ('Shop 7', 31.431111, 72.745694),\n",
        "    ('Shop 8', 31.644861, 72.818),\n",
        "    ('Shop 9', 31.643861, 72.636389),\n",
        "    ('Shop 10', 31.613639, 72.455833),\n",
        "    ('Shop 11', 31.613806, 72.750056),\n",
        "    ('Shop 12', 31.431444, 72.496167),\n",
        "    ('Shop 13', 31.392056, 72.77875),\n",
        "    ('Shop 14', 31.454667, 72.798083),\n",
        "    ('Shop 15', 31.636528, 72.503222),\n",
        "    ('Shop 16', 31.597333, 72.611944),\n",
        "    ('Shop 17', 31.536472, 72.535139),\n",
        "    ('Shop 18', 31.482861, 72.705389),\n",
        "    ('Shop 19', 31.57825, 72.667722),\n",
        "    ('Shop 20', 31.659056, 72.539472),\n",
        "]'''\n",
        "\n",
        "#all_demands = [0, 40, 20, 30, 10, 12, 15, 18, 20, 0, 0, 0, 0, 0, 0, 0, 0, 0, 0, 0, 0]\n",
        "\n",
        "# Filter out locations with zero demand (except warehouse at index 0)\n",
        "locations = []\n",
        "demands = []\n",
        "\n",
        "for i, (location, demand) in enumerate(zip(all_locations, all_demands)):\n",
        "    if i == 0 or demand > 0:  # Keep warehouse (index 0) and locations with demand > 0\n",
        "        locations.append(location)\n",
        "        demands.append(demand)\n",
        "\n",
        "print(\"📍 Setup complete:\")\n",
        "print(f\"  Total locations: {len(all_locations)}\")\n",
        "print(f\"  Active locations (with demand): {len(locations)}\")\n",
        "print(f\"  Filtered out: {len(all_locations) - len(locations)} locations\")\n",
        "print(f\"  Total demand: {sum(demands)} bags\")\n",
        "\n",
        "print(\"\\n📦 Active locations:\")\n",
        "for i, (name, _, _) in enumerate(locations):\n",
        "    print(f\"  {name}: {demands[i]} bags\")"
      ]
    },
    {
      "cell_type": "code",
      "execution_count": 116,
      "id": "f2f481ee",
      "metadata": {
        "colab": {
          "base_uri": "https://localhost:8080/"
        },
        "id": "f2f481ee",
        "outputId": "0db18463-a04d-46d9-a389-ddf0e2823b97"
      },
      "outputs": [
        {
          "name": "stdout",
          "output_type": "stream",
          "text": [
            "🚛 Vehicle Fleet Configuration:\n",
            "  Vehicle 1: Owned - 500 bags capacity\n",
            "    Cost: ₨100.0/km\n",
            "    Count: 6\n",
            "\n",
            "  Vehicle 2: Owned - 100 bags capacity\n",
            "    Cost: ₨50/km\n",
            "    Count: 16\n",
            "\n",
            "  Vehicle 3: Owned - 80 bags capacity\n",
            "    Cost: ₨50/km\n",
            "    Count: 4\n",
            "\n"
          ]
        }
      ],
      "source": [
        "\n",
        "\n",
        "# Vehicle fleet: (count, capacity in bags, cost_per_km)\n",
        "# Example heterogenous fleet: 2 trucks and 2 vans\n",
        "# Vehicle fleet: (count, capacity in bags, cost_per_km, rent_limit_km, fixed_rent)\n",
        "# rent_limit_km: 0 for owned vehicles, distance limit for rented vehicles\n",
        "# fixed_rent: 0 for owned vehicles, fixed rental cost for rented vehicles\n",
        "vehicles = [\n",
        "    {\"count\": 6, \"capacity\": 500, \"cost_per_km\": 100.0, \"rent_limit_km\": 0, \"fixed_rent\": 0},      # Owned big truck\n",
        "    {\"count\": 16, \"capacity\": 100,  \"cost_per_km\": 50,   \"rent_limit_km\": 0, \"fixed_rent\": 0},\n",
        "    {\"count\": 4, \"capacity\": 80,  \"cost_per_km\": 50,   \"rent_limit_km\": 0, \"fixed_rent\": 0},\n",
        "    # Owned medium van\n",
        "    #{\"count\": 1, \"capacity\": 80,  \"cost_per_km\": 60,   \"rent_limit_km\": 100, \"fixed_rent\": 5000}, # Rented medium van: ₨5000 for 100km, then ₨60/km\n",
        "   # {\"count\": 1, \"capacity\": 50,  \"cost_per_km\": 50,   \"rent_limit_km\": 80, \"fixed_rent\": 2000},  # Rented small van: ₨3500 for 80km, then ₨50/km\n",
        "]\n",
        "\n",
        "print(\"🚛 Vehicle Fleet Configuration:\")\n",
        "for i, v in enumerate(vehicles):\n",
        "    vehicle_type = \"Owned\" if v[\"rent_limit_km\"] == 0 else \"Rented\"\n",
        "    print(f\"  Vehicle {i+1}: {vehicle_type} - {v['capacity']} bags capacity\")\n",
        "    if v[\"rent_limit_km\"] == 0:\n",
        "        print(f\"    Cost: ₨{v['cost_per_km']}/km\")\n",
        "    else:\n",
        "        print(f\"    Rental: ₨{v['fixed_rent']} for {v['rent_limit_km']}km, then ₨{v['cost_per_km']}/km\")\n",
        "    print(f\"    Count: {v['count']}\")\n",
        "    print()"
      ]
    },
    {
      "cell_type": "code",
      "execution_count": 117,
      "id": "033bb7c4",
      "metadata": {
        "colab": {
          "base_uri": "https://localhost:8080/"
        },
        "id": "033bb7c4",
        "outputId": "730ee318-edc6-4fa7-c1fb-da3e2e27554f"
      },
      "outputs": [
        {
          "name": "stdout",
          "output_type": "stream",
          "text": [
            "\n",
            "📦 Demands (fertilizer bags):\n",
            "  Shop 1: 17 bags\n",
            "  Shop 2: 18 bags\n",
            "  Shop 3: 18 bags\n",
            "  Shop 4: 15 bags\n",
            "  Shop 5: 49 bags\n",
            "  Shop 6: 20 bags\n",
            "  Shop 7: 78 bags\n",
            "  Shop 8: 65 bags\n",
            "  Shop 9: 10 bags\n",
            "  Shop 10: 69 bags\n",
            "  Shop 11: 36 bags\n",
            "  Shop 12: 20 bags\n",
            "  Shop 13: 86 bags\n",
            "  Shop 14: 100 bags\n",
            "  Shop 15: 142 bags\n",
            "  Shop 16: 205 bags\n",
            "  Shop 17: 558 bags\n",
            "  Shop 18: 83 bags\n",
            "\n",
            "📊 Total demand: 1589 bags\n"
          ]
        }
      ],
      "source": [
        "# Step 2: Demands - how much each location needs\n",
        "#demands = [0, 40, 20, 30, 10, 12, 15, 18, 20]  # warehouse needs 0, shops need fertilizer bags\n",
        "\n",
        "print(\"\\n📦 Demands (fertilizer bags):\")\n",
        "for i, (name, _, _) in enumerate(locations):\n",
        "    print(f\"  {name}: {demands[i]} bags\")\n",
        "\n",
        "total_demand = sum(demands)\n",
        "print(f\"\\n📊 Total demand: {total_demand} bags\")"
      ]
    },
    {
      "cell_type": "code",
      "execution_count": 118,
      "id": "a731bacb",
      "metadata": {
        "id": "a731bacb"
      },
      "outputs": [],
      "source": [
        "vehicle_specs = []\n",
        "for v in vehicles:\n",
        "    for _ in range(v[\"count\"]):\n",
        "        vehicle_specs.append((v[\"capacity\"], v[\"cost_per_km\"], v[\"rent_limit_km\"], v[\"fixed_rent\"]))\n",
        "num_vehicles = len(vehicle_specs)"
      ]
    },
    {
      "cell_type": "code",
      "execution_count": 119,
      "id": "60233cdc",
      "metadata": {
        "id": "60233cdc"
      },
      "outputs": [],
      "source": [
        "from math import radians, sin, cos, sqrt, atan2\n",
        "def haversine_km(lat1, lon1, lat2, lon2):\n",
        "    \"\"\"Calculate real-world distance between two GPS points\"\"\"\n",
        "    R = 6371.0  # Earth's radius in km\n",
        "    dlat = radians(lat2 - lat1)\n",
        "    dlon = radians(lon2 - lon1)\n",
        "    a = sin(dlat/2)**2 + cos(radians(lat1)) * cos(radians(lat2)) * sin(dlon/2)**2\n",
        "    c = 2 * atan2(sqrt(a), sqrt(1-a))\n",
        "    return R * c"
      ]
    },
    {
      "cell_type": "code",
      "execution_count": 120,
      "id": "e5e1f507",
      "metadata": {
        "colab": {
          "base_uri": "https://localhost:8080/"
        },
        "id": "e5e1f507",
        "outputId": "6bc0b60d-eda8-4549-cde4-2e0ac01917e5"
      },
      "outputs": [
        {
          "name": "stdout",
          "output_type": "stream",
          "text": [
            "\n",
            "📏 Distance Matrix (km):\n",
            "         0    1    2    3    4    5    6    7    8    9   10   11   12   13   14   15   16   17\n",
            " 0:   0.0 1:   0.0 2:   0.0 3:   0.0 4:   0.0 5:   0.0 6:   0.0 7:   0.0 8:   0.0 9:   0.010:   0.011:   0.012:   0.013:   0.014:   0.015:   0.016:   0.017:   0.0"
          ]
        }
      ],
      "source": [
        "n = len(locations)\n",
        "dist_km = [[0]*n for _ in range(n)]\n",
        "road_factor = 1.25  # roads are ~25% longer than straight-line distance\n",
        "\n",
        "print(\"\\n📏 Distance Matrix (km):\")\n",
        "print(\"     \", end=\"\")\n",
        "for i in range(n):\n",
        "    print(f\"{i:5}\", end=\"\")\n",
        "print()\n",
        "\n",
        "for i in range(n):\n",
        "    print(f\"{i:2}: \", end=\"\")\n",
        "    for j in range(n):\n",
        "        if i == j:\n",
        "            dist_km[i][j] = 0\n",
        "            print(f\"{0:5.1f}\", end=\"\")\n",
        "        else:\n",
        "            dist_km[i][j] = haversine_km(locations[i][1], locations[i][2],\n",
        "                                         locations[j][1], locations[j][2]) * road_factor"
      ]
    },
    {
      "cell_type": "code",
      "execution_count": 121,
      "id": "Jz0BEJIdMwDw",
      "metadata": {
        "id": "Jz0BEJIdMwDw"
      },
      "outputs": [],
      "source": [
        "import requests\n",
        "import numpy as np"
      ]
    },
    {
      "cell_type": "code",
      "execution_count": 122,
      "id": "fe0eacf4",
      "metadata": {
        "colab": {
          "base_uri": "https://localhost:8080/"
        },
        "id": "fe0eacf4",
        "outputId": "faef4fd6-784b-42b2-cfb0-28090c722c92"
      },
      "outputs": [
        {
          "name": "stdout",
          "output_type": "stream",
          "text": [
            "🧪 Testing OSRM connectivity...\n",
            "🌐 Getting OSRM matrix for 18 locations...\n",
            "✅ OSRM matrix retrieved successfully!\n"
          ]
        }
      ],
      "source": [
        "# Setup OSRM client - using public demo server\n",
        "# For production, you'd run your own OSRM server\n",
        "OSRM_URL = \"http://router.project-osrm.org\"\n",
        "\n",
        "def get_osrm_matrix(locations):\n",
        "    \"\"\"Get distance and duration matrix using OSRM\"\"\"\n",
        "    print(f\"🌐 Getting OSRM matrix for {len(locations)} locations...\")\n",
        "\n",
        "    # Prepare coordinates for OSRM (lon,lat format)\n",
        "    coordinates = []\n",
        "    for name, lat, lon in locations:\n",
        "        coordinates.append([lon, lat])  # OSRM uses lon,lat\n",
        "\n",
        "    # Build OSRM table request URL\n",
        "    coord_string = \";\".join([f\"{lon},{lat}\" for lon, lat in coordinates])\n",
        "    url = f\"{OSRM_URL}/table/v1/driving/{coord_string}\"\n",
        "\n",
        "    params = {\n",
        "        'sources': ';'.join([str(i) for i in range(len(locations))]),\n",
        "        'destinations': ';'.join([str(i) for i in range(len(locations))]),\n",
        "        'annotations': 'distance,duration'\n",
        "    }\n",
        "\n",
        "    try:\n",
        "        response = requests.get(url, params=params, timeout=30)\n",
        "        response.raise_for_status()\n",
        "        data = response.json()\n",
        "\n",
        "        if data['code'] == 'Ok':\n",
        "            # Extract distance matrix (meters) and duration matrix (seconds)\n",
        "            distances = np.array(data['distances']) / 1000  # Convert to km\n",
        "            durations = np.array(data['durations']) / 60     # Convert to minutes\n",
        "\n",
        "            print(f\"✅ OSRM matrix retrieved successfully!\")\n",
        "            return distances, durations\n",
        "        else:\n",
        "            print(f\"❌ OSRM error: {data['message']}\")\n",
        "            return None, None\n",
        "\n",
        "    except Exception as e:\n",
        "        print(f\"❌ OSRM request failed: {e}\")\n",
        "        return None, None\n",
        "\n",
        "def get_osrm_route(start_coords, end_coords):\n",
        "    \"\"\"Get detailed route between two points\"\"\"\n",
        "    try:\n",
        "        coord_string = f\"{start_coords[1]},{start_coords[0]};{end_coords[1]},{end_coords[0]}\"\n",
        "        url = f\"{OSRM_URL}/route/v1/driving/{coord_string}\"\n",
        "\n",
        "        params = {\n",
        "            'overview': 'full',\n",
        "            'geometries': 'geojson'\n",
        "        }\n",
        "\n",
        "        response = requests.get(url, params=params, timeout=15)\n",
        "        data = response.json()\n",
        "\n",
        "        if data['code'] == 'Ok':\n",
        "            route = data['routes'][0]\n",
        "            geometry = route['geometry']['coordinates']\n",
        "            # Convert to lat,lon for folium\n",
        "            path = [[coord[1], coord[0]] for coord in geometry]\n",
        "            return path, route['distance']/1000, route['duration']/60\n",
        "        else:\n",
        "            return None, None, None\n",
        "\n",
        "    except Exception as e:\n",
        "        print(f\"Route error: {e}\")\n",
        "        return None, None, None\n",
        "\n",
        "# Test OSRM with our locations\n",
        "print(\"🧪 Testing OSRM connectivity...\")\n",
        "osrm_distances, osrm_durations = get_osrm_matrix(locations)"
      ]
    },
    {
      "cell_type": "code",
      "execution_count": 123,
      "id": "90f98568-4f2c-46ec-81cd-ced871e447d8",
      "metadata": {
        "id": "90f98568-4f2c-46ec-81cd-ced871e447d8"
      },
      "outputs": [],
      "source": [
        "import folium"
      ]
    },
    {
      "cell_type": "code",
      "execution_count": 124,
      "id": "40be7504",
      "metadata": {
        "colab": {
          "base_uri": "https://localhost:8080/"
        },
        "id": "40be7504",
        "outputId": "e75f9282-ec16-41d5-f916-0eb223d039d4"
      },
      "outputs": [
        {
          "name": "stdout",
          "output_type": "stream",
          "text": [
            "\n",
            "📊 OSRM Distance Matrix (km):\n",
            "          0     1     2     3     4     5     6     7     8     9    10    11    12    13    14    15    16    17\n",
            " 0:    0.0   6.6   9.2  11.5  17.3  37.5  24.7  14.8  32.2  50.8  17.8  55.0  26.9  17.4  45.5  32.7  42.7  30.5  (Shop 1)\n",
            " 1:    6.6   0.0  11.6   8.7  14.5  37.0  27.3   8.1  25.6  44.2  11.2  48.4  29.6  20.1  38.9  26.0  36.1  22.7  (Shop 2)\n",
            " 2:    9.2  11.6   0.0  20.3  26.1  28.5  15.7  19.8  33.9  47.3  21.1  49.6  18.0   8.4  41.9  29.1  37.4  21.5  (Shop 3)\n",
            " 3:   11.5   8.7  20.3   0.0   5.8  39.0  43.1   5.9  27.6  46.2  13.2  50.4  48.4  28.7  40.8  28.0  38.1  36.2  (Shop 4)\n",
            " 4:   17.3  14.5  26.1   5.8   0.0  42.6  46.7   9.5  31.2  49.8  16.8  54.0  52.0  34.5  44.4  31.6  41.7  39.8  (Shop 5)\n",
            " 5:   37.5  37.0  28.5  39.0  42.6   0.0  13.9  33.1  26.6  39.9  25.8  22.3  19.2  21.0  34.6  21.8  16.0   7.0  (Shop 6)\n",
            " 6:   24.7  27.3  15.7  43.1  46.7  13.9   0.0  37.2  30.7  44.0  29.9  41.6   5.5   7.2  38.7  25.9  29.4   7.0  (Shop 7)\n",
            " 7:   14.8   8.1  19.8   5.9   9.5  33.1  37.2   0.0  21.7  40.2   7.3  44.4  42.5  32.2  34.9  22.1  32.2  30.3  (Shop 8)\n",
            " 8:   32.2  25.6  33.9  27.6  31.2  25.8  29.9  21.7   0.0  23.6  14.4  37.2  35.2  33.8  18.3   7.7  24.9  23.0  (Shop 9)\n",
            " 9:   50.7  44.1  47.3  46.1  49.7  40.0  44.1  40.2  23.6   0.0  32.9  51.3  49.4  47.1   5.3  18.1  39.1  37.2  (Shop 10)\n",
            "10:   17.8  11.2  21.1  13.2  16.8  25.8  29.9   7.3  14.4  32.9   0.0  37.1  35.2  24.8  27.6  14.8  24.9  23.0  (Shop 11)\n",
            "11:   55.0  48.4  49.6  50.4  54.0  22.3  41.6  44.4  38.0  51.3  37.1   0.0  46.9  48.7  46.0  33.2  21.3  34.7  (Shop 12)\n",
            "12:   26.9  29.6  18.0  48.4  52.0  19.2   5.5  42.5  36.0  49.3  35.2  46.9   0.0   9.5  44.0  31.2  34.7  12.3  (Shop 13)\n",
            "13:   17.4  20.1   8.4  28.7  34.5  21.0   7.2  32.2  33.8  47.1  24.8  48.7   9.5   0.0  41.8  29.0  36.4  14.1  (Shop 14)\n",
            "14:   45.4  38.8  41.9  40.8  44.4  34.6  38.8  34.9  18.3   5.3  27.6  46.0  44.0  41.8   0.0  12.8  33.8  31.9  (Shop 15)\n",
            "15:   32.6  26.0  29.1  28.0  31.6  21.8  25.9  22.1   7.7  18.1  14.8  33.2  31.2  29.0  12.8   0.0  21.0  19.0  (Shop 16)\n",
            "16:   42.7  36.1  37.4  38.1  41.7  16.0  29.4  32.2  25.7  39.1  24.9  21.3  34.7  36.4  33.7  20.9   0.0  22.5  (Shop 17)\n",
            "17:   30.5  22.7  21.5  36.2  39.8   7.0   7.0  30.3  23.8  37.1  23.0  34.7  12.3  14.1  31.8  19.0  22.5   0.0  (Shop 18)\n",
            "✅ Using OSRM real driving distances!\n",
            "\n",
            "📈 OSRM vs Haversine Comparison:\n",
            "   OSRM total: 8890.0 km\n",
            "   Haversine total: 8425.9 km\n",
            "   Difference: +5.5% (OSRM more accurate)\n"
          ]
        }
      ],
      "source": [
        "if osrm_distances is not None:\n",
        "    print(\"\\n📊 OSRM Distance Matrix (km):\")\n",
        "    print(\"     \", end=\"\")\n",
        "    for i in range(len(locations)):\n",
        "        print(f\"{i:6}\", end=\"\")\n",
        "    print()\n",
        "\n",
        "    for i in range(len(locations)):\n",
        "        print(f\"{i:2}: \", end=\"\")\n",
        "        for j in range(len(locations)):\n",
        "            print(f\"{osrm_distances[i][j]:6.1f}\", end=\"\")\n",
        "        print(f\"  ({locations[i][0]})\")\n",
        "\n",
        "    # Convert to OR-Tools integer matrix\n",
        "    osrm_dist_matrix = [[int(round(d * 100)) for d in row] for row in osrm_distances]\n",
        "    print(\"✅ Using OSRM real driving distances!\")\n",
        "\n",
        "    # Compare with haversine\n",
        "    print(\"\\n📈 OSRM vs Haversine Comparison:\")\n",
        "    total_osrm = np.sum(osrm_distances)\n",
        "    total_haversine = sum(sum(row) for row in dist_km)\n",
        "    difference = ((total_osrm - total_haversine) / total_haversine) * 100\n",
        "    print(f\"   OSRM total: {total_osrm:.1f} km\")\n",
        "    print(f\"   Haversine total: {total_haversine:.1f} km\")\n",
        "    print(f\"   Difference: {difference:+.1f}% (OSRM more accurate)\")\n",
        "\n",
        "else:\n",
        "    print(\"⚠️ OSRM failed, using haversine distances\")\n",
        "    osrm_dist_matrix = dist_matrix\n",
        "    osrm_distances = dist_km"
      ]
    },
    {
      "cell_type": "code",
      "execution_count": 125,
      "id": "b2984618",
      "metadata": {
        "colab": {
          "base_uri": "https://localhost:8080/"
        },
        "id": "b2984618",
        "outputId": "2ec6733e-5754-4ba8-8507-31b818fe52fc"
      },
      "outputs": [
        {
          "name": "stdout",
          "output_type": "stream",
          "text": [
            "\n",
            "🔍 Solving VRP with FIXED units and logic...\n"
          ]
        }
      ],
      "source": [
        "# Setup VRP with OSRM distances\n",
        "from ortools.constraint_solver import pywrapcp, routing_enums_pb2\n",
        "manager = pywrapcp.RoutingIndexManager(len(osrm_distances), len(vehicle_specs), 0)\n",
        "routing = pywrapcp.RoutingModel(manager)\n",
        "\n",
        "\n",
        "# Add fixed costs after solving\n",
        "def calculate_true_cost(route_distance, cost_per_km, rent_limit_km, fixed_rent):\n",
        "    if rent_limit_km > 0:  # Rented vehicle\n",
        "        if route_distance <= rent_limit_km:\n",
        "            return fixed_rent  # Only pay fixed rental\n",
        "        else:\n",
        "            extra_distance = route_distance - rent_limit_km\n",
        "            return fixed_rent + (extra_distance * cost_per_km)\n",
        "    else:  # Owned vehicle\n",
        "        return route_distance * cost_per_km\n",
        "\n",
        "def make_consistent_cost_eval(cost_per_km, rent_limit_km, fixed_rent):\n",
        "    def cost_eval(from_index, to_index):\n",
        "        f = manager.IndexToNode(from_index)\n",
        "        t = manager.IndexToNode(to_index)\n",
        "        distance_km = osrm_distances[f][t]\n",
        "\n",
        "        # Use variable cost rate for optimization\n",
        "        cost = distance_km * cost_per_km\n",
        "        return int(round(cost * 100))\n",
        "\n",
        "    return cost_eval\n",
        "# Fix the cost evaluator registration\n",
        "for vid, (capacity, cost_per_km, rent_limit_km, fixed_rent) in enumerate(vehicle_specs):\n",
        "    cost_evaluator = routing.RegisterTransitCallback(\n",
        "        make_consistent_cost_eval(cost_per_km, rent_limit_km, fixed_rent)\n",
        "    )\n",
        "    routing.SetArcCostEvaluatorOfVehicle(cost_evaluator, vid)\n",
        "\n",
        "# Add demand constraints\n",
        "def demand_callback(from_index):\n",
        "    node = manager.IndexToNode(from_index)\n",
        "    return demands[node]\n",
        "\n",
        "demand_cb_idx = routing.RegisterUnaryTransitCallback(demand_callback)\n",
        "routing.AddDimensionWithVehicleCapacity(\n",
        "    demand_cb_idx, 0, [spec[0] for spec in vehicle_specs], True, \"Capacity\")\n",
        "\n",
        "# FIXED: Distance tracking with consistent units\n",
        "def distance_callback(from_index, to_index):\n",
        "    f = manager.IndexToNode(from_index)\n",
        "    t = manager.IndexToNode(to_index)\n",
        "    # Use KM and multiply by 100 for integer precision\n",
        "    return int(round(osrm_distances[f][t] * 100))\n",
        "\n",
        "distance_cb_idx = routing.RegisterTransitCallback(distance_callback)\n",
        "routing.AddDimension(distance_cb_idx, 0, 50000, True, \"Distance\")  # 500km max\n",
        "\n",
        "# FIXED: Distance limits with consistent units\n",
        "distance_dimension = routing.GetDimensionOrDie(\"Distance\")\n",
        "for v in range(len(vehicle_specs)):\n",
        "    capacity, cost_per_km, rent_limit_km, fixed_rent = vehicle_specs[v]\n",
        "    if rent_limit_km > 0:  # Rented vehicle\n",
        "        # Both in same units now (km * 100)\n",
        "        max_distance = int(rent_limit_km * 100)\n",
        "        distance_dimension.CumulVar(routing.End(v)).SetMax(max_distance)\n",
        "\n",
        "# Solve\n",
        "search_parameters = pywrapcp.DefaultRoutingSearchParameters()\n",
        "search_parameters.first_solution_strategy = routing_enums_pb2.FirstSolutionStrategy.PATH_CHEAPEST_ARC\n",
        "search_parameters.time_limit.seconds = 60  # Increased time limit\n",
        "\n",
        "print(\"\\n🔍 Solving VRP with FIXED units and logic...\")\n",
        "solution = routing.SolveWithParameters(search_parameters)"
      ]
    },
    {
      "cell_type": "markdown",
      "id": "SL8FFxWkrpor",
      "metadata": {
        "id": "SL8FFxWkrpor"
      },
      "source": [
        "### OSRM - Generate Routes"
      ]
    },
    {
      "cell_type": "code",
      "execution_count": 126,
      "id": "X9z53YOcOiEl",
      "metadata": {
        "colab": {
          "base_uri": "https://localhost:8080/"
        },
        "id": "X9z53YOcOiEl",
        "outputId": "da7e096d-9184-4db1-a5b5-4ecd44157947"
      },
      "outputs": [
        {
          "name": "stdout",
          "output_type": "stream",
          "text": [
            "❌ No OSRM solution found!\n"
          ]
        }
      ],
      "source": [
        "# Add this function at the top of your results processing cell\n",
        "def calculate_true_cost(route_distance, cost_per_km, rent_limit_km, fixed_rent):\n",
        "    if rent_limit_km > 0:  # Rented vehicle\n",
        "        if route_distance <= rent_limit_km:\n",
        "            return fixed_rent  # Only pay fixed rental\n",
        "        else:\n",
        "            extra_distance = route_distance - rent_limit_km\n",
        "            return fixed_rent + (extra_distance * cost_per_km)\n",
        "    else:  # Owned vehicle\n",
        "        return route_distance * cost_per_km\n",
        "if solution:\n",
        "    print(\"✅ OSRM-enhanced solution found!\")\n",
        "    osrm_routes = []\n",
        "\n",
        "    for v in range(len(vehicle_specs)):\n",
        "        index = routing.Start(v)\n",
        "        route = []\n",
        "        load = 0\n",
        "        route_distance = 0\n",
        "\n",
        "        while not routing.IsEnd(index):\n",
        "            node = manager.IndexToNode(index)\n",
        "            route.append(node)\n",
        "            load += demands[node]\n",
        "            next_index = solution.Value(routing.NextVar(index))\n",
        "            if not routing.IsEnd(next_index):\n",
        "                route_distance += osrm_distances[node][manager.IndexToNode(next_index)]\n",
        "            index = next_index\n",
        "\n",
        "        if len(route) > 1:  # Vehicle is used\n",
        "            capacity, cost_per_km, rent_limit_km, fixed_rent = vehicle_specs[v]\n",
        "            true_cost = calculate_true_cost(route_distance, cost_per_km, rent_limit_km, fixed_rent)\n",
        "\n",
        "            # ADD THIS: Get real driving path from OSRM\n",
        "            print(f\"🛣️ Getting real paths for Vehicle {v+1}...\")\n",
        "            full_path = []\n",
        "            for i in range(len(route)):\n",
        "                if i < len(route) - 1:\n",
        "                    start_coords = (locations[route[i]][1], locations[route[i]][2])\n",
        "                    end_coords = (locations[route[i+1]][1], locations[route[i+1]][2])\n",
        "                    path_segment, _, _ = get_osrm_route(start_coords, end_coords)\n",
        "                    if path_segment:\n",
        "                        full_path.extend(path_segment)\n",
        "\n",
        "                # Return to warehouse\n",
        "                if i == len(route) - 1:\n",
        "                    start_coords = (locations[route[i]][1], locations[route[i]][2])\n",
        "                    end_coords = (locations[0][1], locations[0][2])  # Warehouse\n",
        "                    path_segment, _, _ = get_osrm_route(start_coords, end_coords)\n",
        "                    if path_segment:\n",
        "                        full_path.extend(path_segment)\n",
        "\n",
        "            vehicle_type = \"Owned\" if rent_limit_km == 0 else \"Rented\"\n",
        "\n",
        "            osrm_routes.append({\n",
        "                'vehicle_id': v + 1,\n",
        "                'route': route,\n",
        "                'full_path': full_path,  # Now properly defined\n",
        "                'load': load,\n",
        "                'capacity': capacity,\n",
        "                'distance': route_distance,\n",
        "                'cost': true_cost,\n",
        "                'cost_per_km': cost_per_km,\n",
        "                'vehicle_type': vehicle_type,\n",
        "                'rent_limit_km': rent_limit_km,\n",
        "                'fixed_rent': fixed_rent\n",
        "            })\n",
        "\n",
        "            # Rest of the display code...\n",
        "            # Display route with TRUE cost breakdown\n",
        "            route_names = [locations[idx][0] for idx in route]\n",
        "            print(f\"🚚 Vehicle {v+1} ({vehicle_type} - {capacity} bags, ₨{cost_per_km}/km):\")\n",
        "            print(f\"   Route: {' → '.join(route_names)} → Warehouse\")\n",
        "            print(f\"   Load: {load}/{capacity} bags ({load/capacity*100:.1f}% full)\")\n",
        "            print(f\"   Distance: {route_distance:.1f} km (OSRM real roads)\")\n",
        "\n",
        "            if rent_limit_km > 0:  # Rented vehicle\n",
        "                print(f\"   Rental: ₨{fixed_rent} for {rent_limit_km}km\")\n",
        "                if route_distance > rent_limit_km:\n",
        "                    extra_distance = route_distance - rent_limit_km\n",
        "                    extra_cost = extra_distance * cost_per_km\n",
        "                    print(f\"   Extra: {extra_distance:.1f}km × ₨{cost_per_km}/km = ₨{extra_cost:.2f}\")\n",
        "                    print(f\"   Total Cost: ₨{fixed_rent} + ₨{extra_cost:.2f} = ₨{true_cost:.2f}\")\n",
        "                else:\n",
        "                    print(f\"   Total Cost: ₨{true_cost:.2f} (within rental limit)\")\n",
        "            else:  # Owned vehicle\n",
        "                print(f\"   Cost: {route_distance:.1f}km × ₨{cost_per_km}/km = ₨{true_cost:.2f}\")\n",
        "\n",
        "            print(f\"   Cost Per bag: ₨{true_cost/load:.1f}\")\n",
        "\n",
        "    # Summary will now use TRUE costs\n",
        "    print(f\"\\n📊 OSRM-ENHANCED SUMMARY:\")\n",
        "    total_cost = sum(r['cost'] for r in osrm_routes)  # Now uses true costs\n",
        "    # ...rest of summary...\n",
        "    total_distance = sum(r['distance'] for r in osrm_routes)\n",
        "    owned_vehicles = len([r for r in osrm_routes if r['vehicle_type'] == 'Owned'])\n",
        "    rented_vehicles = len([r for r in osrm_routes if r['vehicle_type'] == 'Rented'])\n",
        "\n",
        "    print(f\"   Vehicles used: {len(osrm_routes)}/{len(vehicle_specs)} ({owned_vehicles} owned, {rented_vehicles} rented)\")\n",
        "    print(f\"   Total distance: {total_distance:.1f} km (real driving)\")\n",
        "    print(f\"   Total cost: ₨{total_cost:.2f}\")\n",
        "    print(f\"   Cost per bag: ₨{total_cost/total_demand:.2f}\")\n",
        "\n",
        "else:\n",
        "    print(\"❌ No OSRM solution found!\")\n",
        "    osrm_routes = []"
      ]
    },
    {
      "cell_type": "code",
      "execution_count": null,
      "id": "W5u26hlo5H9p",
      "metadata": {
        "id": "W5u26hlo5H9p"
      },
      "outputs": [],
      "source": []
    },
    {
      "cell_type": "code",
      "execution_count": 100,
      "id": "RwAjweq4b_PT",
      "metadata": {
        "colab": {
          "base_uri": "https://localhost:8080/"
        },
        "id": "RwAjweq4b_PT",
        "outputId": "0690c597-6a01-4c2b-bd71-ec5640ef3d38"
      },
      "outputs": [
        {
          "data": {
            "text/plain": [
              "[{'count': 6,\n",
              "  'capacity': 500,\n",
              "  'cost_per_km': 100.0,\n",
              "  'rent_limit_km': 0,\n",
              "  'fixed_rent': 0},\n",
              " {'count': 16,\n",
              "  'capacity': 100,\n",
              "  'cost_per_km': 50,\n",
              "  'rent_limit_km': 0,\n",
              "  'fixed_rent': 0},\n",
              " {'count': 4,\n",
              "  'capacity': 80,\n",
              "  'cost_per_km': 50,\n",
              "  'rent_limit_km': 0,\n",
              "  'fixed_rent': 0}]"
            ]
          },
          "execution_count": 100,
          "metadata": {},
          "output_type": "execute_result"
        }
      ],
      "source": [
        "vehicles"
      ]
    },
    {
      "cell_type": "markdown",
      "id": "lM0Q1yYRRh7l",
      "metadata": {
        "id": "lM0Q1yYRRh7l"
      },
      "source": [
        "✅ OSRM-enhanced solution found!\n",
        "\n",
        "🛣️ Getting real paths for Vehicle 2...\n",
        "🚚 Vehicle 2 (Owned - 50 bags, ₨50/km):\n",
        "   Route: Warehouse → Shop 1 → Warehouse\n",
        "   Load: 40/50 bags (80.0% full)\n",
        "   Distance: 37.4 km (OSRM real roads)\n",
        "   Cost: 37.4km × ₨50/km = ₨1871.23\n",
        "   Cost Per bag: ₨46.8\n",
        "\n",
        "🛣️ Getting real paths for Vehicle 3...\n",
        "🚚 Vehicle 3 (Owned - 50 bags, ₨50/km):\n",
        "   Route: Warehouse → Shop 3 → Shop 2 → Warehouse\n",
        "   Load: 50/50 bags (100.0% full)\n",
        "   Distance: 43.7 km (OSRM real roads)\n",
        "   Cost: 43.7km × ₨50/km = ₨2185.95\n",
        "   Cost Per bag: ₨43.7\n",
        "\n",
        "🛣️ Getting real paths for Vehicle 4...\n",
        "🚚 Vehicle 4 (Owned - 50 bags, ₨50/km):\n",
        "   Route: Warehouse → Shop 5 → Shop 4 → Shop 8 → Warehouse\n",
        "   Load: 42/50 bags (84.0% full)\n",
        "   Distance: 48.1 km (OSRM real roads)\n",
        "   Cost: 48.1km × ₨50/km = ₨2404.82\n",
        "   Cost Per bag: ₨57.3\n",
        "\n",
        "🛣️ Getting real paths for Vehicle 5...\n",
        "🚚 Vehicle 5 (Owned - 50 bags, ₨50/km):\n",
        "   Route: Warehouse → Shop 6 → Shop 7 → Warehouse\n",
        "   Load: 33/50 bags (66.0% full)\n",
        "   Distance: 28.9 km (OSRM real roads)\n",
        "   Cost: 28.9km × ₨50/km = ₨1446.82\n",
        "   Cost Per bag: ₨43.8\n",
        "\n",
        "📊 OSRM-ENHANCED SUMMARY:\n",
        "   Vehicles used: 4/5 (4 owned, 0 rented)\n",
        "   Total distance: 158.2 km (real driving)\n",
        "   Total cost: ₨7908.82\n",
        "   Cost per bag: ₨47.93"
      ]
    },
    {
      "cell_type": "code",
      "execution_count": 30,
      "id": "tOmjNymIPJmF",
      "metadata": {
        "id": "tOmjNymIPJmF"
      },
      "outputs": [],
      "source": []
    },
    {
      "cell_type": "code",
      "execution_count": null,
      "id": "mgHTj_JQLRSV",
      "metadata": {
        "id": "mgHTj_JQLRSV"
      },
      "outputs": [],
      "source": [
        "vehicles"
      ]
    },
    {
      "cell_type": "code",
      "execution_count": null,
      "id": "RU5GKg0GIltI",
      "metadata": {
        "id": "RU5GKg0GIltI"
      },
      "outputs": [],
      "source": [
        "3389/165"
      ]
    },
    {
      "cell_type": "markdown",
      "id": "j84_ZFJRDxw4",
      "metadata": {
        "id": "j84_ZFJRDxw4"
      },
      "source": [
        "### Generate Map"
      ]
    },
    {
      "cell_type": "code",
      "execution_count": 54,
      "id": "935b4b7d",
      "metadata": {
        "id": "935b4b7d"
      },
      "outputs": [],
      "source": [
        "def create_osrm_map(locations, routes, demands, filename=\"osrm_map.html\"):\n",
        "    \"\"\"Create map with real OSRM driving routes and save as HTML\"\"\"\n",
        "    center_lat = sum(loc[1] for loc in locations) / len(locations)\n",
        "    center_lon = sum(loc[2] for loc in locations) / len(locations)\n",
        "\n",
        "    m = folium.Map(location=[center_lat, center_lon], zoom_start=12)\n",
        "\n",
        "    # Add warehouse\n",
        "    folium.Marker(\n",
        "        [locations[0][1], locations[0][2]],\n",
        "        popup=f\"🏭 {locations[0][0]}\",\n",
        "        icon=folium.Icon(color='red', icon='home', prefix='fa')\n",
        "    ).add_to(m)\n",
        "\n",
        "    # Add shops\n",
        "    for i, (name, lat, lon) in enumerate(locations[1:], 1):\n",
        "        folium.Marker(\n",
        "            [lat, lon],\n",
        "            popup=f\"🏪 {name}<br>Demand: {demands[i]} bags\",\n",
        "            icon=folium.Icon(color='blue', icon='shopping-cart', prefix='fa')\n",
        "        ).add_to(m)\n",
        "\n",
        "    # Add real driving routes\n",
        "    colors = ['red', 'blue', 'green', 'purple', 'orange', 'darkred']\n",
        "\n",
        "    for i, route in enumerate(routes):\n",
        "        color = colors[i % len(colors)]\n",
        "\n",
        "        folium.PolyLine(\n",
        "            route['full_path'],\n",
        "            color=color,\n",
        "            weight=5,\n",
        "            opacity=0.8,\n",
        "            popup=f\"🚚 Vehicle {route['vehicle_id']}<br>\"\n",
        "                  f\"Real driving route<br>\"\n",
        "                  f\"Distance: {route['distance']:.1f} km<br>\"\n",
        "                  f\"Cost: ₨{route['cost']:.2f}\",\n",
        "        ).add_to(m)\n",
        "\n",
        "    # Enhanced legend\n",
        "    legend_html = f'''\n",
        "    <div style=\"position: fixed; bottom: 50px; left: 50px; width: 350px; height: 250px;\n",
        "                background-color: white; border:2px solid grey; z-index:9999;\n",
        "                font-size:14px; padding: 10px\">\n",
        "    <h4>🗺️ OSRM-Enhanced Route Map</h4>\n",
        "    <p>🏭 <span style=\"color:red\">Red</span>: Warehouse</p>\n",
        "    <p>🏪 <span style=\"color:blue\">Blue</span>: Customer Shops</p>\n",
        "    <p>🛣️ <span style=\"color:purple\">Colored Lines</span>: Real Driving Routes</p>\n",
        "    <hr>\n",
        "    <p><strong>Total Distance:</strong> {sum(r['distance'] for r in routes):.1f} km</p>\n",
        "    <p><strong>Total Cost:</strong> ₨{sum(r['cost'] for r in routes):.2f}</p>\n",
        "    <p><strong>Vehicles Used:</strong> {len(routes)}</p>\n",
        "    <p><em>Powered by OSRM real-world routing</em></p>\n",
        "    </div>\n",
        "    '''\n",
        "\n",
        "    m.get_root().html.add_child(folium.Element(legend_html))\n",
        "\n",
        "    # Save and return file name\n",
        "\n",
        "    return m\n"
      ]
    },
    {
      "cell_type": "code",
      "execution_count": 55,
      "id": "oqRl3yjDsay3",
      "metadata": {
        "id": "oqRl3yjDsay3"
      },
      "outputs": [],
      "source": [
        "import folium"
      ]
    },
    {
      "cell_type": "code",
      "execution_count": 56,
      "id": "6ca13490",
      "metadata": {
        "colab": {
          "base_uri": "https://localhost:8080/"
        },
        "id": "6ca13490",
        "outputId": "2e441153-87a8-4775-d532-9f51e43501f0"
      },
      "outputs": [
        {
          "name": "stdout",
          "output_type": "stream",
          "text": [
            "🗺️ Creating OSRM-enhanced route map...\n",
            "✅ OSRM map saved as 'osrm_optimized_routes.html'\n"
          ]
        }
      ],
      "source": [
        "\n",
        "# Create and save enhanced map\n",
        "if osrm_routes:\n",
        "    print(\"🗺️ Creating OSRM-enhanced route map...\")\n",
        "    osrm_map = create_osrm_map(locations, osrm_routes, demands)\n",
        "    osrm_map.save('osrm_optimized_routes.html')\n",
        "    print(\"✅ OSRM map saved as 'osrm_optimized_routes.html'\")\n",
        "\n",
        "    # Display if possible\n",
        "    try:\n",
        "        osrm_map\n",
        "    except:\n",
        "        print(\"💡 Open 'osrm_optimized_routes.html' in your browser!\")"
      ]
    }
  ],
  "metadata": {
    "colab": {
      "provenance": []
    },
    "kernelspec": {
      "display_name": "base",
      "language": "python",
      "name": "python3"
    },
    "language_info": {
      "codemirror_mode": {
        "name": "ipython",
        "version": 3
      },
      "file_extension": ".py",
      "mimetype": "text/x-python",
      "name": "python",
      "nbconvert_exporter": "python",
      "pygments_lexer": "ipython3",
      "version": "3.13.5"
    }
  },
  "nbformat": 4,
  "nbformat_minor": 5
}
