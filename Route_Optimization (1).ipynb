{
  "cells": [
    {
      "cell_type": "code",
      "execution_count": 52,
      "metadata": {
        "colab": {
          "base_uri": "https://localhost:8080/"
        },
        "id": "XzsRa3jR9dbq",
        "outputId": "c5339635-5283-4f61-9e52-580946c4e3ce"
      },
      "outputs": [
        {
          "name": "stdout",
          "output_type": "stream",
          "text": [
            "Requirement already satisfied: osmnx in /usr/local/lib/python3.12/dist-packages (2.0.6)\n",
            "Requirement already satisfied: geopandas>=1.0.1 in /usr/local/lib/python3.12/dist-packages (from osmnx) (1.1.1)\n",
            "Requirement already satisfied: networkx>=2.5 in /usr/local/lib/python3.12/dist-packages (from osmnx) (3.5)\n",
            "Requirement already satisfied: numpy>=1.22 in /usr/local/lib/python3.12/dist-packages (from osmnx) (2.0.2)\n",
            "Requirement already satisfied: pandas>=1.4 in /usr/local/lib/python3.12/dist-packages (from osmnx) (2.2.2)\n",
            "Requirement already satisfied: requests>=2.27 in /usr/local/lib/python3.12/dist-packages (from osmnx) (2.32.4)\n",
            "Requirement already satisfied: shapely>=2.0 in /usr/local/lib/python3.12/dist-packages (from osmnx) (2.1.1)\n",
            "Requirement already satisfied: pyogrio>=0.7.2 in /usr/local/lib/python3.12/dist-packages (from geopandas>=1.0.1->osmnx) (0.11.1)\n",
            "Requirement already satisfied: packaging in /usr/local/lib/python3.12/dist-packages (from geopandas>=1.0.1->osmnx) (25.0)\n",
            "Requirement already satisfied: pyproj>=3.5.0 in /usr/local/lib/python3.12/dist-packages (from geopandas>=1.0.1->osmnx) (3.7.2)\n",
            "Requirement already satisfied: python-dateutil>=2.8.2 in /usr/local/lib/python3.12/dist-packages (from pandas>=1.4->osmnx) (2.9.0.post0)\n",
            "Requirement already satisfied: pytz>=2020.1 in /usr/local/lib/python3.12/dist-packages (from pandas>=1.4->osmnx) (2025.2)\n",
            "Requirement already satisfied: tzdata>=2022.7 in /usr/local/lib/python3.12/dist-packages (from pandas>=1.4->osmnx) (2025.2)\n",
            "Requirement already satisfied: charset_normalizer<4,>=2 in /usr/local/lib/python3.12/dist-packages (from requests>=2.27->osmnx) (3.4.3)\n",
            "Requirement already satisfied: idna<4,>=2.5 in /usr/local/lib/python3.12/dist-packages (from requests>=2.27->osmnx) (3.10)\n",
            "Requirement already satisfied: urllib3<3,>=1.21.1 in /usr/local/lib/python3.12/dist-packages (from requests>=2.27->osmnx) (2.5.0)\n",
            "Requirement already satisfied: certifi>=2017.4.17 in /usr/local/lib/python3.12/dist-packages (from requests>=2.27->osmnx) (2025.8.3)\n",
            "Requirement already satisfied: six>=1.5 in /usr/local/lib/python3.12/dist-packages (from python-dateutil>=2.8.2->pandas>=1.4->osmnx) (1.17.0)\n"
          ]
        }
      ],
      "source": [
        "!pip install osmnx"
      ]
    },
    {
      "cell_type": "code",
      "execution_count": 1,
      "metadata": {
        "colab": {
          "base_uri": "https://localhost:8080/"
        },
        "id": "2M6JEiDZ9LDi",
        "outputId": "66a5250f-d3c8-46fc-920e-ecccd7793843"
      },
      "outputs": [
        {
          "name": "stdout",
          "output_type": "stream",
          "text": [
            "✅ All libraries imported successfully!\n"
          ]
        }
      ],
      "source": [
        "# Complete OSMnx-based VRP solution\n",
        "import osmnx as ox\n",
        "import folium\n",
        "import numpy as np\n",
        "import networkx as nx\n",
        "from math import radians, sin, cos, sqrt, atan2\n",
        "#\n",
        "\n",
        "print(\"✅ All libraries imported successfully!\")"
      ]
    },
    {
      "cell_type": "code",
      "execution_count": 4,
      "metadata": {
        "id": "uQYt4Omn9Ztl"
      },
      "outputs": [
        {
          "name": "stdout",
          "output_type": "stream",
          "text": [
            "Requirement already satisfied: ortools in /Users/user/anaconda3/lib/python3.13/site-packages (9.14.6206)\n",
            "Requirement already satisfied: absl-py>=2.0.0 in /Users/user/anaconda3/lib/python3.13/site-packages (from ortools) (2.3.1)\n",
            "Requirement already satisfied: numpy>=1.13.3 in /Users/user/anaconda3/lib/python3.13/site-packages (from ortools) (2.1.2)\n",
            "Requirement already satisfied: pandas>=2.0.0 in /Users/user/anaconda3/lib/python3.13/site-packages (from ortools) (2.2.3)\n",
            "Requirement already satisfied: protobuf<6.32,>=6.31.1 in /Users/user/anaconda3/lib/python3.13/site-packages (from ortools) (6.31.1)\n",
            "Requirement already satisfied: typing-extensions>=4.12 in /Users/user/anaconda3/lib/python3.13/site-packages (from ortools) (4.12.2)\n",
            "Requirement already satisfied: immutabledict>=3.0.0 in /Users/user/anaconda3/lib/python3.13/site-packages (from ortools) (4.2.1)\n",
            "Requirement already satisfied: python-dateutil>=2.8.2 in /Users/user/anaconda3/lib/python3.13/site-packages (from pandas>=2.0.0->ortools) (2.9.0.post0)\n",
            "Requirement already satisfied: pytz>=2020.1 in /Users/user/anaconda3/lib/python3.13/site-packages (from pandas>=2.0.0->ortools) (2025.2)\n",
            "Requirement already satisfied: tzdata>=2022.7 in /Users/user/anaconda3/lib/python3.13/site-packages (from pandas>=2.0.0->ortools) (2025.2)\n",
            "Requirement already satisfied: six>=1.5 in /Users/user/anaconda3/lib/python3.13/site-packages (from python-dateutil>=2.8.2->pandas>=2.0.0->ortools) (1.17.0)\n",
            "Note: you may need to restart the kernel to use updated packages.\n"
          ]
        }
      ],
      "source": [
        "#%pip uninstall ortools -y\n",
        "%pip install ortools"
      ]
    },
    {
      "cell_type": "code",
      "execution_count": 5,
      "metadata": {
        "id": "DguTCckd9RmI"
      },
      "outputs": [],
      "source": [
        "from ortools.constraint_solver import pywrapcp, routing_enums_pb2"
      ]
    },
    {
      "cell_type": "code",
      "execution_count": 55,
      "metadata": {
        "id": "ITNR7G8E9YuF"
      },
      "outputs": [],
      "source": []
    },
    {
      "cell_type": "code",
      "execution_count": 56,
      "metadata": {
        "colab": {
          "base_uri": "https://localhost:8080/"
        },
        "id": "cf2b8810",
        "outputId": "6e1d37e8-4da6-474d-c002-eab1b199c934"
      },
      "outputs": [
        {
          "name": "stdout",
          "output_type": "stream",
          "text": [
            "Requirement already satisfied: ortools in /usr/local/lib/python3.12/dist-packages (9.14.6206)\n",
            "Requirement already satisfied: absl-py>=2.0.0 in /usr/local/lib/python3.12/dist-packages (from ortools) (2.3.1)\n",
            "Requirement already satisfied: numpy>=1.13.3 in /usr/local/lib/python3.12/dist-packages (from ortools) (2.0.2)\n",
            "Requirement already satisfied: pandas>=2.0.0 in /usr/local/lib/python3.12/dist-packages (from ortools) (2.2.2)\n",
            "Requirement already satisfied: protobuf<6.32,>=6.31.1 in /usr/local/lib/python3.12/dist-packages (from ortools) (6.31.1)\n",
            "Requirement already satisfied: typing-extensions>=4.12 in /usr/local/lib/python3.12/dist-packages (from ortools) (4.15.0)\n",
            "Requirement already satisfied: immutabledict>=3.0.0 in /usr/local/lib/python3.12/dist-packages (from ortools) (4.2.1)\n",
            "Requirement already satisfied: python-dateutil>=2.8.2 in /usr/local/lib/python3.12/dist-packages (from pandas>=2.0.0->ortools) (2.9.0.post0)\n",
            "Requirement already satisfied: pytz>=2020.1 in /usr/local/lib/python3.12/dist-packages (from pandas>=2.0.0->ortools) (2025.2)\n",
            "Requirement already satisfied: tzdata>=2022.7 in /usr/local/lib/python3.12/dist-packages (from pandas>=2.0.0->ortools) (2025.2)\n",
            "Requirement already satisfied: six>=1.5 in /usr/local/lib/python3.12/dist-packages (from python-dateutil>=2.8.2->pandas>=2.0.0->ortools) (1.17.0)\n"
          ]
        }
      ],
      "source": [
        "!pip install ortools"
      ]
    },
    {
      "cell_type": "code",
      "execution_count": 57,
      "metadata": {
        "id": "tEjA5uQ__zO_"
      },
      "outputs": [],
      "source": [
        "### Loca"
      ]
    },
    {
      "cell_type": "markdown",
      "metadata": {
        "id": "3TUov1lF_z8R"
      },
      "source": [
        "### Locations and Vehicles"
      ]
    },
    {
      "cell_type": "code",
      "execution_count": 58,
      "metadata": {
        "colab": {
          "base_uri": "https://localhost:8080/"
        },
        "id": "xLyNkDoz9oDx",
        "outputId": "300b09e5-a4e5-4fb9-c787-e59006d807d8"
      },
      "outputs": [
        {
          "name": "stdout",
          "output_type": "stream",
          "text": [
            "📍 Setup complete:\n",
            "  Locations: 9\n",
            "  Total demand: 165 bags\n"
          ]
        }
      ],
      "source": [
        "# Our delivery locations in Lahore\n",
        "locations = [\n",
        "    (\"Warehouse\", 31.5204, 74.3587),  # central Lahore (depot)\n",
        "    (\"Shop A\",    31.5340, 74.3572),\n",
        "    (\"Shop B\",    31.5157, 74.3673),\n",
        "    (\"Shop C\",    31.5280, 74.3810),\n",
        "    (\"Shop D\",    31.5060, 74.3430),\n",
        "    (\"Shop E\",    31.5400, 74.3440),\n",
        "    (\"Shop F\",    31.5220, 74.3320),\n",
        "    (\"Shop G\",    31.5100, 74.3790),\n",
        "    (\"Shop H\",    31.5380, 74.3720),\n",
        "]\n",
        "\n",
        "# Demands (warehouse = 0, shops need fertilizer bags)\n",
        "demands = [0, 40, 20, 30, 10, 12, 15, 18, 20]\n",
        "\n",
        "\n",
        "print(\"📍 Setup complete:\")\n",
        "print(f\"  Locations: {len(locations)}\")\n",
        "print(f\"  Total demand: {sum(demands)} bags\")\n"
      ]
    },
    {
      "cell_type": "markdown",
      "metadata": {
        "id": "7QVDbhurCzFq"
      },
      "source": [
        "Real data - Time to validate"
      ]
    },
    {
      "cell_type": "code",
      "execution_count": 58,
      "metadata": {
        "id": "a_nA84EKC9HH"
      },
      "outputs": [],
      "source": []
    },
    {
      "cell_type": "code",
      "execution_count": 59,
      "metadata": {
        "colab": {
          "base_uri": "https://localhost:8080/"
        },
        "id": "KCZDiTwsDlwk",
        "outputId": "cc46eb46-e7fc-40f9-8b78-9301fd2f5029"
      },
      "outputs": [
        {
          "name": "stdout",
          "output_type": "stream",
          "text": [
            "locations = [\n",
            "    ('Shop 1', 31.570639, 72.889028),\n",
            "    ('Shop 2', 31.591778, 72.836139),\n",
            "    ('Shop 3', 31.495, 72.85875),\n",
            "    ('Shop 4', 31.653, 72.865278),\n",
            "    ('Shop 5', 31.677139, 72.909444),\n",
            "    ('Shop 6', 31.480528, 72.652944),\n",
            "    ('Shop 7', 31.431111, 72.745694),\n",
            "    ('Shop 8', 31.644861, 72.818),\n",
            "    ('Shop 9', 31.643861, 72.636389),\n",
            "    ('Shop 10', 31.613639, 72.455833),\n",
            "    ('Shop 11', 31.613806, 72.750056),\n",
            "    ('Shop 12', 31.431444, 72.496167),\n",
            "    ('Shop 13', 31.392056, 72.77875),\n",
            "    ('Shop 14', 31.454667, 72.798083),\n",
            "    ('Shop 15', 31.636528, 72.503222),\n",
            "    ('Shop 16', 31.597333, 72.611944),\n",
            "    ('Shop 17', 31.536472, 72.535139),\n",
            "    ('Shop 18', 31.482861, 72.705389),\n",
            "    ('Shop 19', 31.57825, 72.667722),\n",
            "    ('Shop 20', 31.659056, 72.539472),\n",
            "]\n"
          ]
        }
      ],
      "source": [
        "def dms_to_dd(dms_str):\n",
        "    \"\"\"\n",
        "    Convert coordinates from DMS (31°34'14.3\"N) to decimal degrees.\n",
        "    \"\"\"\n",
        "    dms_str = dms_str.strip()\n",
        "\n",
        "    # Extract parts\n",
        "    deg, rest = dms_str.split(\"°\")\n",
        "    min_, rest = rest.split(\"'\")\n",
        "    sec, hemi = rest.split('\"') if '\"' in rest else (rest[:-1], rest[-1])\n",
        "\n",
        "    deg, min_, sec = float(deg), float(min_), float(sec)\n",
        "    dd = deg + (min_ / 60.0) + (sec / 3600.0)\n",
        "\n",
        "    # Hemisphere\n",
        "    if hemi in [\"S\", \"W\"]:\n",
        "        dd *= -1\n",
        "\n",
        "    return dd\n",
        "\n",
        "# Input coordinates\n",
        "coords = [\n",
        "\n",
        "    (\"Shop 1\", \"31°34'14.3\\\"N\", \"72°53'20.5\\\"E\"),\n",
        "    (\"Shop 2\", \"31°35'30.4\\\"N\", \"72°50'10.1\\\"E\"),\n",
        "    (\"Shop 3\", \"31°29'42.0\\\"N\", \"72°51'31.5\\\"E\"),\n",
        "    (\"Shop 4\", \"31°39'10.8\\\"N\", \"72°51'55.0\\\"E\"),\n",
        "    (\"Shop 5\", \"31°40'37.7\\\"N\", \"72°54'34.0\\\"E\"),\n",
        "    (\"Shop 6\", \"31°28'49.9\\\"N\", \"72°39'10.6\\\"E\"),\n",
        "    (\"Shop 7\", \"31°25'52.0\\\"N\", \"72°44'44.5\\\"E\"),\n",
        "    (\"Shop 8\", \"31°38'41.5\\\"N\", \"72°49'04.8\\\"E\"),\n",
        "    (\"Shop 9\", \"31°38'37.9\\\"N\", \"72°38'11.0\\\"E\"),\n",
        "    (\"Shop 10\", \"31°36'49.1\\\"N\", \"72°27'21.0\\\"E\"),\n",
        "    (\"Shop 11\", \"31°36'49.7\\\"N\", \"72°45'00.2\\\"E\"),\n",
        "    (\"Shop 12\", \"31°25'53.2\\\"N\", \"72°29'46.2\\\"E\"),\n",
        "    (\"Shop 13\", \"31°23'31.4\\\"N\", \"72°46'43.5\\\"E\"),\n",
        "    (\"Shop 14\", \"31°27'16.8\\\"N\", \"72°47'53.1\\\"E\"),\n",
        "    (\"Shop 15\", \"31°38'11.5\\\"N\", \"72°30'11.6\\\"E\"),\n",
        "    (\"Shop 16\", \"31°35'50.4\\\"N\", \"72°36'43.0\\\"E\"),\n",
        "    (\"Shop 17\", \"31°32'11.3\\\"N\", \"72°32'06.5\\\"E\"),\n",
        "    (\"Shop 18\", \"31°28'58.3\\\"N\", \"72°42'19.4\\\"E\"),\n",
        "    (\"Shop 19\", \"31°34'41.7\\\"N\", \"72°40'03.8\\\"E\"),\n",
        "    (\"Shop 20\", \"31°39'32.6\\\"N\", \"72°32'22.1\\\"E\"),\n",
        "]\n",
        "\n",
        "# Convert all\n",
        "locations = []\n",
        "for name, lat_dms, lon_dms in coords:\n",
        "    lat_dd = dms_to_dd(lat_dms)\n",
        "    lon_dd = dms_to_dd(lon_dms)\n",
        "    locations.append((name, round(lat_dd, 6), round(lon_dd, 6)))\n",
        "\n",
        "print(\"locations = [\")\n",
        "for loc in locations:\n",
        "    print(f\"    {loc},\")\n",
        "print(\"]\")\n"
      ]
    },
    {
      "cell_type": "code",
      "execution_count": 75,
      "metadata": {
        "colab": {
          "base_uri": "https://localhost:8080/"
        },
        "id": "qVA6sfyOCxxp",
        "outputId": "7a5d5cb8-13e7-452b-e557-cbeeec698958"
      },
      "outputs": [
        {
          "name": "stdout",
          "output_type": "stream",
          "text": [
            "📍 Setup complete:\n",
            "  Locations: 21\n",
            "  Total demand: 165 bags\n"
          ]
        }
      ],
      "source": [
        "# Our delivery locations in Lahore\n",
        "locations = [\n",
        "    #(\"Warehouse\", 31.5204, 74.3587),\n",
        "    # central Lahore (depot)\n",
        "    #31°31'20.4\"N 72°34'35.4\"E\n",
        "    (\"Warehouse\", 31.522334, 72.576500),\n",
        "    ('Shop 1', 31.570639, 72.889028),\n",
        "    ('Shop 2', 31.591778, 72.836139),\n",
        "    ('Shop 3', 31.495, 72.85875),\n",
        "    ('Shop 4', 31.653, 72.865278),\n",
        "    ('Shop 5', 31.677139, 72.909444),\n",
        "    ('Shop 6', 31.480528, 72.652944),\n",
        "    ('Shop 7', 31.431111, 72.745694),\n",
        "    ('Shop 8', 31.644861, 72.818),\n",
        "    ('Shop 9', 31.643861, 72.636389),\n",
        "    ('Shop 10', 31.613639, 72.455833),\n",
        "    ('Shop 11', 31.613806, 72.750056),\n",
        "    ('Shop 12', 31.431444, 72.496167),\n",
        "    ('Shop 13', 31.392056, 72.77875),\n",
        "    ('Shop 14', 31.454667, 72.798083),\n",
        "    ('Shop 15', 31.636528, 72.503222),\n",
        "    ('Shop 16', 31.597333, 72.611944),\n",
        "    ('Shop 17', 31.536472, 72.535139),\n",
        "    ('Shop 18', 31.482861, 72.705389),\n",
        "    ('Shop 19', 31.57825, 72.667722),\n",
        "    ('Shop 20', 31.659056, 72.539472),\n",
        "]\n",
        "\n",
        "# Demands (warehouse = 0, shops need fertilizer bags)\n",
        "demands = [0, 40, 20, 30, 10, 12, 15, 18, 20,0,0,0,0,0,0,0,0,0,0,0,0]\n",
        "\n",
        "\n",
        "print(\"📍 Setup complete:\")\n",
        "print(f\"  Locations: {len(locations)}\")\n",
        "print(f\"  Total demand: {sum(demands)} bags\")\n"
      ]
    },
    {
      "cell_type": "code",
      "execution_count": 76,
      "metadata": {
        "colab": {
          "base_uri": "https://localhost:8080/"
        },
        "id": "2B4NAvItIMYM",
        "outputId": "471656dd-8ca6-4f73-ac05-1ddb4019bf26"
      },
      "outputs": [
        {
          "data": {
            "text/plain": [
              "21"
            ]
          },
          "execution_count": 76,
          "metadata": {},
          "output_type": "execute_result"
        }
      ],
      "source": [
        "len(demands)"
      ]
    },
    {
      "cell_type": "code",
      "execution_count": 96,
      "metadata": {
        "colab": {
          "base_uri": "https://localhost:8080/"
        },
        "id": "VumYIick_6Tj",
        "outputId": "6f6ffb50-16ea-469d-c759-665362921e50"
      },
      "outputs": [
        {
          "name": "stdout",
          "output_type": "stream",
          "text": [
            "\n",
            "🚛 Enhanced vehicle fleet:\n",
            "  1x 200-bag OWNED truck(s) @ ₨100.0/km\n",
            "  1x 100-bag OWNED truck(s) @ ₨40.0/km\n",
            "  2x 80-bag RENTAL truck(s):\n",
            "    • Daily rental: ₨5000.0\n",
            "    • Free km limit: 50 km\n",
            "    • Excess cost: ₨80.0/km\n",
            "  1x 50-bag RENTAL truck(s):\n",
            "    • Daily rental: ₨3000.0\n",
            "    • Free km limit: 40 km\n",
            "    • Excess cost: ₨60.0/km\n"
          ]
        }
      ],
      "source": [
        "# Enhanced vehicle fleet with rental and owned vehicles\n",
        "vehicles = [\n",
        "    {\n",
        "        \"count\": 1,\n",
        "        \"capacity\": 200,\n",
        "        \"type\": \"owned\",\n",
        "        \"cost_per_km\": 100.0,  # Simple cost per km for owned vehicles\n",
        "    },\n",
        "        {\n",
        "        \"count\": 1,\n",
        "        \"capacity\": 100,\n",
        "        \"type\": \"owned\",\n",
        "        \"cost_per_km\": 40.0,# Cost per km after limit exceeded\n",
        "    },\n",
        "    {\n",
        "        \"count\": 2,\n",
        "        \"capacity\": 80,\n",
        "        \"type\": \"rental\",\n",
        "        \"rental_cost\": 5000.0,     # Fixed daily rental cost\n",
        "        \"km_limit\": 50,            # Free km included in rental\n",
        "        \"excess_cost_per_km\": 80.0 # Cost per km after limit exceeded\n",
        "    },\n",
        "    {\n",
        "        \"count\": 1,\n",
        "        \"capacity\": 50,\n",
        "        \"type\": \"rental\",\n",
        "        \"rental_cost\": 3000.0,     # Fixed daily rental cost\n",
        "        \"km_limit\": 40,            # Free km included in rental\n",
        "        \"excess_cost_per_km\": 60.0 # Cost per km after limit exceeded\n",
        "    }\n",
        "]\n",
        "\n",
        "print(\"\\n🚛 Enhanced vehicle fleet:\")\n",
        "for i, v in enumerate(vehicles):\n",
        "    if v[\"type\"] == \"owned\":\n",
        "        print(f\"  {v['count']}x {v['capacity']}-bag OWNED truck(s) @ ₨{v['cost_per_km']}/km\")\n",
        "    else:\n",
        "        print(f\"  {v['count']}x {v['capacity']}-bag RENTAL truck(s):\")\n",
        "        print(f\"    • Daily rental: ₨{v['rental_cost']}\")\n",
        "        print(f\"    • Free km limit: {v['km_limit']} km\")\n",
        "        print(f\"    • Excess cost: ₨{v['excess_cost_per_km']}/km\")"
      ]
    },
    {
      "cell_type": "code",
      "execution_count": 97,
      "metadata": {
        "colab": {
          "base_uri": "https://localhost:8080/"
        },
        "id": "BaIjSc4h9uw0",
        "outputId": "2cf1364c-8c7d-4a26-9be1-25273a747c2d"
      },
      "outputs": [
        {
          "name": "stdout",
          "output_type": "stream",
          "text": [
            "📍 Downloading network around center: (31.5574, 72.6967)\n",
            "✅ SUCCESS! Network downloaded:\n",
            "   Nodes: 475\n",
            "   Edges: 1228\n"
          ]
        }
      ],
      "source": [
        "# Download road network using the method that worked\n",
        "def download_road_network_safe(locations):\n",
        "    \"\"\"Download road network using smaller area method\"\"\"\n",
        "    try:\n",
        "        # Use center point method (which worked for you)\n",
        "        center_lat = sum(loc[1] for loc in locations) / len(locations)\n",
        "        center_lon = sum(loc[2] for loc in locations) / len(locations)\n",
        "\n",
        "        print(f\"📍 Downloading network around center: ({center_lat:.4f}, {center_lon:.4f})\")\n",
        "\n",
        "        # Download with 5km radius (adjust if needed)\n",
        "        G = ox.graph_from_point((center_lat, center_lon), dist=5000, network_type='drive')\n",
        "\n",
        "        print(f\"✅ SUCCESS! Network downloaded:\")\n",
        "        print(f\"   Nodes: {len(G.nodes)}\")\n",
        "        print(f\"   Edges: {len(G.edges)}\")\n",
        "\n",
        "        return G, True\n",
        "\n",
        "    except Exception as e:\n",
        "        print(f\"❌ Network download failed: {e}\")\n",
        "        return None, False\n",
        "\n",
        "# Download the network\n",
        "G, network_success = download_road_network_safe(locations)"
      ]
    },
    {
      "cell_type": "code",
      "execution_count": 98,
      "metadata": {
        "colab": {
          "base_uri": "https://localhost:8080/"
        },
        "id": "eL0nK0At9zg0",
        "outputId": "4ed52011-df3c-4ebe-ced8-1fc07b3ae6f9"
      },
      "outputs": [
        {
          "name": "stdout",
          "output_type": "stream",
          "text": [
            "🛣️ Calculating real road distances...\n",
            "   Warehouse: found node 9936498149\n",
            "   Shop 1: found node 4470036541\n",
            "   Shop 2: found node 4470036541\n",
            "   Shop 3: found node 2904594039\n",
            "   Shop 4: found node 4470036541\n",
            "   Shop 5: found node 4470036541\n",
            "   Shop 6: found node 9936524427\n",
            "   Shop 7: found node 9936503630\n",
            "   Shop 8: found node 4470036541\n",
            "   Shop 9: found node 9923622235\n",
            "   Shop 10: found node 9923635326\n",
            "   Shop 11: found node 5759112421\n",
            "   Shop 12: found node 9936498153\n",
            "   Shop 13: found node 9936503630\n",
            "   Shop 14: found node 2904594039\n",
            "   Shop 15: found node 9923635326\n",
            "   Shop 16: found node 9923635326\n",
            "   Shop 17: found node 9936498168\n",
            "   Shop 18: found node 9936503627\n",
            "   Shop 19: found node 9925094715\n",
            "   Shop 20: found node 9923622235\n",
            "✅ Real road distances calculated!\n"
          ]
        }
      ],
      "source": [
        "def haversine_km(lat1, lon1, lat2, lon2):\n",
        "    \"\"\"Fallback distance calculation\"\"\"\n",
        "    R = 6371.0\n",
        "    dlat = radians(lat2 - lat1)\n",
        "    dlon = radians(lon2 - lon1)\n",
        "    a = sin(dlat/2)**2 + cos(radians(lat1)) * cos(radians(lat2)) * sin(dlon/2)**2\n",
        "    c = 2 * atan2(sqrt(a), sqrt(1-a))\n",
        "    return R * c\n",
        "\n",
        "def calculate_distance_matrix(locations, graph=None):\n",
        "    \"\"\"Calculate distance matrix using OSMnx or fallback to haversine\"\"\"\n",
        "    n = len(locations)\n",
        "    dist_matrix = np.zeros((n, n))\n",
        "\n",
        "    if graph is not None:\n",
        "        print(\"🛣️ Calculating real road distances...\")\n",
        "\n",
        "        # Find nearest nodes for each location\n",
        "        nearest_nodes = []\n",
        "        for i, (name, lat, lon) in enumerate(locations):\n",
        "            try:\n",
        "                node = ox.nearest_nodes(graph, lon, lat)\n",
        "                nearest_nodes.append(node)\n",
        "                print(f\"   {name}: found node {node}\")\n",
        "            except Exception as e:\n",
        "                print(f\"   ❌ {name}: error - {e}\")\n",
        "                nearest_nodes.append(None)\n",
        "\n",
        "        # Calculate distances\n",
        "        for i in range(n):\n",
        "            for j in range(n):\n",
        "                if i == j:\n",
        "                    dist_matrix[i][j] = 0\n",
        "                elif nearest_nodes[i] and nearest_nodes[j]:\n",
        "                    try:\n",
        "                        # Real road distance\n",
        "                        path = nx.shortest_path(graph, nearest_nodes[i], nearest_nodes[j], weight='length')\n",
        "                        path_length = sum(ox.utils_graph.get_route_edge_attributes(graph, path, 'length'))\n",
        "                        dist_matrix[i][j] = path_length / 1000  # Convert to km\n",
        "                    except:\n",
        "                        # Fallback to haversine\n",
        "                        dist_matrix[i][j] = haversine_km(locations[i][1], locations[i][2],\n",
        "                                                       locations[j][1], locations[j][2]) * 1.25\n",
        "                else:\n",
        "                    # Fallback to haversine\n",
        "                    dist_matrix[i][j] = haversine_km(locations[i][1], locations[i][2],\n",
        "                                                   locations[j][1], locations[j][2]) * 1.25\n",
        "\n",
        "        print(\"✅ Real road distances calculated!\")\n",
        "\n",
        "    else:\n",
        "        print(\"🔄 Using haversine distances...\")\n",
        "        for i in range(n):\n",
        "            for j in range(n):\n",
        "                if i == j:\n",
        "                    dist_matrix[i][j] = 0\n",
        "                else:\n",
        "                    dist_matrix[i][j] = haversine_km(locations[i][1], locations[i][2],\n",
        "                                                   locations[j][1], locations[j][2]) * 1.25\n",
        "\n",
        "    return dist_matrix\n",
        "\n",
        "# Calculate distances\n",
        "distance_matrix = calculate_distance_matrix(locations, G if network_success else None)"
      ]
    },
    {
      "cell_type": "code",
      "execution_count": 99,
      "metadata": {
        "colab": {
          "base_uri": "https://localhost:8080/"
        },
        "id": "C-nvwJBh9yGM",
        "outputId": "ab43c821-ee06-4770-eb77-1eddf9de1038"
      },
      "outputs": [
        {
          "name": "stdout",
          "output_type": "stream",
          "text": [
            "\n",
            "📊 Distance Matrix (km):\n",
            "          0     1     2     3     4     5     6     7     8     9    10    11    12    13    14    15    16    17    18    19    20\n",
            " 0:    0.0  37.6  32.2  33.7  38.7  44.9  10.8  23.7  33.3  18.3  19.1  24.2  15.8  30.0  27.9  18.1  11.2   5.3  16.2  13.3  19.5  (Warehouse)\n",
            " 1:   37.6   0.0   6.9  11.1  11.8  15.0  30.6  25.8  13.3  31.6  51.6  17.5  50.4  28.1  19.4  46.6  33.0  42.2  24.9  26.2  43.2  (Shop 1)\n",
            " 2:   32.2   6.9   0.0  13.7   9.2  14.7  26.6  24.8   7.7  24.7  45.1  10.6  46.0  28.6  19.6  39.9  26.6  36.5  21.7  20.0  36.3  (Shop 2)\n",
            " 3:   33.7  11.1  13.7   0.0  22.0  26.0  24.5  16.1  21.4  33.5  50.5  20.9  43.9  17.2   9.1  46.5  32.5  38.8  18.3  25.4  44.2  (Shop 3)\n",
            " 4:   38.7  11.8   9.2  22.0   0.0   6.2  34.7  33.9   5.7  27.1  48.8  14.7  53.5  37.7  28.7  42.9  31.0  42.3  30.3  25.6  38.6  (Shop 4)\n",
            " 5:   44.9  15.0  14.7  26.0   6.2   0.0  40.9  39.3  11.7  32.6  54.4  20.8  59.7  42.5  33.6  48.4  36.9  48.4  36.2  31.7  43.8  (Shop 5)\n",
            " 6:   10.8  30.6  26.6  24.5  34.7  40.9   0.0  13.0  30.1  22.8  29.8  21.8  19.8  19.3  17.6  28.0  16.9  16.0   6.2  13.7  28.2  (Shop 6)\n",
            " 7:   23.7  25.8  24.8  16.1  33.9  39.3  13.0   0.0  30.9  32.3  42.7  25.4  29.6   6.7   7.0  40.5  28.0  28.9   8.6  22.4  40.0  (Shop 7)\n",
            " 8:   33.3  13.3   7.7  21.4   5.7  11.7  30.1  30.9   0.0  21.5  43.1   9.1  48.3  35.4  26.5  37.3  25.3  36.7  26.2  20.1  33.0  (Shop 8)\n",
            " 9:   18.3  31.6  24.7  33.5  27.1  32.6  22.8  32.3  21.5   0.0  21.8  14.1  33.9  38.9  32.5  15.8   7.1  19.1  23.8   9.8  11.7  (Shop 9)\n",
            "10:   19.1  51.6  45.1  50.5  48.8  54.4  29.8  42.7  43.1  21.8   0.0  34.8  25.8  49.1  46.2   6.4  18.6  14.3  34.7  25.6  11.7  (Shop 10)\n",
            "11:   24.2  17.5  10.6  20.9  14.7  20.8  21.8  25.4   9.1  14.1  34.8   0.0  39.3  31.0  22.8  29.4  16.5  27.6  19.0  10.9  25.7  (Shop 11)\n",
            "12:   15.8  50.4  46.0  43.9  53.5  59.7  19.8  29.6  48.3  33.9  25.8  39.3   0.0  34.0  35.9  28.5  26.8  15.3  25.8  28.8  32.0  (Shop 12)\n",
            "13:   30.0  28.1  28.6  17.2  37.7  42.5  19.3   6.7  35.4  38.9  49.1  31.0  34.0   0.0   9.0  47.1  34.7  35.2  15.3  29.0  46.7  (Shop 13)\n",
            "14:   27.9  19.4  19.6   9.1  28.7  33.6  17.6   7.0  26.5  32.5  46.2  22.8  35.9   9.0   0.0  43.1  29.7  33.2  11.7  23.1  41.8  (Shop 14)\n",
            "15:   18.1  46.6  39.9  46.5  42.9  48.4  28.0  40.5  37.3  15.8   6.4  29.4  28.5  47.1  43.1   0.0  14.0  14.4  32.1  21.1   5.3  (Shop 15)\n",
            "16:   11.2  33.0  26.6  32.5  31.0  36.9  16.9  28.0  25.3   7.1  18.6  16.5  26.8  34.7  29.7  14.0   0.0  12.4  19.4   7.1  12.1  (Shop 16)\n",
            "17:    5.3  42.2  36.5  38.8  42.3  48.4  16.0  28.9  36.7  19.1  14.3  27.6  15.3  35.2  33.2  14.4  12.4   0.0  21.5  16.7  17.0  (Shop 17)\n",
            "18:   16.2  24.9  21.7  18.3  30.3  36.2   6.2   8.6  26.2  23.8  34.7  19.0  25.8  15.3  11.7  32.1  19.4  21.5   0.0  14.0  31.4  (Shop 18)\n",
            "19:   13.3  26.2  20.0  25.4  25.6  31.7  13.7  22.4  20.1   9.8  25.6  10.9  28.8  29.0  23.1  21.1   7.1  16.7  14.0   0.0  18.9  (Shop 19)\n",
            "20:   19.5  43.2  36.3  44.2  38.6  43.8  28.2  40.0  33.0  11.7  11.7  25.7  32.0  46.7  41.8   5.3  12.1  17.0  31.4  18.9   0.0  (Shop 20)\n",
            "\n",
            "🚛 Distance calculation method: OSMnx Real Roads\n"
          ]
        }
      ],
      "source": [
        "# Display the distance matrix\n",
        "print(\"\\n📊 Distance Matrix (km):\")\n",
        "print(\"     \", end=\"\")\n",
        "for i in range(len(locations)):\n",
        "    print(f\"{i:6}\", end=\"\")\n",
        "print()\n",
        "\n",
        "for i in range(len(locations)):\n",
        "    print(f\"{i:2}: \", end=\"\")\n",
        "    for j in range(len(locations)):\n",
        "        print(f\"{distance_matrix[i][j]:6.1f}\", end=\"\")\n",
        "    print(f\"  ({locations[i][0]})\")\n",
        "\n",
        "print(f\"\\n🚛 Distance calculation method: {'OSMnx Real Roads' if network_success else 'Haversine + 25%'}\")"
      ]
    },
    {
      "cell_type": "code",
      "execution_count": 100,
      "metadata": {
        "colab": {
          "base_uri": "https://localhost:8080/"
        },
        "id": "mVmAOCx69yDk",
        "outputId": "6bd7f6ab-99e1-40e1-abac-e60f2a2bd97a"
      },
      "outputs": [
        {
          "name": "stdout",
          "output_type": "stream",
          "text": [
            "\n",
            "🔧 Enhanced OR-Tools VRP Setup:\n",
            "   Locations: 21\n",
            "   Vehicles: 5\n",
            "     Vehicle 0: 200 bags, OWNED @ ₨100.0/km\n",
            "     Vehicle 1: 100 bags, OWNED @ ₨40.0/km\n",
            "     Vehicle 2: 80 bags, RENTAL:\n",
            "       • Daily cost: ₨5000.0\n",
            "       • Free km: 50\n",
            "       • Excess: ₨80.0/km\n",
            "     Vehicle 3: 80 bags, RENTAL:\n",
            "       • Daily cost: ₨5000.0\n",
            "       • Free km: 50\n",
            "       • Excess: ₨80.0/km\n",
            "     Vehicle 4: 50 bags, RENTAL:\n",
            "       • Daily cost: ₨3000.0\n",
            "       • Free km: 40\n",
            "       • Excess: ₨60.0/km\n",
            "✅ Enhanced routing model created!\n"
          ]
        }
      ],
      "source": [
        "# Enhanced OR-Tools preparation with rental vehicle support\n",
        "SCALE = 100\n",
        "dist_matrix_int = [[int(round(d * SCALE)) for d in row] for row in distance_matrix]\n",
        "\n",
        "# Enhanced vehicle specs with full rental information\n",
        "vehicle_specs = []\n",
        "vehicle_details = []  # Keep track of original specs for cost calculation\n",
        "\n",
        "for v in vehicles:\n",
        "    for _ in range(v[\"count\"]):\n",
        "        # For OR-Tools compatibility, keep capacity and a basic cost\n",
        "        vehicle_specs.append((v[\"capacity\"], v.get(\"cost_per_km\", 0)))\n",
        "        # Store full vehicle specification for enhanced cost calculation\n",
        "        vehicle_details.append(v)\n",
        "\n",
        "print(f\"\\n🔧 Enhanced OR-Tools VRP Setup:\")\n",
        "print(f\"   Locations: {len(locations)}\")\n",
        "print(f\"   Vehicles: {len(vehicle_specs)}\")\n",
        "\n",
        "for i, (cap, _) in enumerate(vehicle_specs):\n",
        "    v_detail = vehicle_details[i]\n",
        "    if v_detail[\"type\"] == \"owned\":\n",
        "        print(f\"     Vehicle {i}: {cap} bags, OWNED @ ₨{v_detail['cost_per_km']}/km\")\n",
        "    else:\n",
        "        print(f\"     Vehicle {i}: {cap} bags, RENTAL:\")\n",
        "        print(f\"       • Daily cost: ₨{v_detail['rental_cost']}\")\n",
        "        print(f\"       • Free km: {v_detail['km_limit']}\")\n",
        "        print(f\"       • Excess: ₨{v_detail['excess_cost_per_km']}/km\")\n",
        "\n",
        "# Create routing model\n",
        "manager = pywrapcp.RoutingIndexManager(len(dist_matrix_int), len(vehicle_specs), 0)\n",
        "routing = pywrapcp.RoutingModel(manager)\n",
        "print(\"✅ Enhanced routing model created!\")"
      ]
    },
    {
      "cell_type": "markdown",
      "metadata": {
        "id": "f9Mlt4LD94S6"
      },
      "source": []
    },
    {
      "cell_type": "code",
      "execution_count": 101,
      "metadata": {
        "colab": {
          "base_uri": "https://localhost:8080/"
        },
        "id": "hn7Vr5nB9yAT",
        "outputId": "eb70166c-d281-43f6-fcb9-fed644cf2425"
      },
      "outputs": [
        {
          "name": "stdout",
          "output_type": "stream",
          "text": [
            "\n",
            "🔧 Enhanced OR-Tools VRP Setup:\n",
            "   Locations: 21\n",
            "   Vehicles: 5\n",
            "     Vehicle 0: 200 bags, OWNED @ ₨100.0/km\n",
            "     Vehicle 1: 100 bags, OWNED @ ₨40.0/km\n",
            "     Vehicle 2: 80 bags, RENTAL (₨5000.0, 50km limit)\n",
            "     Vehicle 3: 80 bags, RENTAL (₨5000.0, 50km limit)\n",
            "     Vehicle 4: 50 bags, RENTAL (₨3000.0, 40km limit)\n",
            "✅ Enhanced cost evaluators registered!\n",
            "✅ Constraints and costs added!\n"
          ]
        }
      ],
      "source": [
        "# Enhanced cost evaluator for rental and owned vehicles\n",
        "def create_enhanced_cost_evaluator(vehicle_spec, dist_matrix, manager, scale):\n",
        "    \"\"\"Create cost evaluator that handles both owned and rental vehicles\"\"\"\n",
        "\n",
        "    if vehicle_spec[\"type\"] == \"owned\":\n",
        "        # Simple cost per km for owned vehicles\n",
        "        cost_per_km = vehicle_spec[\"cost_per_km\"]\n",
        "        def owned_cost_eval(from_index, to_index):\n",
        "            from_node = manager.IndexToNode(from_index)\n",
        "            to_node = manager.IndexToNode(to_index)\n",
        "            distance_km = dist_matrix[from_node][to_node] / scale\n",
        "            return int(round(distance_km * cost_per_km * 100))\n",
        "        return owned_cost_eval\n",
        "\n",
        "    else:  # rental vehicle\n",
        "        rental_cost = vehicle_spec[\"rental_cost\"]\n",
        "        km_limit = vehicle_spec[\"km_limit\"]\n",
        "        excess_cost_per_km = vehicle_spec[\"excess_cost_per_km\"]\n",
        "\n",
        "        def rental_cost_eval(from_index, to_index):\n",
        "            from_node = manager.IndexToNode(from_index)\n",
        "            to_node = manager.IndexToNode(to_index)\n",
        "            distance_km = dist_matrix[from_node][to_node] / scale\n",
        "\n",
        "            # For routing purposes, we need to estimate cost per segment\n",
        "            # This is a simplified approach - in reality you'd need route-level tracking\n",
        "            if distance_km <= km_limit:\n",
        "                # Within free limit - only rental cost (distributed across route)\n",
        "                cost = rental_cost / 10  # Distribute fixed cost across potential segments\n",
        "            else:\n",
        "                # Exceeds limit - rental cost + excess\n",
        "                excess_km = distance_km - km_limit\n",
        "                cost = (rental_cost / 10) + (excess_km * excess_cost_per_km)\n",
        "\n",
        "            return int(round(cost * 100))\n",
        "        return rental_cost_eval\n",
        "\n",
        "# Update vehicle specs with enhanced information\n",
        "vehicle_specs = []\n",
        "vehicle_details = []  # Keep track of original specs for later use\n",
        "\n",
        "for v in vehicles:\n",
        "    for _ in range(v[\"count\"]):\n",
        "        vehicle_specs.append((v[\"capacity\"], v.get(\"cost_per_km\", 0)))  # For compatibility\n",
        "        vehicle_details.append(v)  # Store full vehicle spec\n",
        "\n",
        "print(f\"\\n🔧 Enhanced OR-Tools VRP Setup:\")\n",
        "print(f\"   Locations: {len(locations)}\")\n",
        "print(f\"   Vehicles: {len(vehicle_specs)}\")\n",
        "for i, (cap, _) in enumerate(vehicle_specs):\n",
        "    v_detail = vehicle_details[i]\n",
        "    if v_detail[\"type\"] == \"owned\":\n",
        "        print(f\"     Vehicle {i}: {cap} bags, OWNED @ ₨{v_detail['cost_per_km']}/km\")\n",
        "    else:\n",
        "        print(f\"     Vehicle {i}: {cap} bags, RENTAL (₨{v_detail['rental_cost']}, {v_detail['km_limit']}km limit)\")\n",
        "\n",
        "# Register enhanced cost evaluators for each vehicle\n",
        "for vid, vehicle_detail in enumerate(vehicle_details):\n",
        "    evaluator = create_enhanced_cost_evaluator(vehicle_detail, dist_matrix_int, manager, SCALE)\n",
        "    cost_cb_idx = routing.RegisterTransitCallback(evaluator)\n",
        "    routing.SetArcCostEvaluatorOfVehicle(cost_cb_idx, vid)\n",
        "\n",
        "print(\"✅ Enhanced cost evaluators registered!\")\n",
        "\n",
        "\n",
        "\n",
        "# Add capacity constraints\n",
        "def demand_callback(from_index):\n",
        "    node = manager.IndexToNode(from_index)\n",
        "    return demands[node]\n",
        "\n",
        "demand_cb_idx = routing.RegisterUnaryTransitCallback(demand_callback)\n",
        "routing.AddDimensionWithVehicleCapacity(\n",
        "    demand_cb_idx, 0, [spec[0] for spec in vehicle_specs], True, \"Capacity\")\n",
        "\n",
        "# Add fixed cost to minimize vehicle usage\n",
        "for v in range(len(vehicle_specs)):\n",
        "    routing.SetFixedCostOfVehicle(1000, v)\n",
        "\n",
        "print(\"✅ Constraints and costs added!\")"
      ]
    },
    {
      "cell_type": "code",
      "execution_count": 102,
      "metadata": {
        "colab": {
          "base_uri": "https://localhost:8080/"
        },
        "id": "P7k6STOY9x9M",
        "outputId": "ca229b69-ada1-4b99-b317-d3d98b91c6d1"
      },
      "outputs": [
        {
          "name": "stdout",
          "output_type": "stream",
          "text": [
            "\n",
            "🔍 Solving VRP...\n",
            "\n",
            "✅ SOLUTION FOUND!\n",
            "\n",
            "🚛 OPTIMIZED DELIVERY ROUTES:\n",
            "============================================================\n",
            "\n",
            "🚚 Vehicle 3 (80-bag capacity, ₨0/km):\n",
            "   Route: Warehouse → Shop 2 → Shop 1 → Warehouse\n",
            "   Load: 60/80 bags (75.0% full)\n",
            "   Distance: 39.1 km\n",
            "   Cost: ₨1510.00\n",
            "\n",
            "🚚 Vehicle 4 (80-bag capacity, ₨0/km):\n",
            "   Route: Warehouse → Shop 6 → Shop 7 → Shop 3 → Warehouse\n",
            "   Load: 63/80 bags (78.8% full)\n",
            "   Distance: 39.8 km\n",
            "   Cost: ₨2010.00\n",
            "\n",
            "🚚 Vehicle 5 (50-bag capacity, ₨0/km):\n",
            "   Route: Warehouse → Shop 17 → Shop 16 → Shop 9 → Shop 19 → Shop 11 → Shop 8 → Shop 4 → Shop 5 → Shop 14 → Shop 13 → Shop 18 → Shop 12 → Shop 10 → Shop 15 → Shop 20 → Warehouse\n",
            "   Load: 42/50 bags (84.0% full)\n",
            "   Distance: 187.9 km\n",
            "   Cost: ₨4810.00\n",
            "\n",
            "📊 SUMMARY:\n",
            "   🚛 Vehicles used: 3/5\n",
            "   📏 Total distance: 266.8 km\n",
            "   💰 Total cost: ₨8330.00\n",
            "   📦 Cost per bag: ₨50.48\n",
            "   🛣️ Distance method: Real OSMnx roads\n"
          ]
        }
      ],
      "source": [
        "# Solve the VRP\n",
        "search_parameters = pywrapcp.DefaultRoutingSearchParameters()\n",
        "search_parameters.first_solution_strategy = routing_enums_pb2.FirstSolutionStrategy.PATH_CHEAPEST_ARC\n",
        "search_parameters.time_limit.seconds = 30\n",
        "\n",
        "print(\"\\n🔍 Solving VRP...\")\n",
        "solution = routing.SolveWithParameters(search_parameters)\n",
        "\n",
        "if solution:\n",
        "    print(\"\\n✅ SOLUTION FOUND!\")\n",
        "    print(\"\\n🚛 OPTIMIZED DELIVERY ROUTES:\")\n",
        "    print(\"=\" * 60)\n",
        "\n",
        "    total_cost = 0\n",
        "    total_distance = 0\n",
        "    vehicles_used = 0\n",
        "\n",
        "    # Store routes for map visualization\n",
        "    optimized_routes = []\n",
        "\n",
        "    for v in range(len(vehicle_specs)):\n",
        "        index = routing.Start(v)\n",
        "        route = []\n",
        "        route_locations = []  # Store actual coordinates for mapping\n",
        "        load = 0\n",
        "        route_cost = 0\n",
        "        route_distance = 0\n",
        "\n",
        "        while not routing.IsEnd(index):\n",
        "            node = manager.IndexToNode(index)\n",
        "            route.append(locations[node][0])\n",
        "            route_locations.append((locations[node][1], locations[node][2]))  # lat, lon\n",
        "            load += demands[node]\n",
        "            next_index = solution.Value(routing.NextVar(index))\n",
        "            route_cost += routing.GetArcCostForVehicle(index, next_index, v)\n",
        "            if not routing.IsEnd(next_index):\n",
        "                route_distance += distance_matrix[node][manager.IndexToNode(next_index)]\n",
        "            index = next_index\n",
        "\n",
        "        route.append(locations[manager.IndexToNode(index)][0])  # return to warehouse\n",
        "        route_locations.append((locations[manager.IndexToNode(index)][1], locations[manager.IndexToNode(index)][2]))\n",
        "\n",
        "        if len(route) > 2:  # vehicle was used\n",
        "            vehicles_used += 1\n",
        "            capacity, cost_per_km = vehicle_specs[v]\n",
        "\n",
        "            # Store route for mapping\n",
        "            optimized_routes.append({\n",
        "                'vehicle_id': v + 1,\n",
        "                'route_names': route,\n",
        "                'route_coords': route_locations,\n",
        "                'capacity': capacity,\n",
        "                'cost_per_km': cost_per_km,\n",
        "                'load': load,\n",
        "                'distance': route_distance,\n",
        "                'cost': route_cost / 100\n",
        "            })\n",
        "\n",
        "            print(f\"\\n🚚 Vehicle {v+1} ({capacity}-bag capacity, ₨{cost_per_km}/km):\")\n",
        "            print(f\"   Route: {' → '.join(route)}\")\n",
        "            print(f\"   Load: {load}/{capacity} bags ({load/capacity*100:.1f}% full)\")\n",
        "            print(f\"   Distance: {route_distance:.1f} km\")\n",
        "            print(f\"   Cost: ₨{route_cost/100:.2f}\")\n",
        "\n",
        "            total_cost += route_cost\n",
        "            total_distance += route_distance\n",
        "\n",
        "    print(f\"\\n📊 SUMMARY:\")\n",
        "    print(f\"   🚛 Vehicles used: {vehicles_used}/{len(vehicle_specs)}\")\n",
        "    print(f\"   📏 Total distance: {total_distance:.1f} km\")\n",
        "    print(f\"   💰 Total cost: ₨{total_cost/100:.2f}\")\n",
        "    print(f\"   📦 Cost per bag: ₨{total_cost/100/sum(demands):.2f}\")\n",
        "    print(f\"   🛣️ Distance method: {'Real OSMnx roads' if network_success else 'Haversine + 25%'}\")\n",
        "\n",
        "else:\n",
        "    print(\"❌ No solution found!\")\n",
        "    optimized_routes = []"
      ]
    },
    {
      "cell_type": "code",
      "execution_count": 103,
      "metadata": {
        "colab": {
          "base_uri": "https://localhost:8080/"
        },
        "id": "Ace_58IP-AXO",
        "outputId": "942ac060-2d31-4bb5-c400-3361d2a6255b"
      },
      "outputs": [
        {
          "name": "stdout",
          "output_type": "stream",
          "text": [
            "\n",
            "🗺️ Creating interactive route map...\n",
            "✅ Map saved as: bhawana_vrp_routes.html\n"
          ]
        }
      ],
      "source": [
        "# Create interactive map with optimized routes\n",
        "import folium\n",
        "from folium import plugins\n",
        "\n",
        "def create_route_map(locations, optimized_routes, network_graph=None):\n",
        "    \"\"\"Create folium map showing optimized delivery routes\"\"\"\n",
        "\n",
        "    # Calculate center of map\n",
        "    center_lat = sum(loc[1] for loc in locations) / len(locations)\n",
        "    center_lon = sum(loc[2] for loc in locations) / len(locations)\n",
        "\n",
        "    # Create base map\n",
        "    m = folium.Map(\n",
        "        location=[center_lat, center_lon],\n",
        "        zoom_start=12,\n",
        "        tiles='OpenStreetMap'\n",
        "    )\n",
        "\n",
        "    # Colors for different vehicles\n",
        "    colors = ['red', 'blue', 'green', 'purple', 'orange', 'darkred', 'lightred',\n",
        "             'beige', 'darkblue', 'darkgreen', 'cadetblue', 'darkpurple', 'white',\n",
        "             'pink', 'lightblue', 'lightgreen', 'gray', 'black', 'lightgray']\n",
        "\n",
        "    # Add warehouse marker (larger, special icon)\n",
        "    warehouse = locations[0]\n",
        "    folium.Marker(\n",
        "        location=[warehouse[1], warehouse[2]],\n",
        "        popup=f\"🏭 {warehouse[0]}<br>Main Depot\",\n",
        "        tooltip=f\"{warehouse[0]} (Depot)\",\n",
        "        icon=folium.Icon(color='black', icon='home', prefix='fa')\n",
        "    ).add_to(m)\n",
        "\n",
        "    # Add shop markers\n",
        "    for i, (name, lat, lon) in enumerate(locations[1:], 1):\n",
        "        demand = demands[i]\n",
        "        folium.Marker(\n",
        "            location=[lat, lon],\n",
        "            popup=f\"🏪 {name}<br>Demand: {demand} bags\",\n",
        "            tooltip=f\"{name}: {demand} bags\",\n",
        "            icon=folium.Icon(color='lightblue', icon='shopping-cart', prefix='fa')\n",
        "        ).add_to(m)\n",
        "\n",
        "    # Add optimized routes\n",
        "    for i, route in enumerate(optimized_routes):\n",
        "        color = colors[i % len(colors)]\n",
        "\n",
        "        # Create route line\n",
        "        route_coords = route['route_coords']\n",
        "\n",
        "        if network_graph is not None and network_success:\n",
        "            # If we have real road network, get actual route paths\n",
        "            try:\n",
        "                full_route_coords = []\n",
        "                for j in range(len(route_coords) - 1):\n",
        "                    start_lat, start_lon = route_coords[j]\n",
        "                    end_lat, end_lon = route_coords[j + 1]\n",
        "\n",
        "                    # Get nearest nodes\n",
        "                    start_node = ox.nearest_nodes(network_graph, start_lon, start_lat)\n",
        "                    end_node = ox.nearest_nodes(network_graph, end_lon, end_lat)\n",
        "\n",
        "                    # Get shortest path\n",
        "                    path = nx.shortest_path(network_graph, start_node, end_node, weight='length')\n",
        "\n",
        "                    # Get path coordinates\n",
        "                    path_coords = [(network_graph.nodes[node]['y'], network_graph.nodes[node]['x']) for node in path]\n",
        "                    full_route_coords.extend(path_coords)\n",
        "\n",
        "                # Draw detailed route\n",
        "                folium.PolyLine(\n",
        "                    locations=full_route_coords,\n",
        "                    color=color,\n",
        "                    weight=4,\n",
        "                    opacity=0.8,\n",
        "                    popup=f\"Vehicle {route['vehicle_id']}: {route['distance']:.1f}km, ₨{route['cost']:.2f}\"\n",
        "                ).add_to(m)\n",
        "\n",
        "            except Exception as e:\n",
        "                print(f\"⚠️ Could not draw detailed route for Vehicle {route['vehicle_id']}: {e}\")\n",
        "                # Fallback to straight lines\n",
        "                folium.PolyLine(\n",
        "                    locations=route_coords,\n",
        "                    color=color,\n",
        "                    weight=3,\n",
        "                    opacity=0.7,\n",
        "                    popup=f\"Vehicle {route['vehicle_id']}: {route['distance']:.1f}km, ₨{route['cost']:.2f}\"\n",
        "                ).add_to(m)\n",
        "        else:\n",
        "            # Draw straight-line routes\n",
        "            folium.PolyLine(\n",
        "                locations=route_coords,\n",
        "                color=color,\n",
        "                weight=3,\n",
        "                opacity=0.7,\n",
        "                popup=f\"Vehicle {route['vehicle_id']}: {route['distance']:.1f}km, ₨{route['cost']:.2f}\"\n",
        "            ).add_to(m)\n",
        "\n",
        "        # Add route info to legend\n",
        "        route_info = f\"\"\"\n",
        "        <div style='position: fixed;\n",
        "                    top: {50 + i*25}px; left: 50px; width: 300px; height: 20px;\n",
        "                    background-color: white; border:2px solid grey; z-index:9999;\n",
        "                    font-size:12px; padding: 5px'>\n",
        "        <p style='color: {color}; margin:0'>\n",
        "        ● Vehicle {route['vehicle_id']}: {route['load']}/{route['capacity']} bags,\n",
        "        {route['distance']:.1f}km, ₨{route['cost']:.2f}\n",
        "        </p>\n",
        "        </div>\n",
        "        \"\"\"\n",
        "        m.get_root().html.add_child(folium.Element(route_info))\n",
        "\n",
        "    # Add map title\n",
        "    title_html = '''\n",
        "                 <h3 align=\"center\" style=\"font-size:16px\"><b>🚛 Optimized Delivery Routes - Lahore VRP Solution</b></h3>\n",
        "                 '''\n",
        "    m.get_root().html.add_child(folium.Element(title_html))\n",
        "\n",
        "    return m\n",
        "\n",
        "# Create and display the map\n",
        "if optimized_routes:\n",
        "    print(\"\\n🗺️ Creating interactive route map...\")\n",
        "    route_map = create_route_map(locations, optimized_routes, G if network_success else None)\n",
        "\n",
        "    # Save map\n",
        "    map_filename = \"bhawana_vrp_routes.html\"\n",
        "    route_map.save(map_filename)\n",
        "    print(f\"✅ Map saved as: {map_filename}\")\n",
        "\n",
        "    # Display map in notebook\n",
        "    route_map\n",
        "else:\n",
        "    print(\"❌ No routes to display on map\")"
      ]
    },
    {
      "cell_type": "code",
      "execution_count": 104,
      "metadata": {
        "colab": {
          "base_uri": "https://localhost:8080/"
        },
        "id": "78WgGYVG_CjW",
        "outputId": "42efd0de-e215-4673-e9b2-f5a5198783a8"
      },
      "outputs": [
        {
          "name": "stdout",
          "output_type": "stream",
          "text": [
            "\n",
            "✅ SOLUTION FOUND!\n",
            "\n",
            "🚛 OPTIMIZED DELIVERY ROUTES:\n",
            "======================================================================\n",
            "\n",
            "🚚 Vehicle 3 (80-bag RENTAL):\n",
            "   Route: Warehouse → Shop 2 → Shop 1 → Warehouse\n",
            "   Load: 60/80 bags (75.0% full)\n",
            "   Distance: 39.1 km\n",
            "   Cost: ₨5000.00 (rental only, within 50km limit)\n",
            "\n",
            "🚚 Vehicle 4 (80-bag RENTAL):\n",
            "   Route: Warehouse → Shop 6 → Shop 7 → Shop 3 → Warehouse\n",
            "   Load: 63/80 bags (78.8% full)\n",
            "   Distance: 39.8 km\n",
            "   Cost: ₨5000.00 (rental only, within 50km limit)\n",
            "\n",
            "🚚 Vehicle 5 (50-bag RENTAL):\n",
            "   Route: Warehouse → Shop 17 → Shop 16 → Shop 9 → Shop 19 → Shop 11 → Shop 8 → Shop 4 → Shop 5 → Shop 14 → Shop 13 → Shop 18 → Shop 12 → Shop 10 → Shop 15 → Shop 20 → Warehouse\n",
            "   Load: 42/50 bags (84.0% full)\n",
            "   Distance: 187.9 km\n",
            "   Cost: ₨11873.61 (₨3000.0 rental + ₨8873.61 for 147.9km excess)\n",
            "\n",
            "📊 ENHANCED SUMMARY:\n",
            "   🚛 Vehicles used: 3/5\n",
            "   📏 Total distance: 266.8 km\n",
            "   💰 Total cost: ₨21873.61\n",
            "   📦 Cost per bag: ₨132.57\n",
            "   🛣️ Distance method: Real OSMnx roads\n",
            "\n",
            "💰 Cost Breakdown by Vehicle Type:\n",
            "   • Owned vehicles: ₨0.00\n",
            "   • Rental vehicles: ₨21873.61\n"
          ]
        }
      ],
      "source": [
        "# Enhanced solution display with rental cost breakdown\n",
        "if solution:\n",
        "    print(\"\\n✅ SOLUTION FOUND!\")\n",
        "    print(\"\\n🚛 OPTIMIZED DELIVERY ROUTES:\")\n",
        "    print(\"=\" * 70)\n",
        "\n",
        "    total_cost = 0\n",
        "    total_distance = 0\n",
        "    vehicles_used = 0\n",
        "    optimized_routes = []\n",
        "\n",
        "    for v in range(len(vehicle_specs)):\n",
        "        index = routing.Start(v)\n",
        "        route = []\n",
        "        route_locations = []\n",
        "        load = 0\n",
        "        route_cost = 0\n",
        "        route_distance = 0\n",
        "\n",
        "        while not routing.IsEnd(index):\n",
        "            node = manager.IndexToNode(index)\n",
        "            route.append(locations[node][0])\n",
        "            route_locations.append((locations[node][1], locations[node][2]))\n",
        "            load += demands[node]\n",
        "            next_index = solution.Value(routing.NextVar(index))\n",
        "            route_cost += routing.GetArcCostForVehicle(index, next_index, v)\n",
        "            if not routing.IsEnd(next_index):\n",
        "                route_distance += distance_matrix[node][manager.IndexToNode(next_index)]\n",
        "            index = next_index\n",
        "\n",
        "        route.append(locations[manager.IndexToNode(index)][0])\n",
        "        route_locations.append((locations[manager.IndexToNode(index)][1], locations[manager.IndexToNode(index)][2]))\n",
        "\n",
        "        if len(route) > 2:  # vehicle was used\n",
        "            vehicles_used += 1\n",
        "            capacity = vehicle_specs[v][0]\n",
        "            vehicle_detail = vehicle_details[v]\n",
        "\n",
        "            # Calculate actual costs based on vehicle type\n",
        "            if vehicle_detail[\"type\"] == \"owned\":\n",
        "                actual_cost = route_distance * vehicle_detail[\"cost_per_km\"]\n",
        "                cost_breakdown = f\"₨{actual_cost:.2f} ({route_distance:.1f}km × ₨{vehicle_detail['cost_per_km']}/km)\"\n",
        "            else:\n",
        "                rental_cost = vehicle_detail[\"rental_cost\"]\n",
        "                km_limit = vehicle_detail[\"km_limit\"]\n",
        "                excess_cost_per_km = vehicle_detail[\"excess_cost_per_km\"]\n",
        "\n",
        "                if route_distance <= km_limit:\n",
        "                    actual_cost = rental_cost\n",
        "                    cost_breakdown = f\"₨{actual_cost:.2f} (rental only, within {km_limit}km limit)\"\n",
        "                else:\n",
        "                    excess_km = route_distance - km_limit\n",
        "                    excess_cost = excess_km * excess_cost_per_km\n",
        "                    actual_cost = rental_cost + excess_cost\n",
        "                    cost_breakdown = f\"₨{actual_cost:.2f} (₨{rental_cost} rental + ₨{excess_cost:.2f} for {excess_km:.1f}km excess)\"\n",
        "\n",
        "            vehicle_type_str = \"OWNED\" if vehicle_detail[\"type\"] == \"owned\" else \"RENTAL\"\n",
        "\n",
        "            optimized_routes.append({\n",
        "                'vehicle_id': v + 1,\n",
        "                'route_names': route,\n",
        "                'route_coords': route_locations,\n",
        "                'capacity': capacity,\n",
        "                'vehicle_type': vehicle_type_str,\n",
        "                'load': load,\n",
        "                'distance': route_distance,\n",
        "                'cost': actual_cost,\n",
        "                'cost_breakdown': cost_breakdown\n",
        "            })\n",
        "\n",
        "            print(f\"\\n🚚 Vehicle {v+1} ({capacity}-bag {vehicle_type_str}):\")\n",
        "            print(f\"   Route: {' → '.join(route)}\")\n",
        "            print(f\"   Load: {load}/{capacity} bags ({load/capacity*100:.1f}% full)\")\n",
        "            print(f\"   Distance: {route_distance:.1f} km\")\n",
        "            print(f\"   Cost: {cost_breakdown}\")\n",
        "\n",
        "            total_cost += actual_cost\n",
        "            total_distance += route_distance\n",
        "\n",
        "    print(f\"\\n📊 ENHANCED SUMMARY:\")\n",
        "    print(f\"   🚛 Vehicles used: {vehicles_used}/{len(vehicle_specs)}\")\n",
        "    print(f\"   📏 Total distance: {total_distance:.1f} km\")\n",
        "    print(f\"   💰 Total cost: ₨{total_cost:.2f}\")\n",
        "    print(f\"   📦 Cost per bag: ₨{total_cost/sum(demands):.2f}\")\n",
        "    print(f\"   🛣️ Distance method: {'Real OSMnx roads' if network_success else 'Haversine + 25%'}\")\n",
        "\n",
        "    # Vehicle type breakdown\n",
        "    owned_cost = sum(r['cost'] for r in optimized_routes if r['vehicle_type'] == 'OWNED')\n",
        "    rental_cost = sum(r['cost'] for r in optimized_routes if r['vehicle_type'] == 'RENTAL')\n",
        "\n",
        "    print(f\"\\n💰 Cost Breakdown by Vehicle Type:\")\n",
        "    print(f\"   • Owned vehicles: ₨{owned_cost:.2f}\")\n",
        "    print(f\"   • Rental vehicles: ₨{rental_cost:.2f}\")\n",
        "\n",
        "else:\n",
        "    print(\"❌ No solution found!\")\n",
        "    optimized_routes = []"
      ]
    },
    {
      "cell_type": "markdown",
      "metadata": {
        "id": "52YvmL7RJcWw"
      },
      "source": [
        "\n",
        "🚚 Vehicle 1 (200-bag OWNED):\n",
        "   Route: Warehouse → Shop 7 → Shop 6 → Warehouse\n",
        "   Load: 33/200 bags (16.5% full)\n",
        "   Distance: 36.7 km\n",
        "   Cost: ₨3669.41 (36.7km × ₨100.0/km)\n",
        "\n",
        "🚚 Vehicle 2 (100-bag OWNED):\n",
        "   Route: Warehouse → Shop 18 → Shop 14 → Shop 3 → Shop 1 → Shop 2 → Shop 11 → Shop 19 → Shop 16 → Shop 17 → Warehouse\n",
        "   Load: 90/100 bags (90.0% full)\n",
        "   Distance: 96.1 km\n",
        "   Cost: ₨3845.95 (96.1km × ₨40.0/km)\n",
        "\n",
        "🚚 Vehicle 5 (50-bag RENTAL):\n",
        "   Route: Warehouse → Shop 9 → Shop 20 → Shop 4 → Shop 5 → Shop 8 → Shop 13 → Shop 12 → Shop 10 → Shop 15 → Warehouse\n",
        "   Load: 42/50 bags (84.0% full)\n",
        "   Distance: 188.1 km\n",
        "   Cost: ₨11885.16 (₨3000.0 rental + ₨8885.16 for 148.1km excess)\n",
        "\n",
        "📊 ENHANCED SUMMARY:\n",
        "   🚛 Vehicles used: 3/5\n",
        "   📏 Total distance: 320.9 km\n",
        "   💰 Total cost: ₨19400.53\n",
        "   📦 Cost per bag: ₨117.58\n",
        "   🛣️ Distance method: Real OSMnx roads\n",
        "\n",
        "💰 Cost Breakdown by Vehicle Type:\n",
        "   • Owned vehicles: ₨7515.37\n",
        "   • Rental vehicles: ₨11885.16"
      ]
    },
    {
      "cell_type": "code",
      "execution_count": 86,
      "metadata": {
        "colab": {
          "base_uri": "https://localhost:8080/"
        },
        "id": "hi8BFyN7AO4l",
        "outputId": "67190796-9d08-459e-c6cd-99e9dcbb3a62"
      },
      "outputs": [
        {
          "data": {
            "text/plain": [
              "[{'count': 1, 'capacity': 200, 'type': 'owned', 'cost_per_km': 100.0},\n",
              " {'count': 1, 'capacity': 100, 'type': 'owned', 'cost_per_km': 40.0},\n",
              " {'count': 2,\n",
              "  'capacity': 80,\n",
              "  'type': 'rental',\n",
              "  'rental_cost': 5000.0,\n",
              "  'km_limit': 50,\n",
              "  'excess_cost_per_km': 80.0},\n",
              " {'count': 1,\n",
              "  'capacity': 50,\n",
              "  'type': 'rental',\n",
              "  'rental_cost': 3000.0,\n",
              "  'km_limit': 40,\n",
              "  'excess_cost_per_km': 60.0}]"
            ]
          },
          "execution_count": 86,
          "metadata": {},
          "output_type": "execute_result"
        }
      ],
      "source": [
        "vehicles"
      ]
    },
    {
      "cell_type": "markdown",
      "metadata": {
        "id": "SfTp9IGd9w2Q"
      },
      "source": []
    },
    {
      "cell_type": "code",
      "execution_count": 69,
      "metadata": {
        "id": "3NQlgp0GDO5v"
      },
      "outputs": [],
      "source": []
    }
  ],
  "metadata": {
    "colab": {
      "provenance": [],
      "toc_visible": true
    },
    "kernelspec": {
      "display_name": "base",
      "language": "python",
      "name": "python3"
    },
    "language_info": {
      "codemirror_mode": {
        "name": "ipython",
        "version": 3
      },
      "file_extension": ".py",
      "mimetype": "text/x-python",
      "name": "python",
      "nbconvert_exporter": "python",
      "pygments_lexer": "ipython3",
      "version": "3.13.5"
    }
  },
  "nbformat": 4,
  "nbformat_minor": 0
}
