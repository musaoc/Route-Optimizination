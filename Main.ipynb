{
 "cells": [
  {
   "cell_type": "code",
   "execution_count": 2,
   "id": "a01520e0",
   "metadata": {},
   "outputs": [
    {
     "ename": "SyntaxError",
     "evalue": "invalid decimal literal (117739345.py, line 3)",
     "output_type": "error",
     "traceback": [
      "\u001b[0;36m  Cell \u001b[0;32mIn[2], line 3\u001b[0;36m\u001b[0m\n\u001b[0;31m    GitHub Copilot: This code implements a **Two-Echelon Vehicle Routing Problem (2E-VRP)** solution using Google OR-Tools. Here's what it does:\u001b[0m\n\u001b[0m                                                                                    ^\u001b[0m\n\u001b[0;31mSyntaxError\u001b[0m\u001b[0;31m:\u001b[0m invalid decimal literal\n"
     ]
    }
   ],
   "source": [
    "musakhan999: explain this code to me\n",
    "\n",
    "GitHub Copilot: This code implements a **Two-Echelon Vehicle Routing Problem (2E-VRP)** solution using Google OR-Tools. Here's what it does:\n",
    "\n",
    "## Overview\n",
    "The system models a supply chain with two levels of distribution:\n",
    "- **Echelon 1**: Large trucks deliver from main warehouse (Lahore) to regional satellites\n",
    "- **Echelon 2**: Smaller trucks deliver from satellites to final sub-warehouses\n",
    "\n",
    "## Key Components\n",
    "\n",
    "### Helper Functions\n",
    "```python\n",
    "def euclidean_km(p1, p2) -> int:\n",
    "    # Calculates straight-line distance between two coordinate points\n",
    "    \n",
    "def build_distance_matrix(points):\n",
    "    # Creates a square matrix of distances between all locations\n",
    "    \n",
    "def solve_vrp(distance_matrix, demands, vehicle_capacities):\n",
    "    # Uses OR-Tools to solve the Vehicle Routing Problem\n",
    "```\n",
    "\n",
    "### Data Structure\n",
    "- **Cities**: Main locations with (x,y) coordinates relative to Lahore at (0,0)\n",
    "- **Satellites**: Each has coordinates and sub-warehouses to serve\n",
    "- **Demands**: How much cargo each sub-warehouse needs (in tons)\n",
    "- **Vehicle Capacities**: Different truck sizes for each echelon\n",
    "\n",
    "### Two-Phase Solution\n",
    "\n",
    "**Phase 1 - Echelon 2 (Satellites → Sub-warehouses)**:\n",
    "- For each satellite city, solve a VRP to serve its sub-warehouses\n",
    "- Uses smaller 7-ton trucks\n",
    "- Calculates total demand each satellite needs to receive\n",
    "\n",
    "**Phase 2 - Echelon 1 (Lahore → Satellites)**:\n",
    "- Uses the demand totals from Phase 1\n",
    "- Solves VRP with larger 20-ton trucks from Lahore\n",
    "- Delivers exactly what each satellite needs\n",
    "\n",
    "### Example Output\n",
    "The code will show:\n",
    "- Route plans for each vehicle\n",
    "- Total distances traveled\n",
    "- Load capacities utilized\n",
    "- How much cargo flows through each satellite\n",
    "\n",
    "This approach is common in real logistics where you have regional distribution centers that need to be supplied from a main warehouse, then distribute locally to final destinations.\n",
    "\n",
    "musakhan999: explain code in flow way of what is happening refer to the relevant code too, maybe lets do things step by step if possible and try to run so i can understand, i am already in a jupyternotebook, so there wont be any issues\n",
    "\n",
    "GitHub Copilot: Let's break down this Two-Echelon Vehicle Routing Problem step by step and run it piece by piece so you can understand the flow!\n",
    "\n",
    "## Step 1: Install Dependencies and Import Libraries\n",
    "\n",
    "First, let's make sure we have the required package:\n",
    "\n",
    "````python\n",
    "!python -m pip install ortools\n",
    "````\n",
    "\n",
    "````python\n",
    "from __future__ import annotations\n",
    "from typing import List, Dict, Tuple\n",
    "import math\n",
    "from dataclasses import dataclass\n",
    "\n",
    "from ortools.constraint_solver import pywrapcp, routing_enums_pb2\n",
    "\n",
    "print(\"Libraries imported successfully!\")\n",
    "````\n",
    "\n",
    "## Step 2: Helper Functions\n",
    "\n",
    "Let's understand the utility functions:\n",
    "\n",
    "````python\n",
    "def euclidean_km(p1: Tuple[float, float], p2: Tuple[float, float]) -> int:\n",
    "    \"\"\"Return rounded Euclidean distance in km (as an int for OR‑Tools).\"\"\"\n",
    "    return int(round(math.hypot(p1[0]-p2[0], p1[1]-p2[1])))\n",
    "\n",
    "# Test the distance function\n",
    "point_a = (0, 0)  # Lahore\n",
    "point_b = (0, 72) # Gujranwala\n",
    "distance = euclidean_km(point_a, point_b)\n",
    "print(f\"Distance from Lahore to Gujranwala: {distance} km\")\n",
    "````\n",
    "\n",
    "````python\n",
    "def build_distance_matrix(points: List[Tuple[float, float]]) -> List[List[int]]:\n",
    "    n = len(points)\n",
    "    m = [[0]*n for _ in range(n)]\n",
    "    for i in range(n):\n",
    "        for j in range(n):\n",
    "            if i != j:\n",
    "                m[i][j] = euclidean_km(points[i], points[j])\n",
    "    return m\n",
    "\n",
    "# Test with a small example\n",
    "test_points = [(0, 0), (0, 72), (-40, 10)]\n",
    "test_matrix = build_distance_matrix(test_points)\n",
    "print(\"Distance matrix:\")\n",
    "for i, row in enumerate(test_matrix):\n",
    "    print(f\"Point {i}: {row}\")\n",
    "````\n",
    "\n",
    "````python\n",
    "@dataclass\n",
    "class VRPResult:\n",
    "    routes: List[List[int]]\n",
    "    route_loads: List[int]\n",
    "    total_distance: int\n",
    "\n",
    "print(\"VRPResult dataclass defined - this will store our routing solutions\")\n",
    "````\n",
    "\n",
    "## Step 3: Define the Scenario Data\n",
    "\n",
    "Let's set up our Pakistani cities and their coordinates:\n",
    "\n",
    "````python\n",
    "# Main warehouse and satellite cities\n",
    "LAHORE = (0, 0)\n",
    "CITIES = {\n",
    "    \"Lahore\": LAHORE,\n",
    "    \"Gujranwala\": (0, 72),      # ~70 km north\n",
    "    \"Sheikhupura\": (-40, 10),   # ~40 km WNW\n",
    "    \"Kasur\": (0, -55),          # ~55 km south\n",
    "}\n",
    "\n",
    "print(\"Main cities:\")\n",
    "for city, coords in CITIES.items():\n",
    "    print(f\"  {city}: {coords}\")\n",
    "````\n",
    "\n",
    "````python\n",
    "# Sub-warehouses that each satellite serves\n",
    "SATELLITES = {\n",
    "    \"Gujranwala\": {\n",
    "        \"coords\": CITIES[\"Gujranwala\"],\n",
    "        \"subs\": {\n",
    "            \"Kamoke\": (0, 52),\n",
    "            \"Eminabad\": (-8, 66),\n",
    "            \"Nowshera Virkan\": (-18, 80),\n",
    "        },\n",
    "    },\n",
    "    \"Sheikhupura\": {\n",
    "        \"coords\": CITIES[\"Sheikhupura\"],\n",
    "        \"subs\": {\n",
    "            \"Ferozewala\": (-10, 0),\n",
    "            \"Muridke\": (10, 40),\n",
    "            \"Safdarabad\": (-70, 20),\n",
    "        },\n",
    "    },\n",
    "    \"Kasur\": {\n",
    "        \"coords\": CITIES[\"Kasur\"],\n",
    "        \"subs\": {\n",
    "            \"Pattoki\": (10, -80),\n",
    "            \"Chunian\": (-15, -95),\n",
    "            \"Kot Radha Kishan\": (20, -50),\n",
    "        },\n",
    "    },\n",
    "}\n",
    "\n",
    "print(\"Satellite networks:\")\n",
    "for sat_name, sat_data in SATELLITES.items():\n",
    "    print(f\"\\n{sat_name} serves:\")\n",
    "    for sub_name, sub_coords in sat_data[\"subs\"].items():\n",
    "        print(f\"  - {sub_name}: {sub_coords}\")\n",
    "````\n",
    "\n",
    "````python\n",
    "# How much cargo each sub-warehouse needs (in tons)\n",
    "DEMANDS_TONS = {\n",
    "    # Gujranwala cluster\n",
    "    \"Kamoke\": 4,\n",
    "    \"Eminabad\": 3,\n",
    "    \"Nowshera Virkan\": 5,\n",
    "    # Sheikhupura cluster\n",
    "    \"Ferozewala\": 3,\n",
    "    \"Muridke\": 5,\n",
    "    \"Safdarabad\": 4,\n",
    "    # Kasur cluster\n",
    "    \"Pattoki\": 6,\n",
    "    \"Chunian\": 5,\n",
    "    \"Kot Radha Kishan\": 3,\n",
    "}\n",
    "\n",
    "print(\"Cargo demands (tons):\")\n",
    "total_demand = 0\n",
    "for location, demand in DEMANDS_TONS.items():\n",
    "    print(f\"  {location}: {demand}t\")\n",
    "    total_demand += demand\n",
    "print(f\"Total system demand: {total_demand}t\")\n",
    "````\n",
    "\n",
    "````python\n",
    "# Vehicle capacities for each echelon\n",
    "E1_CAPACITIES = [20, 20]  # two 20‑ton trucks for Lahore → satellites\n",
    "E2_CAPACITIES = {\n",
    "    \"Gujranwala\": [7, 7],    # two 7-ton trucks per satellite\n",
    "    \"Sheikhupura\": [7, 7],\n",
    "    \"Kasur\": [7, 7],\n",
    "}\n",
    "\n",
    "print(\"Vehicle fleets:\")\n",
    "print(f\"Echelon 1 (Lahore → satellites): {len(E1_CAPACITIES)} trucks of {E1_CAPACITIES[0]}t each\")\n",
    "print(\"Echelon 2 (satellites → sub-warehouses):\")\n",
    "for sat, caps in E2_CAPACITIES.items():\n",
    "    print(f\"  {sat}: {len(caps)} trucks of {caps[0]}t each\")\n",
    "````\n",
    "\n",
    "Now let's run a small example to understand what happens next! Would you like me to continue with the VRP solver function and then show how we solve each echelon?"
   ]
  },
  {
   "cell_type": "code",
   "execution_count": null,
   "id": "e0ad17aa",
   "metadata": {},
   "outputs": [
    {
     "name": "stdout",
     "output_type": "stream",
     "text": [
      "Libraries imported successfully!\n"
     ]
    }
   ],
   "source": [
    "from __future__ import annotations\n",
    "from typing import List, Dict, Tuple\n",
    "import math\n",
    "from dataclasses import dataclass\n",
    "\n",
    "from ortools.constraint_solver import pywrapcp, routing_enums_pb2\n",
    "\n",
    "print(\"Libraries imported successfully!\")"
   ]
  },
  {
   "cell_type": "code",
   "execution_count": null,
   "id": "2c769aa7",
   "metadata": {},
   "outputs": [
    {
     "name": "stdout",
     "output_type": "stream",
     "text": [
      "Main cities:\n",
      "  Lahore: (0, 0)\n",
      "  Gujranwala: (0, 72)\n",
      "  Sheikhupura: (-40, 10)\n",
      "  Kasur: (0, -55)\n"
     ]
    }
   ],
   "source": [
    "LAHORE = (0, 0)\n",
    "CITIES = {\n",
    "    \"Lahore\": LAHORE,\n",
    "    \"Gujranwala\": (0, 72),      # ~70 km north\n",
    "    \"Sheikhupura\": (-40, 10),   # ~40 km WNW\n",
    "    \"Kasur\": (0, -55),          # ~55 km south\n",
    "}\n",
    "\n",
    "print(\"Main cities:\")\n",
    "for city, coords in CITIES.items():\n",
    "    print(f\"  {city}: {coords}\")"
   ]
  },
  {
   "cell_type": "code",
   "execution_count": null,
   "id": "5b7f4443",
   "metadata": {},
   "outputs": [
    {
     "name": "stdout",
     "output_type": "stream",
     "text": [
      "City positions relative to Lahore:\n",
      "Lahore:      (0, 0)   - Origin point\n",
      "Gujranwala:  (0, 72)  - 72km North, same longitude\n",
      "Sheikhupura: (-40, 10) - 40km West, 10km North\n",
      "Kasur:       (0, -55) - 55km South, same longitude\n",
      "\n",
      "Actual distances from Lahore:\n",
      "  Gujranwala: 72 km\n",
      "  Sheikhupura: 41 km\n",
      "  Kasur: 55 km\n"
     ]
    }
   ],
   "source": [
    "# Let's visualize this:\n",
    "print(\"City positions relative to Lahore:\")\n",
    "print(\"Lahore:      (0, 0)   - Origin point\")\n",
    "print(\"Gujranwala:  (0, 72)  - 72km North, same longitude\")\n",
    "print(\"Sheikhupura: (-40, 10) - 40km West, 10km North\") \n",
    "print(\"Kasur:       (0, -55) - 55km South, same longitude\")\n",
    "\n",
    "# Test the distance calculation\n",
    "def euclidean_km(p1, p2):\n",
    "    return int(round(math.hypot(p1[0]-p2[0], p1[1]-p2[1])))\n",
    "\n",
    "print(\"\\nActual distances from Lahore:\")\n",
    "for city, coords in CITIES.items():\n",
    "    if city != \"Lahore\":\n",
    "        distance = euclidean_km(LAHORE, coords)\n",
    "        print(f\"  {city}: {distance} km\")"
   ]
  },
  {
   "cell_type": "code",
   "execution_count": null,
   "id": "067c44bc",
   "metadata": {},
   "outputs": [
    {
     "name": "stdout",
     "output_type": "stream",
     "text": [
      "Satellite networks:\n",
      "\n",
      "Gujranwala serves:\n",
      "  - Kamoke: (0, 52)\n",
      "  - Eminabad: (-8, 66)\n",
      "  - Nowshera Virkan: (-18, 80)\n",
      "\n",
      "Sheikhupura serves:\n",
      "  - Ferozewala: (-10, 0)\n",
      "  - Muridke: (10, 40)\n",
      "  - Safdarabad: (-70, 20)\n",
      "\n",
      "Kasur serves:\n",
      "  - Pattoki: (10, -80)\n",
      "  - Chunian: (-15, -95)\n",
      "  - Kot Radha Kishan: (20, -50)\n"
     ]
    }
   ],
   "source": [
    "SATELLITES = {\n",
    "    \"Gujranwala\": {\n",
    "        \"coords\": CITIES[\"Gujranwala\"],\n",
    "        \"subs\": {\n",
    "            \"Kamoke\": (0, 52),\n",
    "            \"Eminabad\": (-8, 66),\n",
    "            \"Nowshera Virkan\": (-18, 80),\n",
    "        },\n",
    "    },\n",
    "    \"Sheikhupura\": {\n",
    "        \"coords\": CITIES[\"Sheikhupura\"],\n",
    "        \"subs\": {\n",
    "            \"Ferozewala\": (-10, 0),\n",
    "            \"Muridke\": (10, 40),\n",
    "            \"Safdarabad\": (-70, 20),\n",
    "        },\n",
    "    },\n",
    "    \"Kasur\": {\n",
    "        \"coords\": CITIES[\"Kasur\"],\n",
    "        \"subs\": {\n",
    "            \"Pattoki\": (10, -80),\n",
    "            \"Chunian\": (-15, -95),\n",
    "            \"Kot Radha Kishan\": (20, -50),\n",
    "        },\n",
    "    },\n",
    "}\n",
    "\n",
    "print(\"Satellite networks:\")\n",
    "for sat_name, sat_data in SATELLITES.items():\n",
    "    print(f\"\\n{sat_name} serves:\")\n",
    "    for sub_name, sub_coords in sat_data[\"subs\"].items():\n",
    "        print(f\"  - {sub_name}: {sub_coords}\")"
   ]
  },
  {
   "cell_type": "code",
   "execution_count": null,
   "id": "3fb22324",
   "metadata": {},
   "outputs": [
    {
     "name": "stdout",
     "output_type": "stream",
     "text": [
      "Comparison:\n",
      "Method 1 - Bags: Total = 760 bags\n",
      "Method 2 - Tons: Total = 38 tons\n",
      "Weight equivalence: 38.0 tons\n"
     ]
    }
   ],
   "source": [
    "# Fertilizer bag example - let's compare both approaches:\n",
    "\n",
    "# Method 1: Using BAGS\n",
    "FERTILIZER_BAG_WEIGHT = 50  # kg per bag\n",
    "DEMANDS_BAGS = {\n",
    "    # Gujranwala cluster\n",
    "    \"Kamoke\": 80,        # 80 bags = 4 tons\n",
    "    \"Eminabad\": 60,      # 60 bags = 3 tons  \n",
    "    \"Nowshera Virkan\": 100,  # 100 bags = 5 tons\n",
    "    # Sheikhupura cluster\n",
    "    \"Ferozewala\": 60,    # 60 bags = 3 tons\n",
    "    \"Muridke\": 100,      # 100 bags = 5 tons\n",
    "    \"Safdarabad\": 80,    # 80 bags = 4 tons\n",
    "    # Kasur cluster\n",
    "    \"Pattoki\": 120,      # 120 bags = 6 tons\n",
    "    \"Chunian\": 100,      # 100 bags = 5 tons\n",
    "    \"Kot Radha Kishan\": 60,  # 60 bags = 3 tons\n",
    "}\n",
    "\n",
    "# Method 2: Using TONS (current approach)\n",
    "DEMANDS_TONS = {\n",
    "    \"Kamoke\": 4,\n",
    "    \"Eminabad\": 3,\n",
    "    \"Nowshera Virkan\": 5,\n",
    "    \"Ferozewala\": 3,\n",
    "    \"Muridke\": 5,\n",
    "    \"Safdarabad\": 4,\n",
    "    \"Pattoki\": 6,\n",
    "    \"Chunian\": 5,\n",
    "    \"Kot Radha Kishan\": 3,\n",
    "}\n",
    "\n",
    "print(\"Comparison:\")\n",
    "print(\"Method 1 - Bags: Total =\", sum(DEMANDS_BAGS.values()), \"bags\")\n",
    "print(\"Method 2 - Tons: Total =\", sum(DEMANDS_TONS.values()), \"tons\")\n",
    "print(\"Weight equivalence:\", sum(DEMANDS_BAGS.values()) * FERTILIZER_BAG_WEIGHT / 1000, \"tons\")"
   ]
  },
  {
   "cell_type": "code",
   "execution_count": null,
   "id": "d6e87a75",
   "metadata": {},
   "outputs": [
    {
     "name": "stdout",
     "output_type": "stream",
     "text": [
      "Cargo demands (tons):\n",
      "  Kamoke: 4t\n",
      "  Eminabad: 3t\n",
      "  Nowshera Virkan: 5t\n",
      "  Ferozewala: 3t\n",
      "  Muridke: 5t\n",
      "  Safdarabad: 4t\n",
      "  Pattoki: 6t\n",
      "  Chunian: 5t\n",
      "  Kot Radha Kishan: 3t\n",
      "Total system demand: 38t\n"
     ]
    }
   ],
   "source": [
    "# How much cargo each sub-warehouse needs (in tons)\n",
    "DEMANDS_TONS = {\n",
    "    # Gujranwala cluster\n",
    "    \"Kamoke\": 4,\n",
    "    \"Eminabad\": 3,\n",
    "    \"Nowshera Virkan\": 5,\n",
    "    # Sheikhupura cluster\n",
    "    \"Ferozewala\": 3,\n",
    "    \"Muridke\": 5,\n",
    "    \"Safdarabad\": 4,\n",
    "    # Kasur cluster\n",
    "    \"Pattoki\": 6,\n",
    "    \"Chunian\": 5,\n",
    "    \"Kot Radha Kishan\": 3,\n",
    "}\n",
    "\n",
    "print(\"Cargo demands (tons):\")\n",
    "total_demand = 0\n",
    "for location, demand in DEMANDS_TONS.items():\n",
    "    print(f\"  {location}: {demand}t\")\n",
    "    total_demand += demand\n",
    "print(f\"Total system demand: {total_demand}t\")"
   ]
  },
  {
   "cell_type": "code",
   "execution_count": null,
   "id": "578fce25",
   "metadata": {},
   "outputs": [
    {
     "name": "stdout",
     "output_type": "stream",
     "text": [
      "Vehicle fleets:\n",
      "Echelon 1 (Lahore → satellites): 2 trucks of 15t each\n",
      "Echelon 2 (satellites → sub-warehouses):\n",
      "  Gujranwala: 2 trucks of 5t each\n",
      "  Sheikhupura: 2 trucks of 5t each\n",
      "  Kasur: 2 trucks of 5t each\n"
     ]
    }
   ],
   "source": [
    "# Vehicle capacities for fertilizer distribution\n",
    "E1_CAPACITIES = [15, 15]  # Two 15-ton trucks for main routes\n",
    "E2_CAPACITIES = {\n",
    "    \"Gujranwala\": [5, 5],    # Two 5-ton trucks per satellite\n",
    "    \"Sheikhupura\": [5, 5],   # (smaller trucks for local delivery)\n",
    "    \"Kasur\": [5, 5],\n",
    "}\n",
    "\n",
    "print(\"Vehicle fleets:\")\n",
    "print(f\"Echelon 1 (Lahore → satellites): {len(E1_CAPACITIES)} trucks of {E1_CAPACITIES[0]}t each\")\n",
    "print(\"Echelon 2 (satellites → sub-warehouses):\")\n",
    "for sat, caps in E2_CAPACITIES.items():\n",
    "    print(f\"  {sat}: {len(caps)} trucks of {caps[0]}t each\")\n"
   ]
  },
  {
   "cell_type": "code",
   "execution_count": null,
   "id": "dbaf4ac8",
   "metadata": {},
   "outputs": [
    {
     "name": "stdout",
     "output_type": "stream",
     "text": [
      "Fertilizer delivery fleet:\n",
      "Main warehouse → Satellites: 2 trucks of 15t each\n",
      "Satellite → Sub-districts:\n",
      "  Gujranwala: 2 trucks of 5t each\n",
      "  Sheikhupura: 2 trucks of 5t each\n",
      "  Kasur: 2 trucks of 5t each\n",
      "\n",
      "For 50kg bags: 1 ton = 20 bags\n"
     ]
    }
   ],
   "source": []
  },
  {
   "cell_type": "markdown",
   "id": "c20d7bc3",
   "metadata": {},
   "source": [
    "### Rethinking"
   ]
  },
  {
   "cell_type": "code",
   "execution_count": null,
   "id": "26bd753e",
   "metadata": {},
   "outputs": [
    {
     "name": "stdout",
     "output_type": "stream",
     "text": [
      "✅ OSMnx and mapping libraries imported successfully!\n"
     ]
    }
   ],
   "source": [
    "import osmnx as ox\n",
    "import folium\n",
    "import geopandas as gpd\n",
    "import numpy as np\n",
    "from folium import plugins\n",
    "import networkx as nx\n",
    "# vpr_sample_pakistan.py\n",
    "# Requirements: pip install ortools\n",
    "\n",
    "\n",
    "\n",
    "print(\"✅ OSMnx and mapping libraries imported successfully!\")"
   ]
  },
  {
   "cell_type": "code",
   "execution_count": 2,
   "id": "733eb732",
   "metadata": {},
   "outputs": [],
   "source": [
    "from math import radians, sin, cos, sqrt, atan2"
   ]
  },
  {
   "cell_type": "markdown",
   "id": "4bbfbb86",
   "metadata": {},
   "source": []
  },
  {
   "cell_type": "code",
   "execution_count": 3,
   "id": "c10c8071",
   "metadata": {},
   "outputs": [
    {
     "name": "stdout",
     "output_type": "stream",
     "text": [
      "Solution routes:\n",
      "Vehicle 1: capacity=80 cost_per_km=0.7\n",
      "  -> Warehouse -> Shop B -> Shop G -> Warehouse\n",
      "  Load: 38 bags\n",
      "  Estimated cost units: 1394\n",
      "Vehicle 2: capacity=80 cost_per_km=0.7\n",
      "  -> Warehouse -> Shop A -> Shop E -> Shop F -> Shop D -> Warehouse\n",
      "  Load: 77 bags\n",
      "  Estimated cost units: 1831\n",
      "Vehicle 3: capacity=50 cost_per_km=0.5\n",
      "  -> Warehouse -> Shop C -> Shop H -> Warehouse\n",
      "  Load: 50 bags\n",
      "  Estimated cost units: 1376\n",
      "Total estimated cost units: 4601\n",
      "Estimated total cost (currency units): 46.01\n"
     ]
    }
   ],
   "source": [
    "from ortools.constraint_solver import pywrapcp, routing_enums_pb2\n",
    "\n",
    "# ----- Sample coordinates (Lahore-ish) -----\n",
    "# Warehouse first, then shops (lat, lon)\n",
    "locations = [\n",
    "    (\"Warehouse\", 31.5204, 74.3587),  # central Lahore (example)\n",
    "    (\"Shop A\",    31.5340, 74.3572),\n",
    "    (\"Shop B\",    31.5157, 74.3673),\n",
    "    (\"Shop C\",    31.5280, 74.3810),\n",
    "    (\"Shop D\",    31.5060, 74.3430),\n",
    "    (\"Shop E\",    31.5400, 74.3440),\n",
    "    (\"Shop F\",    31.5220, 74.3320),\n",
    "    (\"Shop G\",    31.5100, 74.3790),\n",
    "    (\"Shop H\",    31.5380, 74.3720),\n",
    "]\n",
    "\n",
    "# Demands in bags (warehouse has 0)\n",
    "demands = [0, 40, 20, 30, 10, 12, 15, 18, 20]\n",
    "\n",
    "# Vehicle fleet: (count, capacity in bags, cost_per_km)\n",
    "# Example heterogenous fleet: 2 trucks and 2 vans\n",
    "vehicles = [\n",
    "    {\"count\": 1, \"capacity\": 200, \"cost_per_km\": 1.0},  # big truck: 1.0 currency/km\n",
    "    {\"count\": 2, \"capacity\": 80,  \"cost_per_km\": 0.7},  # medium van\n",
    "    {\"count\": 1, \"capacity\": 50,  \"cost_per_km\": 0.5},  # small van\n",
    "]\n",
    "\n",
    "# Helper: haversine distance (km)\n",
    "def haversine_km(lat1, lon1, lat2, lon2):\n",
    "    R = 6371.0\n",
    "    dlat = radians(lat2 - lat1)\n",
    "    dlon = radians(lon2 - lon1)\n",
    "    a = sin(dlat/2)**2 + cos(radians(lat1)) * cos(radians(lat2)) * sin(dlon/2)**2\n",
    "    c = 2 * atan2(sqrt(a), sqrt(1-a))\n",
    "    return R * c\n",
    "\n",
    "# Build distance matrix (approx road distance = haversine * factor)\n",
    "n = len(locations)\n",
    "dist_km = [[0]*n for _ in range(n)]\n",
    "road_factor = 1.25  # scale to approximate road path vs straight-line\n",
    "for i in range(n):\n",
    "    for j in range(n):\n",
    "        if i == j:\n",
    "            dist_km[i][j] = 0\n",
    "        else:\n",
    "            dist_km[i][j] = haversine_km(locations[i][1], locations[i][2],\n",
    "                                         locations[j][1], locations[j][2]) * road_factor\n",
    "\n",
    "# Convert to integer costs (meters or scaled integer)\n",
    "SCALE = 100  # so 1 km = 100 units (keeps integers but preserves decimals)\n",
    "dist_matrix = [[int(round(d * SCALE)) for d in row] for row in dist_km]\n",
    "\n",
    "# Flatten vehicles into list of vehicle specs\n",
    "vehicle_specs = []\n",
    "for v in vehicles:\n",
    "    for _ in range(v[\"count\"]):\n",
    "        vehicle_specs.append((v[\"capacity\"], v[\"cost_per_km\"]))\n",
    "num_vehicles = len(vehicle_specs)\n",
    "depot = 0\n",
    "\n",
    "# OR-Tools: create routing model\n",
    "manager = pywrapcp.RoutingIndexManager(len(dist_matrix), num_vehicles, depot)\n",
    "routing = pywrapcp.RoutingModel(manager)\n",
    "\n",
    "# For heterogeneous per-vehicle cost, we register a separate evaluator for each vehicle.\n",
    "def make_distance_callback(matrix):\n",
    "    def distance_callback(from_index, to_index):\n",
    "        from_node = manager.IndexToNode(from_index)\n",
    "        to_node = manager.IndexToNode(to_index)\n",
    "        return matrix[from_node][to_node]\n",
    "    return distance_callback\n",
    "\n",
    "# Register base evaluator (we'll set per-vehicle later)\n",
    "base_callback = make_distance_callback(dist_matrix)\n",
    "base_evaluator_idx = routing.RegisterTransitCallback(base_callback)\n",
    "\n",
    "# Set arc cost evaluator per vehicle with per-km multiplier baked in\n",
    "for vid, (cap, cost_per_km) in enumerate(vehicle_specs):\n",
    "    # We need an evaluator that multiplies base distance by vehicle-specific cost multiplier.\n",
    "    # To do that, create a wrapper callback that multiplies by (cost_per_km * SCALE)\n",
    "    # Since base is in SCALE units of km, cost per unit = cost_per_km / SCALE_km? Simpler:\n",
    "    multiplier = cost_per_km  # currency per km\n",
    "    def make_eval(m):\n",
    "        def eval_fn(from_index, to_index):\n",
    "            f = manager.IndexToNode(from_index)\n",
    "            t = manager.IndexToNode(to_index)\n",
    "            # distance in km = dist_matrix[f][t] / SCALE\n",
    "            # cost = (distance_km) * m; we convert to integer by multiply by 100 and round\n",
    "            return int(round(dist_matrix[f][t] / SCALE * m * 100))  # integer cost units (e.g., paisa)\n",
    "        return eval_fn\n",
    "    evaluator_index = routing.RegisterTransitCallback(make_eval(multiplier))\n",
    "    routing.SetArcCostEvaluatorOfVehicle(evaluator_index, vid)\n",
    "\n",
    "# Add capacity dimension\n",
    "def demand_callback(from_index):\n",
    "    node = manager.IndexToNode(from_index)\n",
    "    return demands[node]\n",
    "demand_cb_idx = routing.RegisterUnaryTransitCallback(demand_callback)\n",
    "routing.AddDimensionWithVehicleCapacity(\n",
    "    demand_cb_idx,\n",
    "    0,  # null capacity slack\n",
    "    [spec[0] for spec in vehicle_specs],  # vehicle capacities\n",
    "    True,\n",
    "    \"Capacity\"\n",
    ")\n",
    "\n",
    "# Optional: minimize number of vehicles used via small fixed cost\n",
    "# OR-Tools provides SetFixedCostOfVehicle in newer versions; if not available, you can add a penalty to unused vehicles.\n",
    "for v in range(num_vehicles):\n",
    "    routing.SetFixedCostOfVehicle(1000, v)  # a fixed cost in same integer units (tweak as needed)\n",
    "\n",
    "# Solve\n",
    "search_parameters = pywrapcp.DefaultRoutingSearchParameters()\n",
    "search_parameters.first_solution_strategy = (\n",
    "    routing_enums_pb2.FirstSolutionStrategy.PATH_CHEAPEST_ARC)\n",
    "search_parameters.time_limit.seconds = 10  # small for prototype\n",
    "search_parameters.log_search = False\n",
    "\n",
    "solution = routing.SolveWithParameters(search_parameters)\n",
    "if solution:\n",
    "    total_cost = 0\n",
    "    print(\"Solution routes:\")\n",
    "    for v in range(num_vehicles):\n",
    "        index = routing.Start(v)\n",
    "        route = []\n",
    "        load = 0\n",
    "        route_cost = 0\n",
    "        while not routing.IsEnd(index):\n",
    "            node = manager.IndexToNode(index)\n",
    "            route.append(locations[node][0])\n",
    "            load += demands[node]\n",
    "            next_index = solution.Value(routing.NextVar(index))\n",
    "            route_cost += routing.GetArcCostForVehicle(index, next_index, v)\n",
    "            index = next_index\n",
    "        route.append(locations[manager.IndexToNode(index)][0])  # depot at end\n",
    "        if len(route) > 2:  # vehicle used to visit something\n",
    "            # route_cost is in integer cost units (we multiplied by 100)\n",
    "            print(f\"Vehicle {v}: capacity={vehicle_specs[v][0]} cost_per_km={vehicle_specs[v][1]}\")\n",
    "            print(\"  -> \" + \" -> \".join(route))\n",
    "            print(f\"  Load: {load} bags\")\n",
    "            print(f\"  Estimated cost units: {route_cost}\") \n",
    "            total_cost += route_cost\n",
    "    print(f\"Total estimated cost units: {total_cost}\")\n",
    "    # Convert cost units back to currency-ish (we multiplied by 100 above)\n",
    "    print(f\"Estimated total cost (currency units): {total_cost/100:.2f}\")\n",
    "else:\n",
    "    print(\"No solution found.\")\n"
   ]
  },
  {
   "cell_type": "markdown",
   "id": "8a827b3b",
   "metadata": {},
   "source": [
    "#### Validation"
   ]
  },
  {
   "cell_type": "code",
   "execution_count": 4,
   "id": "7d94df39",
   "metadata": {},
   "outputs": [
    {
     "data": {
      "text/plain": [
       "[0, 40, 20, 30, 10, 12, 15, 18, 20]"
      ]
     },
     "execution_count": 4,
     "metadata": {},
     "output_type": "execute_result"
    }
   ],
   "source": [
    "demands"
   ]
  },
  {
   "cell_type": "code",
   "execution_count": 5,
   "id": "b143a00b",
   "metadata": {},
   "outputs": [
    {
     "data": {
      "text/plain": [
       "165"
      ]
     },
     "execution_count": 5,
     "metadata": {},
     "output_type": "execute_result"
    }
   ],
   "source": [
    "sum(demands)"
   ]
  },
  {
   "cell_type": "code",
   "execution_count": 6,
   "id": "e6058add",
   "metadata": {},
   "outputs": [
    {
     "data": {
      "text/plain": [
       "[{'count': 1, 'capacity': 200, 'cost_per_km': 1.0},\n",
       " {'count': 2, 'capacity': 80, 'cost_per_km': 0.7},\n",
       " {'count': 1, 'capacity': 50, 'cost_per_km': 0.5}]"
      ]
     },
     "execution_count": 6,
     "metadata": {},
     "output_type": "execute_result"
    }
   ],
   "source": [
    "vehicles"
   ]
  },
  {
   "cell_type": "code",
   "execution_count": 4,
   "id": "93d40c57",
   "metadata": {},
   "outputs": [
    {
     "name": "stdout",
     "output_type": "stream",
     "text": [
      "=== SINGLE-ECHELON VRP: One Warehouse → Multiple Shops ===\n",
      "\n",
      "📍 Locations:\n",
      "  0: Warehouse at (31.5204, 74.3587)\n",
      "  1: Shop A at (31.5340, 74.3572)\n",
      "  2: Shop B at (31.5157, 74.3673)\n",
      "  3: Shop C at (31.5280, 74.3810)\n",
      "  4: Shop D at (31.5060, 74.3430)\n",
      "  5: Shop E at (31.5400, 74.3440)\n",
      "  6: Shop F at (31.5220, 74.3320)\n",
      "  7: Shop G at (31.5100, 74.3790)\n",
      "  8: Shop H at (31.5380, 74.3720)\n"
     ]
    }
   ],
   "source": [
    "# Step 1: Let's first understand our setup\n",
    "print(\"=== SINGLE-ECHELON VRP: One Warehouse → Multiple Shops ===\\n\")\n",
    "\n",
    "# Our locations (warehouse + shops)\n",
    "locations = [\n",
    "    (\"Warehouse\", 31.5204, 74.3587),  # central Lahore (example)\n",
    "    (\"Shop A\",    31.5340, 74.3572),\n",
    "    (\"Shop B\",    31.5157, 74.3673),\n",
    "    (\"Shop C\",    31.5280, 74.3810),\n",
    "    (\"Shop D\",    31.5060, 74.3430),\n",
    "    (\"Shop E\",    31.5400, 74.3440),\n",
    "    (\"Shop F\",    31.5220, 74.3320),\n",
    "    (\"Shop G\",    31.5100, 74.3790),\n",
    "    (\"Shop H\",    31.5380, 74.3720),\n",
    "]\n",
    "\n",
    "print(\"📍 Locations:\")\n",
    "for i, (name, lat, lon) in enumerate(locations):\n",
    "    print(f\"  {i}: {name} at ({lat:.4f}, {lon:.4f})\")"
   ]
  },
  {
   "cell_type": "code",
   "execution_count": 5,
   "id": "0da3b43a",
   "metadata": {},
   "outputs": [
    {
     "name": "stdout",
     "output_type": "stream",
     "text": [
      "\n",
      "📦 Demands (fertilizer bags):\n",
      "  Warehouse: 0 bags\n",
      "  Shop A: 40 bags\n",
      "  Shop B: 20 bags\n",
      "  Shop C: 30 bags\n",
      "  Shop D: 10 bags\n",
      "  Shop E: 12 bags\n",
      "  Shop F: 15 bags\n",
      "  Shop G: 18 bags\n",
      "  Shop H: 20 bags\n",
      "\n",
      "📊 Total demand: 165 bags\n"
     ]
    }
   ],
   "source": [
    "# Step 2: Demands - how much each location needs\n",
    "demands = [0, 40, 20, 30, 10, 12, 15, 18, 20]  # warehouse needs 0, shops need fertilizer bags\n",
    "\n",
    "print(\"\\n📦 Demands (fertilizer bags):\")\n",
    "for i, (name, _, _) in enumerate(locations):\n",
    "    print(f\"  {name}: {demands[i]} bags\")\n",
    "\n",
    "total_demand = sum(demands)\n",
    "print(f\"\\n📊 Total demand: {total_demand} bags\")"
   ]
  },
  {
   "cell_type": "code",
   "execution_count": 6,
   "id": "3bc1fa3f",
   "metadata": {},
   "outputs": [
    {
     "name": "stdout",
     "output_type": "stream",
     "text": [
      "\n",
      "🚛 Available vehicles:\n",
      "  1x 200-bag truck(s) @ ₨100.0/km\n",
      "  2x 80-bag truck(s) @ ₨70/km\n",
      "  1x 50-bag truck(s) @ ₨50/km\n",
      "\n",
      "📋 Fleet summary:\n",
      "  Total vehicles: 4\n",
      "  Total capacity: 410 bags\n",
      "  Demand vs Capacity: 165/410 bags (40.2% utilization)\n"
     ]
    }
   ],
   "source": [
    "# Step 3: Our vehicle fleet - different truck types with different costs\n",
    "vehicles = [\n",
    "    {\"count\": 1, \"capacity\": 200, \"cost_per_km\": 100.0},  # 1 big truck: expensive but high capacity\n",
    "    {\"count\": 2, \"capacity\": 80,  \"cost_per_km\": 70},  # 2 medium vans: balanced\n",
    "    {\"count\": 1, \"capacity\": 50,  \"cost_per_km\": 50},  # 1 small van: cheap but low capacity\n",
    "]\n",
    "\n",
    "print(\"\\n🚛 Available vehicles:\")\n",
    "total_vehicles = 0\n",
    "total_capacity = 0\n",
    "for v in vehicles:\n",
    "    print(f\"  {v['count']}x {v['capacity']}-bag truck(s) @ ₨{v['cost_per_km']}/km\")\n",
    "    total_vehicles += v['count']\n",
    "    total_capacity += v['count'] * v['capacity']\n",
    "\n",
    "print(f\"\\n📋 Fleet summary:\")\n",
    "print(f\"  Total vehicles: {total_vehicles}\")\n",
    "print(f\"  Total capacity: {total_capacity} bags\")\n",
    "print(f\"  Demand vs Capacity: {total_demand}/{total_capacity} bags ({total_demand/total_capacity*100:.1f}% utilization)\")"
   ]
  },
  {
   "cell_type": "code",
   "execution_count": 10,
   "id": "cf6cb89c",
   "metadata": {},
   "outputs": [
    {
     "name": "stdout",
     "output_type": "stream",
     "text": [
      "\n",
      "📏 Distance Matrix (km):\n",
      "         0    1    2    3    4    5    6    7    8\n",
      " 0:   0.0  1.9  1.2  2.8  2.7  3.2  3.2  2.8  2.9  (Warehouse)\n",
      " 1:   1.9  0.0  2.8  2.9  4.2  1.8  3.4  4.2  1.8  (Shop A)\n",
      " 2:   1.2  2.8  0.0  2.4  3.2  4.4  4.3  1.6  3.1  (Shop B)\n",
      " 3:   2.8  2.9  2.4  0.0  5.4  4.7  5.9  2.5  1.8  (Shop C)\n",
      " 4:   2.7  4.2  3.2  5.4  0.0  4.7  2.6  4.3  5.6  (Shop D)\n",
      " 5:   3.2  1.8  4.4  4.7  4.7  0.0  2.9  5.9  3.3  (Shop E)\n",
      " 6:   3.2  3.4  4.3  5.9  2.6  2.9  0.0  5.8  5.2  (Shop F)\n",
      " 7:   2.8  4.2  1.6  2.5  4.3  5.9  5.8  0.0  4.0  (Shop G)\n",
      " 8:   2.9  1.8  3.1  1.8  5.6  3.3  5.2  4.0  0.0  (Shop H)\n"
     ]
    }
   ],
   "source": [
    "# Step 4: Calculate distances between all locations using GPS coordinates\n",
    "from math import radians, sin, cos, sqrt, atan2\n",
    "\n",
    "def haversine_km(lat1, lon1, lat2, lon2):\n",
    "    \"\"\"Calculate real-world distance between two GPS points\"\"\"\n",
    "    R = 6371.0  # Earth's radius in km\n",
    "    dlat = radians(lat2 - lat1)\n",
    "    dlon = radians(lon2 - lon1)\n",
    "    a = sin(dlat/2)**2 + cos(radians(lat1)) * cos(radians(lat2)) * sin(dlon/2)**2\n",
    "    c = 2 * atan2(sqrt(a), sqrt(1-a))\n",
    "    return R * c\n",
    "\n",
    "# Build distance matrix\n",
    "n = len(locations)\n",
    "dist_km = [[0]*n for _ in range(n)]\n",
    "road_factor = 1.25  # roads are ~25% longer than straight-line distance\n",
    "\n",
    "print(\"\\n📏 Distance Matrix (km):\")\n",
    "print(\"     \", end=\"\")\n",
    "for i in range(n):\n",
    "    print(f\"{i:5}\", end=\"\")\n",
    "print()\n",
    "\n",
    "for i in range(n):\n",
    "    print(f\"{i:2}: \", end=\"\")\n",
    "    for j in range(n):\n",
    "        if i == j:\n",
    "            dist_km[i][j] = 0\n",
    "            print(f\"{0:5.1f}\", end=\"\")\n",
    "        else:\n",
    "            dist_km[i][j] = haversine_km(locations[i][1], locations[i][2],\n",
    "                                         locations[j][1], locations[j][2]) * road_factor\n",
    "            print(f\"{dist_km[i][j]:5.1f}\", end=\"\")\n",
    "    print(f\"  ({locations[i][0]})\")"
   ]
  },
  {
   "cell_type": "code",
   "execution_count": 11,
   "id": "bc56f5d3",
   "metadata": {},
   "outputs": [
    {
     "name": "stdout",
     "output_type": "stream",
     "text": [
      "\n",
      "🔧 OR-Tools setup:\n",
      "  Distance matrix: 9x9 (scaled by 100)\n",
      "  Vehicle specs: 4 individual vehicles\n",
      "    Vehicle 0: 200 bags capacity, ₨100.0/km\n",
      "    Vehicle 1: 80 bags capacity, ₨70/km\n",
      "    Vehicle 2: 80 bags capacity, ₨70/km\n",
      "    Vehicle 3: 50 bags capacity, ₨50/km\n"
     ]
    }
   ],
   "source": [
    "# Step 5: Prepare the data for OR-Tools optimization\n",
    "from ortools.constraint_solver import pywrapcp, routing_enums_pb2\n",
    "\n",
    "# Convert distances to integer (OR-Tools requirement)\n",
    "SCALE = 100  # 1 km = 100 units for precision\n",
    "dist_matrix = [[int(round(d * SCALE)) for d in row] for row in dist_km]\n",
    "\n",
    "# Flatten vehicle specs into individual vehicles\n",
    "vehicle_specs = []\n",
    "for v in vehicles:\n",
    "    for _ in range(v[\"count\"]):\n",
    "        vehicle_specs.append((v[\"capacity\"], v[\"cost_per_km\"]))\n",
    "\n",
    "print(f\"\\n🔧 OR-Tools setup:\")\n",
    "print(f\"  Distance matrix: {n}x{n} (scaled by {SCALE})\")\n",
    "print(f\"  Vehicle specs: {len(vehicle_specs)} individual vehicles\")\n",
    "for i, (cap, cost) in enumerate(vehicle_specs):\n",
    "    print(f\"    Vehicle {i}: {cap} bags capacity, ₨{cost}/km\")"
   ]
  },
  {
   "cell_type": "code",
   "execution_count": 12,
   "id": "8cc30390",
   "metadata": {},
   "outputs": [
    {
     "name": "stdout",
     "output_type": "stream",
     "text": [
      "✅ VRP model created successfully!\n"
     ]
    }
   ],
   "source": [
    "# Step 6: Run the VRP optimization\n",
    "manager = pywrapcp.RoutingIndexManager(len(dist_matrix), len(vehicle_specs), 0)  # depot = 0 (warehouse)\n",
    "routing = pywrapcp.RoutingModel(manager)\n",
    "\n",
    "# Distance callback\n",
    "def make_distance_callback(matrix):\n",
    "    def distance_callback(from_index, to_index):\n",
    "        from_node = manager.IndexToNode(from_index)\n",
    "        to_node = manager.IndexToNode(to_index)\n",
    "        return matrix[from_node][to_node]\n",
    "    return distance_callback\n",
    "\n",
    "base_callback = make_distance_callback(dist_matrix)\n",
    "\n",
    "# Set different costs per vehicle type\n",
    "for vid, (cap, cost_per_km) in enumerate(vehicle_specs):\n",
    "    def make_cost_eval(multiplier):\n",
    "        def cost_eval(from_index, to_index):\n",
    "            f = manager.IndexToNode(from_index)\n",
    "            t = manager.IndexToNode(to_index)\n",
    "            # Convert: distance_units/SCALE * cost_per_km * 100 (for integer precision)\n",
    "            return int(round(dist_matrix[f][t] / SCALE * multiplier * 100))\n",
    "        return cost_eval\n",
    "    \n",
    "    cost_evaluator = routing.RegisterTransitCallback(make_cost_eval(cost_per_km))\n",
    "    routing.SetArcCostEvaluatorOfVehicle(cost_evaluator, vid)\n",
    "\n",
    "# Add capacity constraints\n",
    "def demand_callback(from_index):\n",
    "    node = manager.IndexToNode(from_index)\n",
    "    return demands[node]\n",
    "\n",
    "demand_cb_idx = routing.RegisterUnaryTransitCallback(demand_callback)\n",
    "routing.AddDimensionWithVehicleCapacity(\n",
    "    demand_cb_idx, 0, [spec[0] for spec in vehicle_specs], True, \"Capacity\")\n",
    "\n",
    "# Add fixed cost to minimize number of vehicles used\n",
    "for v in range(len(vehicle_specs)):\n",
    "    routing.SetFixedCostOfVehicle(1000, v)\n",
    "\n",
    "print(\"✅ VRP model created successfully!\")"
   ]
  },
  {
   "cell_type": "code",
   "execution_count": 13,
   "id": "be8d041e",
   "metadata": {},
   "outputs": [
    {
     "name": "stdout",
     "output_type": "stream",
     "text": [
      "\n",
      "🔍 Solving VRP...\n",
      "\n",
      "✅ Solution found!\n",
      "\n",
      "🚛 OPTIMIZED DELIVERY ROUTES:\n",
      "==================================================\n",
      "\n",
      "🚚 Vehicle 2 (80-bag truck, ₨70/km):\n",
      "   Route: Warehouse → Shop B → Shop G → Warehouse\n",
      "   Load: 38/80 bags (47.5% full)\n",
      "   Distance: 5.6 km\n",
      "   Cost: ₨403.40\n",
      "\n",
      "🚚 Vehicle 3 (80-bag truck, ₨70/km):\n",
      "   Route: Warehouse → Shop A → Shop E → Shop F → Shop D → Warehouse\n",
      "   Load: 77/80 bags (96.2% full)\n",
      "   Distance: 11.9 km\n",
      "   Cost: ₨840.20\n",
      "\n",
      "🚚 Vehicle 4 (50-bag truck, ₨50/km):\n",
      "   Route: Warehouse → Shop C → Shop H → Warehouse\n",
      "   Load: 50/50 bags (100.0% full)\n",
      "   Distance: 7.5 km\n",
      "   Cost: ₨385.50\n",
      "\n",
      "📊 SUMMARY:\n",
      "   Vehicles used: 3/4\n",
      "   Total distance: 25.0 km\n",
      "   Total cost: ₨1629.10\n",
      "   Cost per bag: ₨9.87\n",
      "   Avg cost per km: ₨65.22\n"
     ]
    }
   ],
   "source": [
    "# Step 7: Solve and display results\n",
    "search_parameters = pywrapcp.DefaultRoutingSearchParameters()\n",
    "search_parameters.first_solution_strategy = routing_enums_pb2.FirstSolutionStrategy.PATH_CHEAPEST_ARC\n",
    "search_parameters.time_limit.seconds = 10\n",
    "\n",
    "print(\"\\n🔍 Solving VRP...\")\n",
    "solution = routing.SolveWithParameters(search_parameters)\n",
    "\n",
    "if solution:\n",
    "    print(\"\\n✅ Solution found!\")\n",
    "    print(\"\\n🚛 OPTIMIZED DELIVERY ROUTES:\")\n",
    "    print(\"=\" * 50)\n",
    "    \n",
    "    total_cost = 0\n",
    "    total_distance = 0\n",
    "    vehicles_used = 0\n",
    "    \n",
    "    for v in range(len(vehicle_specs)):\n",
    "        index = routing.Start(v)\n",
    "        route = []\n",
    "        load = 0\n",
    "        route_cost = 0\n",
    "        route_distance = 0\n",
    "        \n",
    "        while not routing.IsEnd(index):\n",
    "            node = manager.IndexToNode(index)\n",
    "            route.append(locations[node][0])\n",
    "            load += demands[node]\n",
    "            next_index = solution.Value(routing.NextVar(index))\n",
    "            route_cost += routing.GetArcCostForVehicle(index, next_index, v)\n",
    "            route_distance += dist_km[node][manager.IndexToNode(next_index)]\n",
    "            index = next_index\n",
    "        \n",
    "        route.append(locations[manager.IndexToNode(index)][0])  # return to warehouse\n",
    "        \n",
    "        if len(route) > 2:  # vehicle was actually used\n",
    "            vehicles_used += 1\n",
    "            capacity, cost_per_km = vehicle_specs[v]\n",
    "            print(f\"\\n🚚 Vehicle {v+1} ({capacity}-bag truck, ₨{cost_per_km}/km):\")\n",
    "            print(f\"   Route: {' → '.join(route)}\")\n",
    "            print(f\"   Load: {load}/{capacity} bags ({load/capacity*100:.1f}% full)\")\n",
    "            print(f\"   Distance: {route_distance:.1f} km\")\n",
    "            print(f\"   Cost: ₨{route_cost/100:.2f}\")\n",
    "            \n",
    "            total_cost += route_cost\n",
    "            total_distance += route_distance\n",
    "    \n",
    "    print(f\"\\n📊 SUMMARY:\")\n",
    "    print(f\"   Vehicles used: {vehicles_used}/{len(vehicle_specs)}\")\n",
    "    print(f\"   Total distance: {total_distance:.1f} km\")\n",
    "    print(f\"   Total cost: ₨{total_cost/100:.2f}\")\n",
    "    print(f\"   Cost per bag: ₨{total_cost/100/total_demand:.2f}\")\n",
    "    print(f\"   Avg cost per km: ₨{total_cost/100/total_distance:.2f}\")\n",
    "    \n",
    "else:\n",
    "    print(\"❌ No solution found!\")"
   ]
  },
  {
   "cell_type": "code",
   "execution_count": 14,
   "id": "07815279",
   "metadata": {},
   "outputs": [],
   "source": [
    "# Install required packages\n",
    "\n",
    "\n"
   ]
  },
  {
   "cell_type": "markdown",
   "id": "31573a03",
   "metadata": {},
   "source": [
    "### Enchanced road calculation"
   ]
  },
  {
   "cell_type": "code",
   "execution_count": 8,
   "id": "c7a397c8",
   "metadata": {},
   "outputs": [
    {
     "name": "stdout",
     "output_type": "stream",
     "text": [
      "✅ OSMnx and mapping libraries imported successfully!\n"
     ]
    }
   ],
   "source": [
    "# Install required packages\n",
    "#!pip install osmnx folium geopandas\n",
    "\n",
    "\n",
    "# import folium\n",
    "# import geopandas as gpd\n",
    "# import numpy as np\n",
    "# from folium import plugins\n",
    "# import networkx as nx\n",
    "\n",
    "print(\"✅ OSMnx and mapping libraries imported successfully!\")"
   ]
  },
  {
   "cell_type": "code",
   "execution_count": 9,
   "id": "8f1cc3e4",
   "metadata": {},
   "outputs": [],
   "source": [
    "import osmnx as ox"
   ]
  },
  {
   "cell_type": "code",
   "execution_count": 10,
   "id": "d772f1e5",
   "metadata": {},
   "outputs": [
    {
     "ename": "NameError",
     "evalue": "name 'n' is not defined",
     "output_type": "error",
     "traceback": [
      "\u001b[0;31m---------------------------------------------------------------------------\u001b[0m",
      "\u001b[0;31mNameError\u001b[0m                                 Traceback (most recent call last)",
      "Cell \u001b[0;32mIn[10], line 1\u001b[0m\n\u001b[0;32m----> 1\u001b[0m dist_km \u001b[38;5;241m=\u001b[39m [[\u001b[38;5;241m0\u001b[39m]\u001b[38;5;241m*\u001b[39mn \u001b[38;5;28;01mfor\u001b[39;00m _ \u001b[38;5;129;01min\u001b[39;00m \u001b[38;5;28mrange\u001b[39m(n)]\n",
      "\u001b[0;31mNameError\u001b[0m: name 'n' is not defined"
     ]
    }
   ],
   "source": [
    "dist_km = [[0]*n for _ in range(n)]"
   ]
  },
  {
   "cell_type": "code",
   "execution_count": 11,
   "id": "61d951de",
   "metadata": {},
   "outputs": [
    {
     "name": "stdout",
     "output_type": "stream",
     "text": [
      "📍 Downloading road network for area: 31.550, 31.496, 74.391, 74.322\n",
      "❌ Error with OSMnx: graph_from_bbox() takes 1 positional argument but 4 positional arguments (and 1 keyword-only argument) were given\n",
      "🔄 Falling back to haversine distances...\n"
     ]
    },
    {
     "ename": "NameError",
     "evalue": "name 'dist_km' is not defined",
     "output_type": "error",
     "traceback": [
      "\u001b[0;31m---------------------------------------------------------------------------\u001b[0m",
      "\u001b[0;31mTypeError\u001b[0m                                 Traceback (most recent call last)",
      "Cell \u001b[0;32mIn[11], line 59\u001b[0m\n\u001b[1;32m     58\u001b[0m \u001b[38;5;28;01mtry\u001b[39;00m:\n\u001b[0;32m---> 59\u001b[0m     G \u001b[38;5;241m=\u001b[39m get_road_network(locations)\n\u001b[1;32m     60\u001b[0m     real_dist_km, location_nodes \u001b[38;5;241m=\u001b[39m calculate_real_distances(locations, G)\n",
      "Cell \u001b[0;32mIn[11], line 16\u001b[0m, in \u001b[0;36mget_road_network\u001b[0;34m(locations, buffer_distance)\u001b[0m\n\u001b[1;32m     15\u001b[0m \u001b[38;5;66;03m# Download road network\u001b[39;00m\n\u001b[0;32m---> 16\u001b[0m G \u001b[38;5;241m=\u001b[39m ox\u001b[38;5;241m.\u001b[39mgraph_from_bbox(north, south, east, west, network_type\u001b[38;5;241m=\u001b[39m\u001b[38;5;124m'\u001b[39m\u001b[38;5;124mdrive\u001b[39m\u001b[38;5;124m'\u001b[39m)\n\u001b[1;32m     17\u001b[0m \u001b[38;5;28mprint\u001b[39m(\u001b[38;5;124mf\u001b[39m\u001b[38;5;124m\"\u001b[39m\u001b[38;5;124m✅ Downloaded road network with \u001b[39m\u001b[38;5;132;01m{\u001b[39;00m\u001b[38;5;28mlen\u001b[39m(G\u001b[38;5;241m.\u001b[39mnodes)\u001b[38;5;132;01m}\u001b[39;00m\u001b[38;5;124m nodes and \u001b[39m\u001b[38;5;132;01m{\u001b[39;00m\u001b[38;5;28mlen\u001b[39m(G\u001b[38;5;241m.\u001b[39medges)\u001b[38;5;132;01m}\u001b[39;00m\u001b[38;5;124m edges\u001b[39m\u001b[38;5;124m\"\u001b[39m)\n",
      "\u001b[0;31mTypeError\u001b[0m: graph_from_bbox() takes 1 positional argument but 4 positional arguments (and 1 keyword-only argument) were given",
      "\nDuring handling of the above exception, another exception occurred:\n",
      "\u001b[0;31mNameError\u001b[0m                                 Traceback (most recent call last)",
      "Cell \u001b[0;32mIn[11], line 77\u001b[0m\n\u001b[1;32m     75\u001b[0m \u001b[38;5;28mprint\u001b[39m(\u001b[38;5;124mf\u001b[39m\u001b[38;5;124m\"\u001b[39m\u001b[38;5;124m❌ Error with OSMnx: \u001b[39m\u001b[38;5;132;01m{\u001b[39;00me\u001b[38;5;132;01m}\u001b[39;00m\u001b[38;5;124m\"\u001b[39m)\n\u001b[1;32m     76\u001b[0m \u001b[38;5;28mprint\u001b[39m(\u001b[38;5;124m\"\u001b[39m\u001b[38;5;124m🔄 Falling back to haversine distances...\u001b[39m\u001b[38;5;124m\"\u001b[39m)\n\u001b[0;32m---> 77\u001b[0m real_dist_km \u001b[38;5;241m=\u001b[39m dist_km\n\u001b[1;32m     78\u001b[0m G \u001b[38;5;241m=\u001b[39m \u001b[38;5;28;01mNone\u001b[39;00m\n\u001b[1;32m     79\u001b[0m location_nodes \u001b[38;5;241m=\u001b[39m \u001b[38;5;28;01mNone\u001b[39;00m\n",
      "\u001b[0;31mNameError\u001b[0m: name 'dist_km' is not defined"
     ]
    }
   ],
   "source": [
    "# Enhanced distance calculation using real road networks\n",
    "def get_road_network(locations, buffer_distance=50000):\n",
    "    \"\"\"Download road network around all locations\"\"\"\n",
    "    # Get bounding box for all locations\n",
    "    lats = [loc[1] for loc in locations]\n",
    "    lons = [loc[2] for loc in locations]\n",
    "    \n",
    "    north = max(lats) + 0.01\n",
    "    south = min(lats) - 0.01\n",
    "    east = max(lons) + 0.01\n",
    "    west = min(lons) - 0.01\n",
    "    \n",
    "    print(f\"📍 Downloading road network for area: {north:.3f}, {south:.3f}, {east:.3f}, {west:.3f}\")\n",
    "    \n",
    "    # Download road network\n",
    "    G = ox.graph_from_bbox(north, south, east, west, network_type='drive')\n",
    "    print(f\"✅ Downloaded road network with {len(G.nodes)} nodes and {len(G.edges)} edges\")\n",
    "    \n",
    "    return G\n",
    "\n",
    "def calculate_real_distances(locations, graph):\n",
    "    \"\"\"Calculate actual road distances using OSMnx\"\"\"\n",
    "    n = len(locations)\n",
    "    distance_matrix = np.zeros((n, n))\n",
    "    \n",
    "    # Get nearest nodes for each location\n",
    "    nearest_nodes = []\n",
    "    for name, lat, lon in locations:\n",
    "        try:\n",
    "            node = ox.nearest_nodes(graph, lon, lat)\n",
    "            nearest_nodes.append(node)\n",
    "            print(f\"📍 {name}: Found nearest road node {node}\")\n",
    "        except Exception as e:\n",
    "            print(f\"❌ Error finding node for {name}: {e}\")\n",
    "            nearest_nodes.append(None)\n",
    "    \n",
    "    # Calculate shortest paths between all pairs\n",
    "    print(\"\\n🛣️ Calculating real road distances...\")\n",
    "    for i in range(n):\n",
    "        for j in range(n):\n",
    "            if i == j:\n",
    "                distance_matrix[i][j] = 0\n",
    "            elif nearest_nodes[i] and nearest_nodes[j]:\n",
    "                try:\n",
    "                    # Get shortest path\n",
    "                    path = nx.shortest_path(graph, nearest_nodes[i], nearest_nodes[j], weight='length')\n",
    "                    # Calculate path length\n",
    "                    path_length = sum(ox.utils_graph.get_route_edge_attributes(graph, path, 'length'))\n",
    "                    distance_matrix[i][j] = path_length / 1000  # Convert to km\n",
    "                except:\n",
    "                    # Fallback to haversine if no path found\n",
    "                    distance_matrix[i][j] = haversine_km(locations[i][1], locations[i][2], \n",
    "                                                       locations[j][1], locations[j][2])\n",
    "    \n",
    "    return distance_matrix, nearest_nodes\n",
    "\n",
    "# Download road network and calculate real distances\n",
    "try:\n",
    "    G = get_road_network(locations)\n",
    "    real_dist_km, location_nodes = calculate_real_distances(locations, G)\n",
    "    \n",
    "    print(\"\\n📊 Real Road Distance Matrix (km):\")\n",
    "    print(\"     \", end=\"\")\n",
    "    for i in range(len(locations)):\n",
    "        print(f\"{i:6}\", end=\"\")\n",
    "    print()\n",
    "    \n",
    "    for i in range(len(locations)):\n",
    "        print(f\"{i:2}: \", end=\"\")\n",
    "        for j in range(len(locations)):\n",
    "            print(f\"{real_dist_km[i][j]:6.1f}\", end=\"\")\n",
    "        print(f\"  ({locations[i][0]})\")\n",
    "        \n",
    "except Exception as e:\n",
    "    print(f\"❌ Error with OSMnx: {e}\")\n",
    "    print(\"🔄 Falling back to haversine distances...\")\n",
    "    real_dist_km = dist_km\n",
    "    G = None\n",
    "    location_nodes = None"
   ]
  },
  {
   "cell_type": "code",
   "execution_count": 12,
   "id": "13e0ab94",
   "metadata": {},
   "outputs": [
    {
     "name": "stdout",
     "output_type": "stream",
     "text": [
      "Current locations:\n",
      "  0: Warehouse at (31.5204, 74.3587)\n",
      "  1: Shop A at (31.5340, 74.3572)\n",
      "  2: Shop B at (31.5157, 74.3673)\n",
      "  3: Shop C at (31.5280, 74.3810)\n",
      "  4: Shop D at (31.5060, 74.3430)\n",
      "  5: Shop E at (31.5400, 74.3440)\n",
      "  6: Shop F at (31.5220, 74.3320)\n",
      "  7: Shop G at (31.5100, 74.3790)\n",
      "  8: Shop H at (31.5380, 74.3720)\n",
      "\n",
      "Bounding box for road network:\n",
      "  North: 31.5500\n",
      "  South: 31.4960\n",
      "  East: 74.3910\n",
      "  West: 74.3220\n"
     ]
    }
   ],
   "source": [
    "# First, let's see if your OSMnx network download worked\n",
    "print(\"Current locations:\")\n",
    "for i, (name, lat, lon) in enumerate(locations):\n",
    "    print(f\"  {i}: {name} at ({lat:.4f}, {lon:.4f})\")\n",
    "\n",
    "print(f\"\\nBounding box for road network:\")\n",
    "lats = [loc[1] for loc in locations]\n",
    "lons = [loc[2] for loc in locations]\n",
    "print(f\"  North: {max(lats) + 0.01:.4f}\")\n",
    "print(f\"  South: {min(lats) - 0.01:.4f}\")\n",
    "print(f\"  East: {max(lons) + 0.01:.4f}\")\n",
    "print(f\"  West: {min(lons) - 0.01:.4f}\")"
   ]
  },
  {
   "cell_type": "code",
   "execution_count": 13,
   "id": "8dd94156",
   "metadata": {},
   "outputs": [
    {
     "name": "stdout",
     "output_type": "stream",
     "text": [
      "🌐 Downloading Lahore road network...\n",
      "📍 Downloading road network for area: 31.550, 31.496, 74.391, 74.322\n",
      "❌ Network download failed: graph_from_bbox() takes 1 positional argument but 4 positional arguments (and 1 keyword-only argument) were given\n",
      "This might be due to internet connection or OSMnx server issues\n"
     ]
    }
   ],
   "source": [
    "# Let's try downloading the network with error handling\n",
    "try:\n",
    "    print(\"🌐 Downloading Lahore road network...\")\n",
    "    G = get_road_network(locations)\n",
    "    print(f\"✅ Success! Network has {len(G.nodes)} nodes and {len(G.edges)} edges\")\n",
    "    network_success = True\n",
    "except Exception as e:\n",
    "    print(f\"❌ Network download failed: {e}\")\n",
    "    print(\"This might be due to internet connection or OSMnx server issues\")\n",
    "    network_success = False"
   ]
  },
  {
   "cell_type": "code",
   "execution_count": 14,
   "id": "8ac2f3c9",
   "metadata": {},
   "outputs": [],
   "source": [
    "# If network download worked, calculate real distances\n",
    "if network_success:\n",
    "    try:\n",
    "        print(\"🛣️ Calculating real road distances...\")\n",
    "        real_dist_km, location_nodes = calculate_real_distances(locations, G)\n",
    "        print(\"✅ Real distances calculated!\")\n",
    "        \n",
    "        # Show comparison\n",
    "        print(\"\\n📊 Distance Comparison (km):\")\n",
    "        print(\"Location pair | Haversine | Real Road | Difference\")\n",
    "        print(\"-\" * 50)\n",
    "        for i in range(len(locations)):\n",
    "            for j in range(i+1, len(locations)):\n",
    "                haversine_dist = dist_km[i][j]\n",
    "                real_dist = real_dist_km[i][j]\n",
    "                diff = ((real_dist - haversine_dist) / haversine_dist) * 100\n",
    "                print(f\"{locations[i][0][:10]} → {locations[j][0][:10]} | {haversine_dist:8.1f} | {real_dist:8.1f} | {diff:+6.1f}%\")\n",
    "                \n",
    "    except Exception as e:\n",
    "        print(f\"❌ Distance calculation failed: {e}\")\n",
    "        real_dist_km = dist_km\n"
   ]
  },
  {
   "cell_type": "code",
   "execution_count": 15,
   "id": "6c8d1c28",
   "metadata": {},
   "outputs": [
    {
     "name": "stdout",
     "output_type": "stream",
     "text": [
      "✅ Smaller area download worked!\n"
     ]
    }
   ],
   "source": [
    "# Try downloading a smaller area\n",
    "try:\n",
    "    # Smaller bounding box\n",
    "    center_lat, center_lon = 31.5204, 74.3587  # Your warehouse location\n",
    "    G = ox.graph_from_point((center_lat, center_lon), dist=2000, network_type='drive')\n",
    "    print(\"✅ Smaller area download worked!\")\n",
    "except:\n",
    "    print(\"❌ Still failing - let's use haversine distances\")"
   ]
  },
  {
   "cell_type": "code",
   "execution_count": 16,
   "id": "ef7c9368",
   "metadata": {},
   "outputs": [
    {
     "name": "stdout",
     "output_type": "stream",
     "text": [
      "🧪 Testing OSMnx with a small area around Lahore...\n",
      "📍 Downloading small test area: 31.53, 31.51, 74.37, 74.35\n",
      "❌ OSMnx failed: graph_from_bbox() takes 1 positional argument but 4 positional arguments (and 1 keyword-only argument) were given\n",
      "💡 This could be due to:\n",
      "   - Internet connection issues\n",
      "   - OpenStreetMap server problems\n",
      "   - Firewall blocking the request\n"
     ]
    }
   ],
   "source": [
    "# Simple test to see if OSMnx works\n",
    "try:\n",
    "    print(\"🧪 Testing OSMnx with a small area around Lahore...\")\n",
    "    \n",
    "    # Small test area\n",
    "    north, south, east, west = 31.53, 31.51, 74.37, 74.35\n",
    "    \n",
    "    print(f\"📍 Downloading small test area: {north}, {south}, {east}, {west}\")\n",
    "    test_graph = ox.graph_from_bbox(north, south, east, west, network_type='drive')\n",
    "    \n",
    "    print(f\"✅ SUCCESS! Downloaded {len(test_graph.nodes)} nodes and {len(test_graph.edges)} edges\")\n",
    "    print(\"🌐 OSMnx is working - it can automatically download maps!\")\n",
    "    \n",
    "except Exception as e:\n",
    "    print(f\"❌ OSMnx failed: {e}\")\n",
    "    print(\"💡 This could be due to:\")\n",
    "    print(\"   - Internet connection issues\")\n",
    "    print(\"   - OpenStreetMap server problems\") \n",
    "    print(\"   - Firewall blocking the request\")"
   ]
  },
  {
   "cell_type": "code",
   "execution_count": 17,
   "id": "023cc384",
   "metadata": {},
   "outputs": [
    {
     "name": "stdout",
     "output_type": "stream",
     "text": [
      "✅ All libraries imported successfully!\n"
     ]
    }
   ],
   "source": [
    "# Complete OSMnx-based VRP solution\n",
    "import osmnx as ox\n",
    "import folium\n",
    "import numpy as np\n",
    "import networkx as nx\n",
    "from math import radians, sin, cos, sqrt, atan2\n",
    "#\n",
    "\n",
    "print(\"✅ All libraries imported successfully!\")"
   ]
  },
  {
   "cell_type": "code",
   "execution_count": 18,
   "id": "fcbf81ce",
   "metadata": {},
   "outputs": [],
   "source": [
    "#from ortools.constraint_solver import pywrapcp, routing_enums_pb2"
   ]
  },
  {
   "cell_type": "code",
   "execution_count": 19,
   "id": "2f6198ef",
   "metadata": {},
   "outputs": [
    {
     "name": "stdout",
     "output_type": "stream",
     "text": [
      "📍 Setup complete:\n",
      "  Locations: 9\n",
      "  Total demand: 165 bags\n",
      "  Vehicle types: 3\n"
     ]
    }
   ],
   "source": [
    "# Our delivery locations in Lahore\n",
    "locations = [\n",
    "    (\"Warehouse\", 31.5204, 74.3587),  # central Lahore (depot)\n",
    "    (\"Shop A\",    31.5340, 74.3572),\n",
    "    (\"Shop B\",    31.5157, 74.3673),\n",
    "    (\"Shop C\",    31.5280, 74.3810),\n",
    "    (\"Shop D\",    31.5060, 74.3430),\n",
    "    (\"Shop E\",    31.5400, 74.3440),\n",
    "    (\"Shop F\",    31.5220, 74.3320),\n",
    "    (\"Shop G\",    31.5100, 74.3790),\n",
    "    (\"Shop H\",    31.5380, 74.3720),\n",
    "]\n",
    "\n",
    "# Demands (warehouse = 0, shops need fertilizer bags)\n",
    "demands = [0, 40, 20, 30, 10, 12, 15, 18, 20]\n",
    "\n",
    "# Vehicle fleet\n",
    "vehicles = [\n",
    "    {\"count\": 1, \"capacity\": 200, \"cost_per_km\": 100.0},  # big truck\n",
    "    {\"count\": 2, \"capacity\": 80,  \"cost_per_km\": 70.0},   # medium vans\n",
    "    {\"count\": 1, \"capacity\": 50,  \"cost_per_km\": 50.0},   # small van\n",
    "]\n",
    "\n",
    "print(\"📍 Setup complete:\")\n",
    "print(f\"  Locations: {len(locations)}\")\n",
    "print(f\"  Total demand: {sum(demands)} bags\")\n",
    "print(f\"  Vehicle types: {len(vehicles)}\")"
   ]
  },
  {
   "cell_type": "code",
   "execution_count": 20,
   "id": "736ea94e",
   "metadata": {},
   "outputs": [
    {
     "name": "stdout",
     "output_type": "stream",
     "text": [
      "📍 Downloading network around center: (31.5238, 74.3594)\n",
      "✅ SUCCESS! Network downloaded:\n",
      "   Nodes: 16351\n",
      "   Edges: 41697\n"
     ]
    }
   ],
   "source": [
    "# Download road network using the method that worked\n",
    "def download_road_network_safe(locations):\n",
    "    \"\"\"Download road network using smaller area method\"\"\"\n",
    "    try:\n",
    "        # Use center point method (which worked for you)\n",
    "        center_lat = sum(loc[1] for loc in locations) / len(locations)\n",
    "        center_lon = sum(loc[2] for loc in locations) / len(locations)\n",
    "        \n",
    "        print(f\"📍 Downloading network around center: ({center_lat:.4f}, {center_lon:.4f})\")\n",
    "        \n",
    "        # Download with 5km radius (adjust if needed)\n",
    "        G = ox.graph_from_point((center_lat, center_lon), dist=5000, network_type='drive')\n",
    "        \n",
    "        print(f\"✅ SUCCESS! Network downloaded:\")\n",
    "        print(f\"   Nodes: {len(G.nodes)}\")\n",
    "        print(f\"   Edges: {len(G.edges)}\")\n",
    "        \n",
    "        return G, True\n",
    "        \n",
    "    except Exception as e:\n",
    "        print(f\"❌ Network download failed: {e}\")\n",
    "        return None, False\n",
    "\n",
    "# Download the network\n",
    "G, network_success = download_road_network_safe(locations)"
   ]
  },
  {
   "cell_type": "code",
   "execution_count": 21,
   "id": "c8166bf5",
   "metadata": {},
   "outputs": [
    {
     "name": "stdout",
     "output_type": "stream",
     "text": [
      "🛣️ Calculating real road distances...\n",
      "   Warehouse: found node 2382893441\n",
      "   Shop A: found node 12396712432\n",
      "   Shop B: found node 632556609\n",
      "   Shop C: found node 6438333515\n",
      "   Shop D: found node 565894351\n",
      "   Shop E: found node 7650416265\n",
      "   Shop F: found node 2954611566\n",
      "   Shop G: found node 5279037983\n",
      "   Shop H: found node 6474635028\n",
      "✅ Real road distances calculated!\n"
     ]
    }
   ],
   "source": [
    "def haversine_km(lat1, lon1, lat2, lon2):\n",
    "    \"\"\"Fallback distance calculation\"\"\"\n",
    "    R = 6371.0\n",
    "    dlat = radians(lat2 - lat1)\n",
    "    dlon = radians(lon2 - lon1)\n",
    "    a = sin(dlat/2)**2 + cos(radians(lat1)) * cos(radians(lat2)) * sin(dlon/2)**2\n",
    "    c = 2 * atan2(sqrt(a), sqrt(1-a))\n",
    "    return R * c\n",
    "\n",
    "def calculate_distance_matrix(locations, graph=None):\n",
    "    \"\"\"Calculate distance matrix using OSMnx or fallback to haversine\"\"\"\n",
    "    n = len(locations)\n",
    "    dist_matrix = np.zeros((n, n))\n",
    "    \n",
    "    if graph is not None:\n",
    "        print(\"🛣️ Calculating real road distances...\")\n",
    "        \n",
    "        # Find nearest nodes for each location\n",
    "        nearest_nodes = []\n",
    "        for i, (name, lat, lon) in enumerate(locations):\n",
    "            try:\n",
    "                node = ox.nearest_nodes(graph, lon, lat)\n",
    "                nearest_nodes.append(node)\n",
    "                print(f\"   {name}: found node {node}\")\n",
    "            except Exception as e:\n",
    "                print(f\"   ❌ {name}: error - {e}\")\n",
    "                nearest_nodes.append(None)\n",
    "        \n",
    "        # Calculate distances\n",
    "        for i in range(n):\n",
    "            for j in range(n):\n",
    "                if i == j:\n",
    "                    dist_matrix[i][j] = 0\n",
    "                elif nearest_nodes[i] and nearest_nodes[j]:\n",
    "                    try:\n",
    "                        # Real road distance\n",
    "                        path = nx.shortest_path(graph, nearest_nodes[i], nearest_nodes[j], weight='length')\n",
    "                        path_length = sum(ox.utils_graph.get_route_edge_attributes(graph, path, 'length'))\n",
    "                        dist_matrix[i][j] = path_length / 1000  # Convert to km\n",
    "                    except:\n",
    "                        # Fallback to haversine\n",
    "                        dist_matrix[i][j] = haversine_km(locations[i][1], locations[i][2],\n",
    "                                                       locations[j][1], locations[j][2]) * 1.25\n",
    "                else:\n",
    "                    # Fallback to haversine\n",
    "                    dist_matrix[i][j] = haversine_km(locations[i][1], locations[i][2],\n",
    "                                                   locations[j][1], locations[j][2]) * 1.25\n",
    "        \n",
    "        print(\"✅ Real road distances calculated!\")\n",
    "        \n",
    "    else:\n",
    "        print(\"🔄 Using haversine distances...\")\n",
    "        for i in range(n):\n",
    "            for j in range(n):\n",
    "                if i == j:\n",
    "                    dist_matrix[i][j] = 0\n",
    "                else:\n",
    "                    dist_matrix[i][j] = haversine_km(locations[i][1], locations[i][2],\n",
    "                                                   locations[j][1], locations[j][2]) * 1.25\n",
    "    \n",
    "    return dist_matrix\n",
    "\n",
    "# Calculate distances\n",
    "distance_matrix = calculate_distance_matrix(locations, G if network_success else None)"
   ]
  },
  {
   "cell_type": "code",
   "execution_count": 22,
   "id": "004dfd51",
   "metadata": {},
   "outputs": [
    {
     "name": "stdout",
     "output_type": "stream",
     "text": [
      "\n",
      "📊 Distance Matrix (km):\n",
      "          0     1     2     3     4     5     6     7     8\n",
      " 0:    0.0   1.9   1.2   2.8   2.7   3.2   3.2   2.8   2.9  (Warehouse)\n",
      " 1:    1.9   0.0   2.8   2.9   4.2   1.8   3.4   4.2   1.8  (Shop A)\n",
      " 2:    1.2   2.8   0.0   2.4   3.2   4.4   4.3   1.6   3.1  (Shop B)\n",
      " 3:    2.8   2.9   2.4   0.0   5.4   4.7   5.9   2.5   1.8  (Shop C)\n",
      " 4:    2.7   4.2   3.2   5.4   0.0   4.7   2.6   4.3   5.6  (Shop D)\n",
      " 5:    3.2   1.8   4.4   4.7   4.7   0.0   2.9   5.9   3.3  (Shop E)\n",
      " 6:    3.2   3.4   4.3   5.9   2.6   2.9   0.0   5.8   5.2  (Shop F)\n",
      " 7:    2.8   4.2   1.6   2.5   4.3   5.9   5.8   0.0   4.0  (Shop G)\n",
      " 8:    2.9   1.8   3.1   1.8   5.6   3.3   5.2   4.0   0.0  (Shop H)\n",
      "\n",
      "🚛 Distance calculation method: OSMnx Real Roads\n"
     ]
    }
   ],
   "source": [
    "# Display the distance matrix\n",
    "print(\"\\n📊 Distance Matrix (km):\")\n",
    "print(\"     \", end=\"\")\n",
    "for i in range(len(locations)):\n",
    "    print(f\"{i:6}\", end=\"\")\n",
    "print()\n",
    "\n",
    "for i in range(len(locations)):\n",
    "    print(f\"{i:2}: \", end=\"\")\n",
    "    for j in range(len(locations)):\n",
    "        print(f\"{distance_matrix[i][j]:6.1f}\", end=\"\")\n",
    "    print(f\"  ({locations[i][0]})\")\n",
    "\n",
    "print(f\"\\n🚛 Distance calculation method: {'OSMnx Real Roads' if network_success else 'Haversine + 25%'}\")"
   ]
  },
  {
   "cell_type": "code",
   "execution_count": 1,
   "id": "1f6a5f46",
   "metadata": {},
   "outputs": [
    {
     "name": "stdout",
     "output_type": "stream",
     "text": [
      "Requirement already satisfied: protobuf in /Users/user/anaconda3/lib/python3.13/site-packages (6.31.1)\n",
      "Collecting protobuf\n",
      "  Downloading protobuf-6.32.0-cp39-abi3-macosx_10_9_universal2.whl.metadata (593 bytes)\n",
      "Downloading protobuf-6.32.0-cp39-abi3-macosx_10_9_universal2.whl (426 kB)\n",
      "Installing collected packages: protobuf\n",
      "  Attempting uninstall: protobuf\n",
      "    Found existing installation: protobuf 6.31.1\n",
      "    Uninstalling protobuf-6.31.1:\n",
      "      Successfully uninstalled protobuf-6.31.1\n",
      "\u001b[31mERROR: pip's dependency resolver does not currently take into account all the packages that are installed. This behaviour is the source of the following dependency conflicts.\n",
      "ortools 9.14.6206 requires protobuf<6.32,>=6.31.1, but you have protobuf 6.32.0 which is incompatible.\u001b[0m\u001b[31m\n",
      "\u001b[0mSuccessfully installed protobuf-6.32.0\n",
      "Note: you may need to restart the kernel to use updated packages.\n"
     ]
    }
   ],
   "source": [
    "# Step 5: Prepare the data for OR-Tools optimization\n",
    "%pip install --upgrade protobuf\n",
    "\n",
    "from ortools.constraint_solver import pywrapcp, routing_enums_pb2\n"
   ]
  },
  {
   "cell_type": "code",
   "execution_count": 23,
   "id": "f159b6ff",
   "metadata": {},
   "outputs": [
    {
     "name": "stdout",
     "output_type": "stream",
     "text": [
      "\n",
      "🔧 OR-Tools VRP Setup:\n",
      "   Locations: 9\n",
      "   Vehicles: 4\n",
      "     Vehicle 0: 200 bags, ₨100.0/km\n",
      "     Vehicle 1: 80 bags, ₨70.0/km\n",
      "     Vehicle 2: 80 bags, ₨70.0/km\n",
      "     Vehicle 3: 50 bags, ₨50.0/km\n"
     ]
    },
    {
     "ename": "NameError",
     "evalue": "name 'pywrapcp' is not defined",
     "output_type": "error",
     "traceback": [
      "\u001b[0;31m---------------------------------------------------------------------------\u001b[0m",
      "\u001b[0;31mNameError\u001b[0m                                 Traceback (most recent call last)",
      "Cell \u001b[0;32mIn[23], line 18\u001b[0m\n\u001b[1;32m     15\u001b[0m     \u001b[38;5;28mprint\u001b[39m(\u001b[38;5;124mf\u001b[39m\u001b[38;5;124m\"\u001b[39m\u001b[38;5;124m     Vehicle \u001b[39m\u001b[38;5;132;01m{\u001b[39;00mi\u001b[38;5;132;01m}\u001b[39;00m\u001b[38;5;124m: \u001b[39m\u001b[38;5;132;01m{\u001b[39;00mcap\u001b[38;5;132;01m}\u001b[39;00m\u001b[38;5;124m bags, ₨\u001b[39m\u001b[38;5;132;01m{\u001b[39;00mcost\u001b[38;5;132;01m}\u001b[39;00m\u001b[38;5;124m/km\u001b[39m\u001b[38;5;124m\"\u001b[39m)\n\u001b[1;32m     17\u001b[0m \u001b[38;5;66;03m# Create routing model\u001b[39;00m\n\u001b[0;32m---> 18\u001b[0m manager \u001b[38;5;241m=\u001b[39m pywrapcp\u001b[38;5;241m.\u001b[39mRoutingIndexManager(\u001b[38;5;28mlen\u001b[39m(dist_matrix_int), \u001b[38;5;28mlen\u001b[39m(vehicle_specs), \u001b[38;5;241m0\u001b[39m)\n\u001b[1;32m     19\u001b[0m routing \u001b[38;5;241m=\u001b[39m pywrapcp\u001b[38;5;241m.\u001b[39mRoutingModel(manager)\n\u001b[1;32m     20\u001b[0m \u001b[38;5;28mprint\u001b[39m(\u001b[38;5;124m\"\u001b[39m\u001b[38;5;124m✅ Routing model created!\u001b[39m\u001b[38;5;124m\"\u001b[39m)\n",
      "\u001b[0;31mNameError\u001b[0m: name 'pywrapcp' is not defined"
     ]
    }
   ],
   "source": [
    "# Prepare for OR-Tools\n",
    "SCALE = 100\n",
    "dist_matrix_int = [[int(round(d * SCALE)) for d in row] for row in distance_matrix]\n",
    "\n",
    "# Flatten vehicle specs\n",
    "vehicle_specs = []\n",
    "for v in vehicles:\n",
    "    for _ in range(v[\"count\"]):\n",
    "        vehicle_specs.append((v[\"capacity\"], v[\"cost_per_km\"]))\n",
    "\n",
    "print(f\"\\n🔧 OR-Tools VRP Setup:\")\n",
    "print(f\"   Locations: {len(locations)}\")\n",
    "print(f\"   Vehicles: {len(vehicle_specs)}\")\n",
    "for i, (cap, cost) in enumerate(vehicle_specs):\n",
    "    print(f\"     Vehicle {i}: {cap} bags, ₨{cost}/km\")\n",
    "\n",
    "# Create routing model\n",
    "manager = pywrapcp.RoutingIndexManager(len(dist_matrix_int), len(vehicle_specs), 0)\n",
    "routing = pywrapcp.RoutingModel(manager)\n",
    "print(\"✅ Routing model created!\")"
   ]
  },
  {
   "cell_type": "code",
   "execution_count": null,
   "id": "d893bb92",
   "metadata": {},
   "outputs": [],
   "source": []
  }
 ],
 "metadata": {
  "kernelspec": {
   "display_name": "base",
   "language": "python",
   "name": "python3"
  },
  "language_info": {
   "codemirror_mode": {
    "name": "ipython",
    "version": 3
   },
   "file_extension": ".py",
   "mimetype": "text/x-python",
   "name": "python",
   "nbconvert_exporter": "python",
   "pygments_lexer": "ipython3",
   "version": "3.13.5"
  }
 },
 "nbformat": 4,
 "nbformat_minor": 5
}
