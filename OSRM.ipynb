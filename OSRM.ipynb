{
  "cells": [
    {
      "cell_type": "code",
      "source": [
        "!pip install ortools"
      ],
      "metadata": {
        "colab": {
          "base_uri": "https://localhost:8080/",
          "height": 742
        },
        "id": "46U9H1ikM35E",
        "outputId": "71af8a21-fd57-4593-98cc-47b695123580"
      },
      "id": "46U9H1ikM35E",
      "execution_count": 16,
      "outputs": [
        {
          "output_type": "stream",
          "name": "stdout",
          "text": [
            "Collecting ortools\n",
            "  Downloading ortools-9.14.6206-cp312-cp312-manylinux_2_27_x86_64.manylinux_2_28_x86_64.whl.metadata (3.3 kB)\n",
            "Collecting absl-py>=2.0.0 (from ortools)\n",
            "  Downloading absl_py-2.3.1-py3-none-any.whl.metadata (3.3 kB)\n",
            "Requirement already satisfied: numpy>=1.13.3 in /usr/local/lib/python3.12/dist-packages (from ortools) (2.0.2)\n",
            "Requirement already satisfied: pandas>=2.0.0 in /usr/local/lib/python3.12/dist-packages (from ortools) (2.2.2)\n",
            "Collecting protobuf<6.32,>=6.31.1 (from ortools)\n",
            "  Downloading protobuf-6.31.1-cp39-abi3-manylinux2014_x86_64.whl.metadata (593 bytes)\n",
            "Requirement already satisfied: typing-extensions>=4.12 in /usr/local/lib/python3.12/dist-packages (from ortools) (4.15.0)\n",
            "Requirement already satisfied: immutabledict>=3.0.0 in /usr/local/lib/python3.12/dist-packages (from ortools) (4.2.1)\n",
            "Requirement already satisfied: python-dateutil>=2.8.2 in /usr/local/lib/python3.12/dist-packages (from pandas>=2.0.0->ortools) (2.9.0.post0)\n",
            "Requirement already satisfied: pytz>=2020.1 in /usr/local/lib/python3.12/dist-packages (from pandas>=2.0.0->ortools) (2025.2)\n",
            "Requirement already satisfied: tzdata>=2022.7 in /usr/local/lib/python3.12/dist-packages (from pandas>=2.0.0->ortools) (2025.2)\n",
            "Requirement already satisfied: six>=1.5 in /usr/local/lib/python3.12/dist-packages (from python-dateutil>=2.8.2->pandas>=2.0.0->ortools) (1.17.0)\n",
            "Downloading ortools-9.14.6206-cp312-cp312-manylinux_2_27_x86_64.manylinux_2_28_x86_64.whl (27.7 MB)\n",
            "\u001b[2K   \u001b[90m━━━━━━━━━━━━━━━━━━━━━━━━━━━━━━━━━━━━━━━━\u001b[0m \u001b[32m27.7/27.7 MB\u001b[0m \u001b[31m82.8 MB/s\u001b[0m eta \u001b[36m0:00:00\u001b[0m\n",
            "\u001b[?25hDownloading absl_py-2.3.1-py3-none-any.whl (135 kB)\n",
            "\u001b[2K   \u001b[90m━━━━━━━━━━━━━━━━━━━━━━━━━━━━━━━━━━━━━━━━\u001b[0m \u001b[32m135.8/135.8 kB\u001b[0m \u001b[31m10.4 MB/s\u001b[0m eta \u001b[36m0:00:00\u001b[0m\n",
            "\u001b[?25hDownloading protobuf-6.31.1-cp39-abi3-manylinux2014_x86_64.whl (321 kB)\n",
            "\u001b[2K   \u001b[90m━━━━━━━━━━━━━━━━━━━━━━━━━━━━━━━━━━━━━━━━\u001b[0m \u001b[32m321.1/321.1 kB\u001b[0m \u001b[31m19.9 MB/s\u001b[0m eta \u001b[36m0:00:00\u001b[0m\n",
            "\u001b[?25hInstalling collected packages: protobuf, absl-py, ortools\n",
            "  Attempting uninstall: protobuf\n",
            "    Found existing installation: protobuf 5.29.5\n",
            "    Uninstalling protobuf-5.29.5:\n",
            "      Successfully uninstalled protobuf-5.29.5\n",
            "  Attempting uninstall: absl-py\n",
            "    Found existing installation: absl-py 1.4.0\n",
            "    Uninstalling absl-py-1.4.0:\n",
            "      Successfully uninstalled absl-py-1.4.0\n",
            "\u001b[31mERROR: pip's dependency resolver does not currently take into account all the packages that are installed. This behaviour is the source of the following dependency conflicts.\n",
            "google-ai-generativelanguage 0.6.15 requires protobuf!=4.21.0,!=4.21.1,!=4.21.2,!=4.21.3,!=4.21.4,!=4.21.5,<6.0.0dev,>=3.20.2, but you have protobuf 6.31.1 which is incompatible.\n",
            "grpcio-status 1.71.2 requires protobuf<6.0dev,>=5.26.1, but you have protobuf 6.31.1 which is incompatible.\n",
            "tensorflow 2.19.0 requires protobuf!=4.21.0,!=4.21.1,!=4.21.2,!=4.21.3,!=4.21.4,!=4.21.5,<6.0.0dev,>=3.20.3, but you have protobuf 6.31.1 which is incompatible.\u001b[0m\u001b[31m\n",
            "\u001b[0mSuccessfully installed absl-py-2.3.1 ortools-9.14.6206 protobuf-6.31.1\n"
          ]
        },
        {
          "output_type": "display_data",
          "data": {
            "application/vnd.colab-display-data+json": {
              "pip_warning": {
                "packages": [
                  "google"
                ]
              },
              "id": "762bff2f83c14f5a9edf97f67f69a366"
            }
          },
          "metadata": {}
        }
      ]
    },
    {
      "cell_type": "code",
      "execution_count": 1,
      "id": "5fb6c4b4",
      "metadata": {
        "colab": {
          "base_uri": "https://localhost:8080/"
        },
        "id": "5fb6c4b4",
        "outputId": "6f9eb81a-6e52-454f-d0f1-6bdd65566003"
      },
      "outputs": [
        {
          "output_type": "stream",
          "name": "stdout",
          "text": [
            "Requirement already satisfied: folium in /usr/local/lib/python3.12/dist-packages (0.20.0)\n",
            "Requirement already satisfied: branca>=0.6.0 in /usr/local/lib/python3.12/dist-packages (from folium) (0.8.1)\n",
            "Requirement already satisfied: jinja2>=2.9 in /usr/local/lib/python3.12/dist-packages (from folium) (3.1.6)\n",
            "Requirement already satisfied: numpy in /usr/local/lib/python3.12/dist-packages (from folium) (2.0.2)\n",
            "Requirement already satisfied: requests in /usr/local/lib/python3.12/dist-packages (from folium) (2.32.4)\n",
            "Requirement already satisfied: xyzservices in /usr/local/lib/python3.12/dist-packages (from folium) (2025.4.0)\n",
            "Requirement already satisfied: MarkupSafe>=2.0 in /usr/local/lib/python3.12/dist-packages (from jinja2>=2.9->folium) (3.0.2)\n",
            "Requirement already satisfied: charset_normalizer<4,>=2 in /usr/local/lib/python3.12/dist-packages (from requests->folium) (3.4.3)\n",
            "Requirement already satisfied: idna<4,>=2.5 in /usr/local/lib/python3.12/dist-packages (from requests->folium) (3.10)\n",
            "Requirement already satisfied: urllib3<3,>=1.21.1 in /usr/local/lib/python3.12/dist-packages (from requests->folium) (2.5.0)\n",
            "Requirement already satisfied: certifi>=2017.4.17 in /usr/local/lib/python3.12/dist-packages (from requests->folium) (2025.8.3)\n"
          ]
        }
      ],
      "source": [
        "!pip install folium"
      ]
    },
    {
      "cell_type": "code",
      "source": [
        "!pip install osrm"
      ],
      "metadata": {
        "colab": {
          "base_uri": "https://localhost:8080/"
        },
        "id": "-9gkQDT6Mjt7",
        "outputId": "273569db-da6a-4703-df59-149ccc36686c"
      },
      "id": "-9gkQDT6Mjt7",
      "execution_count": 2,
      "outputs": [
        {
          "output_type": "stream",
          "name": "stdout",
          "text": [
            "Collecting osrm\n",
            "  Downloading osrm-0.11.3-py3-none-any.whl.metadata (414 bytes)\n",
            "Collecting polyline (from osrm)\n",
            "  Downloading polyline-2.0.3-py3-none-any.whl.metadata (6.5 kB)\n",
            "Requirement already satisfied: GDAL in /usr/local/lib/python3.12/dist-packages (from osrm) (3.8.4)\n",
            "Requirement already satisfied: numpy in /usr/local/lib/python3.12/dist-packages (from osrm) (2.0.2)\n",
            "Requirement already satisfied: pandas in /usr/local/lib/python3.12/dist-packages (from osrm) (2.2.2)\n",
            "Requirement already satisfied: shapely in /usr/local/lib/python3.12/dist-packages (from osrm) (2.1.1)\n",
            "Requirement already satisfied: geopandas in /usr/local/lib/python3.12/dist-packages (from osrm) (1.1.1)\n",
            "Requirement already satisfied: matplotlib in /usr/local/lib/python3.12/dist-packages (from osrm) (3.10.0)\n",
            "Requirement already satisfied: pyogrio>=0.7.2 in /usr/local/lib/python3.12/dist-packages (from geopandas->osrm) (0.11.1)\n",
            "Requirement already satisfied: packaging in /usr/local/lib/python3.12/dist-packages (from geopandas->osrm) (25.0)\n",
            "Requirement already satisfied: pyproj>=3.5.0 in /usr/local/lib/python3.12/dist-packages (from geopandas->osrm) (3.7.2)\n",
            "Requirement already satisfied: python-dateutil>=2.8.2 in /usr/local/lib/python3.12/dist-packages (from pandas->osrm) (2.9.0.post0)\n",
            "Requirement already satisfied: pytz>=2020.1 in /usr/local/lib/python3.12/dist-packages (from pandas->osrm) (2025.2)\n",
            "Requirement already satisfied: tzdata>=2022.7 in /usr/local/lib/python3.12/dist-packages (from pandas->osrm) (2025.2)\n",
            "Requirement already satisfied: contourpy>=1.0.1 in /usr/local/lib/python3.12/dist-packages (from matplotlib->osrm) (1.3.3)\n",
            "Requirement already satisfied: cycler>=0.10 in /usr/local/lib/python3.12/dist-packages (from matplotlib->osrm) (0.12.1)\n",
            "Requirement already satisfied: fonttools>=4.22.0 in /usr/local/lib/python3.12/dist-packages (from matplotlib->osrm) (4.59.2)\n",
            "Requirement already satisfied: kiwisolver>=1.3.1 in /usr/local/lib/python3.12/dist-packages (from matplotlib->osrm) (1.4.9)\n",
            "Requirement already satisfied: pillow>=8 in /usr/local/lib/python3.12/dist-packages (from matplotlib->osrm) (11.3.0)\n",
            "Requirement already satisfied: pyparsing>=2.3.1 in /usr/local/lib/python3.12/dist-packages (from matplotlib->osrm) (3.2.3)\n",
            "Requirement already satisfied: certifi in /usr/local/lib/python3.12/dist-packages (from pyogrio>=0.7.2->geopandas->osrm) (2025.8.3)\n",
            "Requirement already satisfied: six>=1.5 in /usr/local/lib/python3.12/dist-packages (from python-dateutil>=2.8.2->pandas->osrm) (1.17.0)\n",
            "Downloading osrm-0.11.3-py3-none-any.whl (10 kB)\n",
            "Downloading polyline-2.0.3-py3-none-any.whl (6.0 kB)\n",
            "Installing collected packages: polyline, osrm\n",
            "Successfully installed osrm-0.11.3 polyline-2.0.3\n"
          ]
        }
      ]
    },
    {
      "cell_type": "code",
      "execution_count": null,
      "id": "71cb9a33",
      "metadata": {
        "id": "71cb9a33",
        "outputId": "cfce8048-72d0-4d77-e6de-5788841bdae3"
      },
      "outputs": [
        {
          "name": "stdout",
          "output_type": "stream",
          "text": [
            "✅ OSRM libraries installed!\n"
          ]
        }
      ],
      "source": [
        "\n",
        "import osrm\n",
        "import requests\n",
        "import json\n",
        "import numpy as np\n",
        "\n",
        "print(\"✅ OSRM libraries installed!\")"
      ]
    },
    {
      "cell_type": "code",
      "execution_count": 33,
      "id": "56c8574a",
      "metadata": {
        "id": "56c8574a"
      },
      "outputs": [],
      "source": [
        "locations = [\n",
        "    (\"Warehouse\", 31.5204, 74.3587),  # central Lahore (depot)\n",
        "    (\"Shop A\",    31.5340, 74.3572),\n",
        "    (\"Shop B\",    31.5157, 74.3673),\n",
        "    (\"Shop C\",    31.5280, 74.3810),\n",
        "    (\"Shop D\",    31.5060, 74.3430),\n",
        "    (\"Shop E\",    31.5400, 74.3440),\n",
        "    (\"Shop F\",    31.5220, 74.3320),\n",
        "    (\"Shop G\",    31.5100, 74.3790),\n",
        "    (\"Shop H\",    31.5380, 74.3720),\n",
        "]\n",
        "demands = [0, 40, 20, 30, 10, 12, 15, 18, 20]"
      ]
    },
    {
      "cell_type": "code",
      "source": [
        "# Our delivery locations in Lahore\n",
        "locations = [\n",
        "    #(\"Warehouse\", 31.5204, 74.3587),\n",
        "    # central Lahore (depot)\n",
        "    #31°31'20.4\"N 72°34'35.4\"E\n",
        "    (\"Warehouse\", 31.522334, 72.576500),\n",
        "    ('Shop 1', 31.570639, 72.889028),\n",
        "    ('Shop 2', 31.591778, 72.836139),\n",
        "    ('Shop 3', 31.495, 72.85875),\n",
        "    ('Shop 4', 31.653, 72.865278),\n",
        "    ('Shop 5', 31.677139, 72.909444),\n",
        "    ('Shop 6', 31.480528, 72.652944),\n",
        "    ('Shop 7', 31.431111, 72.745694),\n",
        "    ('Shop 8', 31.644861, 72.818),\n",
        "    ('Shop 9', 31.643861, 72.636389),\n",
        "    ('Shop 10', 31.613639, 72.455833),\n",
        "    ('Shop 11', 31.613806, 72.750056),\n",
        "    ('Shop 12', 31.431444, 72.496167),\n",
        "    ('Shop 13', 31.392056, 72.77875),\n",
        "    ('Shop 14', 31.454667, 72.798083),\n",
        "    ('Shop 15', 31.636528, 72.503222),\n",
        "    ('Shop 16', 31.597333, 72.611944),\n",
        "    ('Shop 17', 31.536472, 72.535139),\n",
        "    ('Shop 18', 31.482861, 72.705389),\n",
        "    ('Shop 19', 31.57825, 72.667722),\n",
        "    ('Shop 20', 31.659056, 72.539472),\n",
        "]\n",
        "\n",
        "# Demands (warehouse = 0, shops need fertilizer bags)\n",
        "demands = [0, 40, 20, 30, 10, 12, 15, 18, 20,0,0,0,0,0,0,0,0,0,0,0,0]\n",
        "\n",
        "\n",
        "print(\"📍 Setup complete:\")\n",
        "print(f\"  Locations: {len(locations)}\")\n",
        "print(f\"  Total demand: {sum(demands)} bags\")\n"
      ],
      "metadata": {
        "colab": {
          "base_uri": "https://localhost:8080/"
        },
        "id": "gVm5FmmWN9gs",
        "outputId": "ba3b824e-6f1d-4d7e-e3a7-28b0a56ba135"
      },
      "id": "gVm5FmmWN9gs",
      "execution_count": 38,
      "outputs": [
        {
          "output_type": "stream",
          "name": "stdout",
          "text": [
            "📍 Setup complete:\n",
            "  Locations: 21\n",
            "  Total demand: 165 bags\n"
          ]
        }
      ]
    },
    {
      "cell_type": "code",
      "execution_count": 39,
      "id": "f2f481ee",
      "metadata": {
        "id": "f2f481ee"
      },
      "outputs": [],
      "source": [
        "\n",
        "\n",
        "# Vehicle fleet: (count, capacity in bags, cost_per_km)\n",
        "# Example heterogenous fleet: 2 trucks and 2 vans\n",
        "vehicles = [\n",
        "    {\"count\": 1, \"capacity\": 200, \"cost_per_km\": 100.0},  # big truck: 1.0 currency/km\n",
        "    {\"count\": 2, \"capacity\": 80,  \"cost_per_km\": 70},  # medium van\n",
        "    {\"count\": 1, \"capacity\": 50,  \"cost_per_km\": 50},  # small van\n",
        "]\n"
      ]
    },
    {
      "cell_type": "code",
      "execution_count": 40,
      "id": "033bb7c4",
      "metadata": {
        "colab": {
          "base_uri": "https://localhost:8080/"
        },
        "id": "033bb7c4",
        "outputId": "f7b6b58f-5bc7-453f-98b6-a06139f70012"
      },
      "outputs": [
        {
          "output_type": "stream",
          "name": "stdout",
          "text": [
            "\n",
            "📦 Demands (fertilizer bags):\n",
            "  Warehouse: 0 bags\n",
            "  Shop 1: 40 bags\n",
            "  Shop 2: 20 bags\n",
            "  Shop 3: 30 bags\n",
            "  Shop 4: 10 bags\n",
            "  Shop 5: 12 bags\n",
            "  Shop 6: 15 bags\n",
            "  Shop 7: 18 bags\n",
            "  Shop 8: 20 bags\n",
            "  Shop 9: 0 bags\n",
            "  Shop 10: 0 bags\n",
            "  Shop 11: 0 bags\n",
            "  Shop 12: 0 bags\n",
            "  Shop 13: 0 bags\n",
            "  Shop 14: 0 bags\n",
            "  Shop 15: 0 bags\n",
            "  Shop 16: 0 bags\n",
            "  Shop 17: 0 bags\n",
            "  Shop 18: 0 bags\n",
            "  Shop 19: 0 bags\n",
            "  Shop 20: 0 bags\n",
            "\n",
            "📊 Total demand: 165 bags\n"
          ]
        }
      ],
      "source": [
        "# Step 2: Demands - how much each location needs\n",
        "#demands = [0, 40, 20, 30, 10, 12, 15, 18, 20]  # warehouse needs 0, shops need fertilizer bags\n",
        "\n",
        "print(\"\\n📦 Demands (fertilizer bags):\")\n",
        "for i, (name, _, _) in enumerate(locations):\n",
        "    print(f\"  {name}: {demands[i]} bags\")\n",
        "\n",
        "total_demand = sum(demands)\n",
        "print(f\"\\n📊 Total demand: {total_demand} bags\")"
      ]
    },
    {
      "cell_type": "code",
      "execution_count": 41,
      "id": "a731bacb",
      "metadata": {
        "id": "a731bacb"
      },
      "outputs": [],
      "source": [
        "vehicle_specs = []\n",
        "for v in vehicles:\n",
        "    for _ in range(v[\"count\"]):\n",
        "        vehicle_specs.append((v[\"capacity\"], v[\"cost_per_km\"]))\n",
        "num_vehicles = len(vehicle_specs)"
      ]
    },
    {
      "cell_type": "code",
      "execution_count": 42,
      "id": "60233cdc",
      "metadata": {
        "id": "60233cdc"
      },
      "outputs": [],
      "source": [
        "from math import radians, sin, cos, sqrt, atan2\n",
        "def haversine_km(lat1, lon1, lat2, lon2):\n",
        "    \"\"\"Calculate real-world distance between two GPS points\"\"\"\n",
        "    R = 6371.0  # Earth's radius in km\n",
        "    dlat = radians(lat2 - lat1)\n",
        "    dlon = radians(lon2 - lon1)\n",
        "    a = sin(dlat/2)**2 + cos(radians(lat1)) * cos(radians(lat2)) * sin(dlon/2)**2\n",
        "    c = 2 * atan2(sqrt(a), sqrt(1-a))\n",
        "    return R * c"
      ]
    },
    {
      "cell_type": "code",
      "execution_count": 43,
      "id": "e5e1f507",
      "metadata": {
        "colab": {
          "base_uri": "https://localhost:8080/"
        },
        "id": "e5e1f507",
        "outputId": "8e6d1e7d-af0d-4313-a5cc-9e604f17247a"
      },
      "outputs": [
        {
          "output_type": "stream",
          "name": "stdout",
          "text": [
            "\n",
            "📏 Distance Matrix (km):\n",
            "         0    1    2    3    4    5    6    7    8    9   10   11   12   13   14   15   16   17   18   19   20\n",
            " 0:   0.0 1:   0.0 2:   0.0 3:   0.0 4:   0.0 5:   0.0 6:   0.0 7:   0.0 8:   0.0 9:   0.010:   0.011:   0.012:   0.013:   0.014:   0.015:   0.016:   0.017:   0.018:   0.019:   0.020:   0.0"
          ]
        }
      ],
      "source": [
        "n = len(locations)\n",
        "dist_km = [[0]*n for _ in range(n)]\n",
        "road_factor = 1.25  # roads are ~25% longer than straight-line distance\n",
        "\n",
        "print(\"\\n📏 Distance Matrix (km):\")\n",
        "print(\"     \", end=\"\")\n",
        "for i in range(n):\n",
        "    print(f\"{i:5}\", end=\"\")\n",
        "print()\n",
        "\n",
        "for i in range(n):\n",
        "    print(f\"{i:2}: \", end=\"\")\n",
        "    for j in range(n):\n",
        "        if i == j:\n",
        "            dist_km[i][j] = 0\n",
        "            print(f\"{0:5.1f}\", end=\"\")\n",
        "        else:\n",
        "            dist_km[i][j] = haversine_km(locations[i][1], locations[i][2],\n",
        "                                         locations[j][1], locations[j][2]) * road_factor"
      ]
    },
    {
      "cell_type": "code",
      "source": [
        "import requests\n",
        "import numpy as np"
      ],
      "metadata": {
        "id": "Jz0BEJIdMwDw"
      },
      "id": "Jz0BEJIdMwDw",
      "execution_count": 44,
      "outputs": []
    },
    {
      "cell_type": "code",
      "execution_count": 45,
      "id": "fe0eacf4",
      "metadata": {
        "colab": {
          "base_uri": "https://localhost:8080/"
        },
        "id": "fe0eacf4",
        "outputId": "ba84af06-866f-41cf-aed0-2801caa39054"
      },
      "outputs": [
        {
          "output_type": "stream",
          "name": "stdout",
          "text": [
            "🧪 Testing OSRM connectivity...\n",
            "🌐 Getting OSRM matrix for 21 locations...\n",
            "✅ OSRM matrix retrieved successfully!\n"
          ]
        }
      ],
      "source": [
        "# Setup OSRM client - using public demo server\n",
        "# For production, you'd run your own OSRM server\n",
        "OSRM_URL = \"http://router.project-osrm.org\"\n",
        "\n",
        "def get_osrm_matrix(locations):\n",
        "    \"\"\"Get distance and duration matrix using OSRM\"\"\"\n",
        "    print(f\"🌐 Getting OSRM matrix for {len(locations)} locations...\")\n",
        "\n",
        "    # Prepare coordinates for OSRM (lon,lat format)\n",
        "    coordinates = []\n",
        "    for name, lat, lon in locations:\n",
        "        coordinates.append([lon, lat])  # OSRM uses lon,lat\n",
        "\n",
        "    # Build OSRM table request URL\n",
        "    coord_string = \";\".join([f\"{lon},{lat}\" for lon, lat in coordinates])\n",
        "    url = f\"{OSRM_URL}/table/v1/driving/{coord_string}\"\n",
        "\n",
        "    params = {\n",
        "        'sources': ';'.join([str(i) for i in range(len(locations))]),\n",
        "        'destinations': ';'.join([str(i) for i in range(len(locations))]),\n",
        "        'annotations': 'distance,duration'\n",
        "    }\n",
        "\n",
        "    try:\n",
        "        response = requests.get(url, params=params, timeout=30)\n",
        "        response.raise_for_status()\n",
        "        data = response.json()\n",
        "\n",
        "        if data['code'] == 'Ok':\n",
        "            # Extract distance matrix (meters) and duration matrix (seconds)\n",
        "            distances = np.array(data['distances']) / 1000  # Convert to km\n",
        "            durations = np.array(data['durations']) / 60     # Convert to minutes\n",
        "\n",
        "            print(f\"✅ OSRM matrix retrieved successfully!\")\n",
        "            return distances, durations\n",
        "        else:\n",
        "            print(f\"❌ OSRM error: {data['message']}\")\n",
        "            return None, None\n",
        "\n",
        "    except Exception as e:\n",
        "        print(f\"❌ OSRM request failed: {e}\")\n",
        "        return None, None\n",
        "\n",
        "def get_osrm_route(start_coords, end_coords):\n",
        "    \"\"\"Get detailed route between two points\"\"\"\n",
        "    try:\n",
        "        coord_string = f\"{start_coords[1]},{start_coords[0]};{end_coords[1]},{end_coords[0]}\"\n",
        "        url = f\"{OSRM_URL}/route/v1/driving/{coord_string}\"\n",
        "\n",
        "        params = {\n",
        "            'overview': 'full',\n",
        "            'geometries': 'geojson'\n",
        "        }\n",
        "\n",
        "        response = requests.get(url, params=params, timeout=15)\n",
        "        data = response.json()\n",
        "\n",
        "        if data['code'] == 'Ok':\n",
        "            route = data['routes'][0]\n",
        "            geometry = route['geometry']['coordinates']\n",
        "            # Convert to lat,lon for folium\n",
        "            path = [[coord[1], coord[0]] for coord in geometry]\n",
        "            return path, route['distance']/1000, route['duration']/60\n",
        "        else:\n",
        "            return None, None, None\n",
        "\n",
        "    except Exception as e:\n",
        "        print(f\"Route error: {e}\")\n",
        "        return None, None, None\n",
        "\n",
        "# Test OSRM with our locations\n",
        "print(\"🧪 Testing OSRM connectivity...\")\n",
        "osrm_distances, osrm_durations = get_osrm_matrix(locations)"
      ]
    },
    {
      "cell_type": "code",
      "execution_count": 46,
      "id": "90f98568-4f2c-46ec-81cd-ced871e447d8",
      "metadata": {
        "id": "90f98568-4f2c-46ec-81cd-ced871e447d8"
      },
      "outputs": [],
      "source": [
        "import folium"
      ]
    },
    {
      "cell_type": "code",
      "execution_count": 47,
      "id": "40be7504",
      "metadata": {
        "colab": {
          "base_uri": "https://localhost:8080/"
        },
        "id": "40be7504",
        "outputId": "b92c6ee9-4a01-46b0-8e5f-451cf7df41b5"
      },
      "outputs": [
        {
          "output_type": "stream",
          "name": "stdout",
          "text": [
            "\n",
            "📊 OSRM Distance Matrix (km):\n",
            "          0     1     2     3     4     5     6     7     8     9    10    11    12    13    14    15    16    17    18    19    20\n",
            " 0:    0.0  37.4  30.8  32.1  32.8  36.4  15.0  24.1  26.9  20.4  33.7  19.6  17.6  29.3  31.1  28.4  15.6   5.3  17.2  10.8  26.0  (Warehouse)\n",
            " 1:   37.4   0.0   6.6   9.2  11.5  17.3  37.5  24.7  14.8  32.2  50.8  17.8  55.0  26.9  17.4  45.5  32.7  42.7  30.5  26.6  43.1  (Shop 1)\n",
            " 2:   30.8   6.6   0.0  11.6   8.7  14.5  37.0  27.3   8.1  25.6  44.2  11.2  48.4  29.6  20.1  38.9  26.0  36.1  22.7  20.0  36.5  (Shop 2)\n",
            " 3:   32.1   9.2  11.6   0.0  20.3  26.1  28.5  15.7  19.8  33.9  47.3  21.1  49.6  18.0   8.4  41.9  29.1  37.4  21.5  24.3  39.5  (Shop 3)\n",
            " 4:   32.8  11.5   8.7  20.3   0.0   5.8  39.0  43.1   5.9  27.6  46.2  13.2  50.4  48.4  28.7  40.8  28.0  38.1  36.2  22.0  38.4  (Shop 4)\n",
            " 5:   36.4  17.3  14.5  26.1   5.8   0.0  42.6  46.7   9.5  31.2  49.8  16.8  54.0  52.0  34.5  44.4  31.6  41.7  39.8  25.6  42.0  (Shop 5)\n",
            " 6:   15.0  37.5  37.0  28.5  39.0  42.6   0.0  13.9  33.1  26.6  39.9  25.8  22.3  19.2  21.0  34.6  21.8  16.0   7.0  17.0  32.2  (Shop 6)\n",
            " 7:   24.1  24.7  27.3  15.7  43.1  46.7  13.9   0.0  37.2  30.7  44.0  29.9  41.6   5.5   7.2  38.7  25.9  29.4   7.0  21.1  36.3  (Shop 7)\n",
            " 8:   26.9  14.8   8.1  19.8   5.9   9.5  33.1  37.2   0.0  21.7  40.2   7.3  44.4  42.5  32.2  34.9  22.1  32.2  30.3  16.1  32.5  (Shop 8)\n",
            " 9:   19.6  32.2  25.6  33.9  27.6  31.2  25.8  29.9  21.7   0.0  23.6  14.4  37.2  35.2  33.8  18.3   7.7  24.9  23.0  10.8  15.9  (Shop 9)\n",
            "10:   33.8  50.7  44.1  47.3  46.1  49.7  40.0  44.1  40.2  23.6   0.0  32.9  51.3  49.4  47.1   5.3  18.1  39.1  37.2  24.2  10.2  (Shop 10)\n",
            "11:   19.6  17.8  11.2  21.1  13.2  16.8  25.8  29.9   7.3  14.4  32.9   0.0  37.1  35.2  24.8  27.6  14.8  24.9  23.0   8.8  25.2  (Shop 11)\n",
            "12:   17.6  55.0  48.4  49.6  50.4  54.0  22.3  41.6  44.4  38.0  51.3  37.1   0.0  46.9  48.7  46.0  33.2  21.3  34.7  28.4  43.6  (Shop 12)\n",
            "13:   29.3  26.9  29.6  18.0  48.4  52.0  19.2   5.5  42.5  36.0  49.3  35.2  46.9   0.0   9.5  44.0  31.2  34.7  12.3  26.4  41.6  (Shop 13)\n",
            "14:   31.1  17.4  20.1   8.4  28.7  34.5  21.0   7.2  32.2  33.8  47.1  24.8  48.7   9.5   0.0  41.8  29.0  36.4  14.1  24.2  39.4  (Shop 14)\n",
            "15:   28.5  45.4  38.8  41.9  40.8  44.4  34.6  38.8  34.9  18.3   5.3  27.6  46.0  44.0  41.8   0.0  12.8  33.8  31.9  18.8   4.9  (Shop 15)\n",
            "16:   15.7  32.6  26.0  29.1  28.0  31.6  21.8  25.9  22.1   7.7  18.1  14.8  33.2  31.2  29.0  12.8   0.0  21.0  19.0   6.0  10.4  (Shop 16)\n",
            "17:    5.3  42.7  36.1  37.4  38.1  41.7  16.0  29.4  32.2  25.7  39.1  24.9  21.3  34.7  36.4  33.7  20.9   0.0  22.5  16.2  31.3  (Shop 17)\n",
            "18:   17.2  30.5  22.7  21.5  36.2  39.8   7.0   7.0  30.3  23.8  37.1  23.0  34.7  12.3  14.1  31.8  19.0  22.5   0.0  14.2  29.4  (Shop 18)\n",
            "19:   10.8  26.6  20.0  24.3  22.0  25.6  17.0  21.1  16.1  10.9  24.2   8.8  28.4  26.4  24.2  18.9   6.1  16.2  14.2   0.0  16.5  (Shop 19)\n",
            "20:   26.1  43.0  36.4  39.5  38.4  42.0  32.2  36.4  32.5  15.9  10.2  25.2  43.6  41.6  39.4   4.9  10.4  31.4  29.4  16.4   0.0  (Shop 20)\n",
            "✅ Using OSRM real driving distances!\n",
            "\n",
            "📈 OSRM vs Haversine Comparison:\n",
            "   OSRM total: 11709.8 km\n",
            "   Haversine total: 11240.0 km\n",
            "   Difference: +4.2% (OSRM more accurate)\n"
          ]
        }
      ],
      "source": [
        "if osrm_distances is not None:\n",
        "    print(\"\\n📊 OSRM Distance Matrix (km):\")\n",
        "    print(\"     \", end=\"\")\n",
        "    for i in range(len(locations)):\n",
        "        print(f\"{i:6}\", end=\"\")\n",
        "    print()\n",
        "\n",
        "    for i in range(len(locations)):\n",
        "        print(f\"{i:2}: \", end=\"\")\n",
        "        for j in range(len(locations)):\n",
        "            print(f\"{osrm_distances[i][j]:6.1f}\", end=\"\")\n",
        "        print(f\"  ({locations[i][0]})\")\n",
        "\n",
        "    # Convert to OR-Tools integer matrix\n",
        "    osrm_dist_matrix = [[int(round(d * 100)) for d in row] for row in osrm_distances]\n",
        "    print(\"✅ Using OSRM real driving distances!\")\n",
        "\n",
        "    # Compare with haversine\n",
        "    print(\"\\n📈 OSRM vs Haversine Comparison:\")\n",
        "    total_osrm = np.sum(osrm_distances)\n",
        "    total_haversine = sum(sum(row) for row in dist_km)\n",
        "    difference = ((total_osrm - total_haversine) / total_haversine) * 100\n",
        "    print(f\"   OSRM total: {total_osrm:.1f} km\")\n",
        "    print(f\"   Haversine total: {total_haversine:.1f} km\")\n",
        "    print(f\"   Difference: {difference:+.1f}% (OSRM more accurate)\")\n",
        "\n",
        "else:\n",
        "    print(\"⚠️ OSRM failed, using haversine distances\")\n",
        "    osrm_dist_matrix = dist_matrix\n",
        "    osrm_distances = dist_km"
      ]
    },
    {
      "cell_type": "code",
      "execution_count": 48,
      "id": "b2984618",
      "metadata": {
        "colab": {
          "base_uri": "https://localhost:8080/"
        },
        "id": "b2984618",
        "outputId": "b491b393-922e-421f-8d7c-a00f363947ab"
      },
      "outputs": [
        {
          "output_type": "stream",
          "name": "stdout",
          "text": [
            "\n",
            "🔍 Solving VRP with OSRM real driving distances...\n"
          ]
        }
      ],
      "source": [
        "# Setup VRP with OSRM distances\n",
        "from ortools.constraint_solver import pywrapcp, routing_enums_pb2\n",
        "manager = pywrapcp.RoutingIndexManager(len(osrm_dist_matrix), len(vehicle_specs), 0)\n",
        "routing = pywrapcp.RoutingModel(manager)\n",
        "\n",
        "# OSRM-based cost evaluators\n",
        "for vid, (cap, cost_per_km) in enumerate(vehicle_specs):\n",
        "    def make_osrm_cost_eval(multiplier):\n",
        "        def cost_eval(from_index, to_index):\n",
        "            f = manager.IndexToNode(from_index)\n",
        "            t = manager.IndexToNode(to_index)\n",
        "            return int(round(osrm_dist_matrix[f][t] / 100 * multiplier * 100))\n",
        "        return cost_eval\n",
        "\n",
        "    cost_evaluator = routing.RegisterTransitCallback(make_osrm_cost_eval(cost_per_km))\n",
        "    routing.SetArcCostEvaluatorOfVehicle(cost_evaluator, vid)\n",
        "def demand_callback(from_index):\n",
        "    node = manager.IndexToNode(from_index)\n",
        "    return demands[node]\n",
        "# Add constraints\n",
        "demand_cb_idx = routing.RegisterUnaryTransitCallback(demand_callback)\n",
        "routing.AddDimensionWithVehicleCapacity(\n",
        "    demand_cb_idx, 0, [spec[0] for spec in vehicle_specs], True, \"Capacity\")\n",
        "\n",
        "for v in range(len(vehicle_specs)):\n",
        "    routing.SetFixedCostOfVehicle(1000, v)\n",
        "\n",
        "# Solve with OSRM data\n",
        "search_parameters = pywrapcp.DefaultRoutingSearchParameters()\n",
        "search_parameters.first_solution_strategy = routing_enums_pb2.FirstSolutionStrategy.PATH_CHEAPEST_ARC\n",
        "search_parameters.time_limit.seconds = 15\n",
        "\n",
        "print(\"\\n🔍 Solving VRP with OSRM real driving distances...\")\n",
        "solution = routing.SolveWithParameters(search_parameters)"
      ]
    },
    {
      "cell_type": "code",
      "execution_count": 48,
      "id": "a330abbf",
      "metadata": {
        "id": "a330abbf"
      },
      "outputs": [],
      "source": []
    },
    {
      "cell_type": "code",
      "execution_count": 48,
      "id": "992677cc",
      "metadata": {
        "id": "992677cc"
      },
      "outputs": [],
      "source": []
    },
    {
      "cell_type": "code",
      "execution_count": 49,
      "id": "9c2bd387",
      "metadata": {
        "colab": {
          "base_uri": "https://localhost:8080/"
        },
        "id": "9c2bd387",
        "outputId": "b7d43ee0-bdea-4b8e-97bd-5dbf822b84c2"
      },
      "outputs": [
        {
          "output_type": "stream",
          "name": "stdout",
          "text": [
            "✅ OSRM-enhanced solution found!\n",
            "\n",
            "🛣️ Getting real paths for Vehicle 2...\n",
            "🚚 Vehicle 2 (80 bags, ₨70/km):\n",
            "   Route: Warehouse → Shop 2 → Shop 4 → Shop 5 → Shop 8 → Shop 11 → Shop 19 → Warehouse\n",
            "   Load: 62/80 bags (77.5% full)\n",
            "   Distance: 70.8 km (OSRM real roads)\n",
            "   Cost: ₨5726.20\n",
            "\n",
            "🛣️ Getting real paths for Vehicle 3...\n",
            "🚚 Vehicle 3 (80 bags, ₨70/km):\n",
            "   Route: Warehouse → Shop 1 → Shop 3 → Warehouse\n",
            "   Load: 70/80 bags (87.5% full)\n",
            "   Distance: 46.6 km (OSRM real roads)\n",
            "   Cost: ₨5519.00\n",
            "\n",
            "🛣️ Getting real paths for Vehicle 4...\n",
            "🚚 Vehicle 4 (50 bags, ₨50/km):\n",
            "   Route: Warehouse → Shop 17 → Shop 12 → Shop 6 → Shop 18 → Shop 7 → Shop 13 → Shop 14 → Shop 16 → Shop 20 → Shop 15 → Shop 10 → Shop 9 → Warehouse\n",
            "   Load: 33/50 bags (66.0% full)\n",
            "   Distance: 151.1 km (OSRM real roads)\n",
            "   Cost: ₨8547.50\n",
            "\n",
            "📊 OSRM-ENHANCED SUMMARY:\n",
            "   Vehicles used: 3/4\n",
            "   Total distance: 268.6 km (real driving)\n",
            "   Total cost: ₨19792.70\n",
            "   Cost per bag: ₨119.96\n"
          ]
        }
      ],
      "source": [
        "if solution:\n",
        "    print(\"✅ OSRM-enhanced solution found!\")\n",
        "\n",
        "    # Extract optimized routes\n",
        "    osrm_routes = []\n",
        "\n",
        "    for v in range(len(vehicle_specs)):\n",
        "        index = routing.Start(v)\n",
        "        route = []\n",
        "        load = 0\n",
        "        route_cost = 0\n",
        "        route_distance = 0\n",
        "\n",
        "        while not routing.IsEnd(index):\n",
        "            node = manager.IndexToNode(index)\n",
        "            route.append(node)\n",
        "            load += demands[node]\n",
        "            next_index = solution.Value(routing.NextVar(index))\n",
        "            route_cost += routing.GetArcCostForVehicle(index, next_index, v)\n",
        "            if not routing.IsEnd(next_index):\n",
        "                route_distance += osrm_distances[node][manager.IndexToNode(next_index)]\n",
        "            index = next_index\n",
        "\n",
        "        if len(route) > 1:  # Vehicle is used\n",
        "            capacity, cost_per_km = vehicle_specs[v]\n",
        "\n",
        "            # Get real driving paths for this route\n",
        "            print(f\"\\n🛣️ Getting real paths for Vehicle {v+1}...\")\n",
        "            full_path = []\n",
        "\n",
        "            for i in range(len(route)):\n",
        "                current_loc = route[i]\n",
        "                full_path.append([locations[current_loc][1], locations[current_loc][2]])\n",
        "\n",
        "                if i < len(route) - 1:  # Not last location\n",
        "                    next_loc = route[i + 1]\n",
        "                    start_coords = (locations[current_loc][1], locations[current_loc][2])\n",
        "                    end_coords = (locations[next_loc][1], locations[next_loc][2])\n",
        "\n",
        "                    path, dist, duration = get_osrm_route(start_coords, end_coords)\n",
        "                    if path:\n",
        "                        # Add intermediate points (skip first point to avoid duplication)\n",
        "                        full_path.extend(path[1:])\n",
        "                    else:\n",
        "                        # Fallback to direct line\n",
        "                        full_path.append([locations[next_loc][1], locations[next_loc][2]])\n",
        "\n",
        "            # Add return to warehouse\n",
        "            if len(route) > 0:\n",
        "                last_loc = route[-1]\n",
        "                start_coords = (locations[last_loc][1], locations[last_loc][2])\n",
        "                end_coords = (locations[0][1], locations[0][2])\n",
        "                path, dist, duration = get_osrm_route(start_coords, end_coords)\n",
        "                if path:\n",
        "                    full_path.extend(path[1:])  # Skip first point\n",
        "                else:\n",
        "                    full_path.append([locations[0][1], locations[0][2]])\n",
        "\n",
        "            osrm_routes.append({\n",
        "                'vehicle_id': v + 1,\n",
        "                'route': route,\n",
        "                'full_path': full_path,\n",
        "                'load': load,\n",
        "                'capacity': capacity,\n",
        "                'distance': route_distance,\n",
        "                'cost': route_cost / 100,\n",
        "                'cost_per_km': cost_per_km\n",
        "            })\n",
        "\n",
        "            # Display route\n",
        "            route_names = [locations[idx][0] for idx in route]\n",
        "            print(f\"🚚 Vehicle {v+1} ({capacity} bags, ₨{cost_per_km}/km):\")\n",
        "            print(f\"   Route: {' → '.join(route_names)} → Warehouse\")\n",
        "            print(f\"   Load: {load}/{capacity} bags ({load/capacity*100:.1f}% full)\")\n",
        "            print(f\"   Distance: {route_distance:.1f} km (OSRM real roads)\")\n",
        "            print(f\"   Cost: ₨{route_cost/100:.2f}\")\n",
        "\n",
        "    print(f\"\\n📊 OSRM-ENHANCED SUMMARY:\")\n",
        "    total_cost = sum(r['cost'] for r in osrm_routes)\n",
        "    total_distance = sum(r['distance'] for r in osrm_routes)\n",
        "    print(f\"   Vehicles used: {len(osrm_routes)}/{len(vehicle_specs)}\")\n",
        "    print(f\"   Total distance: {total_distance:.1f} km (real driving)\")\n",
        "    print(f\"   Total cost: ₨{total_cost:.2f}\")\n",
        "    print(f\"   Cost per bag: ₨{total_cost/total_demand:.2f}\")\n",
        "\n",
        "else:\n",
        "    print(\"❌ No OSRM solution found!\")\n",
        "    osrm_routes = []"
      ]
    },
    {
      "cell_type": "markdown",
      "source": [
        "*Prompted all locations*\n",
        "✅ OSRM-enhanced solution found!\n",
        "\n",
        "🛣️ Getting real paths for Vehicle 2...\n",
        "🚚 Vehicle 2 (80 bags, ₨70/km):\n",
        "   Route: Warehouse → Shop 2 → Shop 4 → Shop 5 → Shop 8 → Shop 11 → Shop 19 → Warehouse\n",
        "   Load: 62/80 bags (77.5% full)\n",
        "   Distance: 70.8 km (OSRM real roads)\n",
        "   Cost: ₨5726.20\n",
        "\n",
        "🛣️ Getting real paths for Vehicle 3...\n",
        "🚚 Vehicle 3 (80 bags, ₨70/km):\n",
        "   Route: Warehouse → Shop 1 → Shop 3 → Warehouse\n",
        "   Load: 70/80 bags (87.5% full)\n",
        "   Distance: 46.6 km (OSRM real roads)\n",
        "   Cost: ₨5519.00\n",
        "\n",
        "🛣️ Getting real paths for Vehicle 4...\n",
        "🚚 Vehicle 4 (50 bags, ₨50/km):\n",
        "   Route: Warehouse → Shop 17 → Shop 12 → Shop 6 → Shop 18 → Shop 7 → Shop 13 → Shop 14 → Shop 16 → Shop 20 → Shop 15 → Shop 10 → Shop 9 → Warehouse\n",
        "   Load: 33/50 bags (66.0% full)\n",
        "   Distance: 151.1 km (OSRM real roads)\n",
        "   Cost: ₨8547.50\n",
        "\n",
        "📊 OSRM-ENHANCED SUMMARY:\n",
        "   Vehicles used: 3/4\n",
        "   Total distance: 268.6 km (real driving)\n",
        "   Total cost: ₨19792.70\n",
        "   Cost per bag: ₨119.96"
      ],
      "metadata": {
        "id": "mcgEGx52OdWt"
      },
      "id": "mcgEGx52OdWt"
    },
    {
      "cell_type": "code",
      "execution_count": null,
      "metadata": {
        "colab": {
          "base_uri": "https://localhost:8080/"
        },
        "outputId": "b7d43ee0-bdea-4b8e-97bd-5dbf822b84c2",
        "id": "X9z53YOcOiEl"
      },
      "outputs": [
        {
          "output_type": "stream",
          "name": "stdout",
          "text": [
            "✅ OSRM-enhanced solution found!\n",
            "\n",
            "🛣️ Getting real paths for Vehicle 2...\n",
            "🚚 Vehicle 2 (80 bags, ₨70/km):\n",
            "   Route: Warehouse → Shop 2 → Shop 4 → Shop 5 → Shop 8 → Shop 11 → Shop 19 → Warehouse\n",
            "   Load: 62/80 bags (77.5% full)\n",
            "   Distance: 70.8 km (OSRM real roads)\n",
            "   Cost: ₨5726.20\n",
            "\n",
            "🛣️ Getting real paths for Vehicle 3...\n",
            "🚚 Vehicle 3 (80 bags, ₨70/km):\n",
            "   Route: Warehouse → Shop 1 → Shop 3 → Warehouse\n",
            "   Load: 70/80 bags (87.5% full)\n",
            "   Distance: 46.6 km (OSRM real roads)\n",
            "   Cost: ₨5519.00\n",
            "\n",
            "🛣️ Getting real paths for Vehicle 4...\n",
            "🚚 Vehicle 4 (50 bags, ₨50/km):\n",
            "   Route: Warehouse → Shop 17 → Shop 12 → Shop 6 → Shop 18 → Shop 7 → Shop 13 → Shop 14 → Shop 16 → Shop 20 → Shop 15 → Shop 10 → Shop 9 → Warehouse\n",
            "   Load: 33/50 bags (66.0% full)\n",
            "   Distance: 151.1 km (OSRM real roads)\n",
            "   Cost: ₨8547.50\n",
            "\n",
            "📊 OSRM-ENHANCED SUMMARY:\n",
            "   Vehicles used: 3/4\n",
            "   Total distance: 268.6 km (real driving)\n",
            "   Total cost: ₨19792.70\n",
            "   Cost per bag: ₨119.96\n"
          ]
        }
      ],
      "source": [
        "if solution:\n",
        "    print(\"✅ OSRM-enhanced solution found!\")\n",
        "\n",
        "    # Extract optimized routes\n",
        "    osrm_routes = []\n",
        "\n",
        "    for v in range(len(vehicle_specs)):\n",
        "        index = routing.Start(v)\n",
        "        route = []\n",
        "        load = 0\n",
        "        route_cost = 0\n",
        "        route_distance = 0\n",
        "\n",
        "        while not routing.IsEnd(index):\n",
        "            node = manager.IndexToNode(index)\n",
        "            route.append(node)\n",
        "            load += demands[node]\n",
        "            next_index = solution.Value(routing.NextVar(index))\n",
        "            route_cost += routing.GetArcCostForVehicle(index, next_index, v)\n",
        "            if not routing.IsEnd(next_index):\n",
        "                route_distance += osrm_distances[node][manager.IndexToNode(next_index)]\n",
        "            index = next_index\n",
        "\n",
        "        if len(route) > 1:  # Vehicle is used\n",
        "            capacity, cost_per_km = vehicle_specs[v]\n",
        "\n",
        "            # Get real driving paths for this route\n",
        "            print(f\"\\n🛣️ Getting real paths for Vehicle {v+1}...\")\n",
        "            full_path = []\n",
        "\n",
        "            for i in range(len(route)):\n",
        "                current_loc = route[i]\n",
        "                full_path.append([locations[current_loc][1], locations[current_loc][2]])\n",
        "\n",
        "                if i < len(route) - 1:  # Not last location\n",
        "                    next_loc = route[i + 1]\n",
        "                    start_coords = (locations[current_loc][1], locations[current_loc][2])\n",
        "                    end_coords = (locations[next_loc][1], locations[next_loc][2])\n",
        "\n",
        "                    path, dist, duration = get_osrm_route(start_coords, end_coords)\n",
        "                    if path:\n",
        "                        # Add intermediate points (skip first point to avoid duplication)\n",
        "                        full_path.extend(path[1:])\n",
        "                    else:\n",
        "                        # Fallback to direct line\n",
        "                        full_path.append([locations[next_loc][1], locations[next_loc][2]])\n",
        "\n",
        "            # Add return to warehouse\n",
        "            if len(route) > 0:\n",
        "                last_loc = route[-1]\n",
        "                start_coords = (locations[last_loc][1], locations[last_loc][2])\n",
        "                end_coords = (locations[0][1], locations[0][2])\n",
        "                path, dist, duration = get_osrm_route(start_coords, end_coords)\n",
        "                if path:\n",
        "                    full_path.extend(path[1:])  # Skip first point\n",
        "                else:\n",
        "                    full_path.append([locations[0][1], locations[0][2]])\n",
        "\n",
        "            osrm_routes.append({\n",
        "                'vehicle_id': v + 1,\n",
        "                'route': route,\n",
        "                'full_path': full_path,\n",
        "                'load': load,\n",
        "                'capacity': capacity,\n",
        "                'distance': route_distance,\n",
        "                'cost': route_cost / 100,\n",
        "                'cost_per_km': cost_per_km\n",
        "            })\n",
        "\n",
        "            # Display route\n",
        "            route_names = [locations[idx][0] for idx in route]\n",
        "            print(f\"🚚 Vehicle {v+1} ({capacity} bags, ₨{cost_per_km}/km):\")\n",
        "            print(f\"   Route: {' → '.join(route_names)} → Warehouse\")\n",
        "            print(f\"   Load: {load}/{capacity} bags ({load/capacity*100:.1f}% full)\")\n",
        "            print(f\"   Distance: {route_distance:.1f} km (OSRM real roads)\")\n",
        "            print(f\"   Cost: ₨{route_cost/100:.2f}\")\n",
        "\n",
        "    print(f\"\\n📊 OSRM-ENHANCED SUMMARY:\")\n",
        "    total_cost = sum(r['cost'] for r in osrm_routes)\n",
        "    total_distance = sum(r['distance'] for r in osrm_routes)\n",
        "    print(f\"   Vehicles used: {len(osrm_routes)}/{len(vehicle_specs)}\")\n",
        "    print(f\"   Total distance: {total_distance:.1f} km (real driving)\")\n",
        "    print(f\"   Total cost: ₨{total_cost:.2f}\")\n",
        "    print(f\"   Cost per bag: ₨{total_cost/total_demand:.2f}\")\n",
        "\n",
        "else:\n",
        "    print(\"❌ No OSRM solution found!\")\n",
        "    osrm_routes = []"
      ],
      "id": "X9z53YOcOiEl"
    },
    {
      "cell_type": "code",
      "execution_count": null,
      "metadata": {
        "colab": {
          "base_uri": "https://localhost:8080/"
        },
        "outputId": "b7d43ee0-bdea-4b8e-97bd-5dbf822b84c2",
        "id": "nLhss0kKOgie"
      },
      "outputs": [
        {
          "output_type": "stream",
          "name": "stdout",
          "text": [
            "✅ OSRM-enhanced solution found!\n",
            "\n",
            "🛣️ Getting real paths for Vehicle 2...\n",
            "🚚 Vehicle 2 (80 bags, ₨70/km):\n",
            "   Route: Warehouse → Shop 2 → Shop 4 → Shop 5 → Shop 8 → Shop 11 → Shop 19 → Warehouse\n",
            "   Load: 62/80 bags (77.5% full)\n",
            "   Distance: 70.8 km (OSRM real roads)\n",
            "   Cost: ₨5726.20\n",
            "\n",
            "🛣️ Getting real paths for Vehicle 3...\n",
            "🚚 Vehicle 3 (80 bags, ₨70/km):\n",
            "   Route: Warehouse → Shop 1 → Shop 3 → Warehouse\n",
            "   Load: 70/80 bags (87.5% full)\n",
            "   Distance: 46.6 km (OSRM real roads)\n",
            "   Cost: ₨5519.00\n",
            "\n",
            "🛣️ Getting real paths for Vehicle 4...\n",
            "🚚 Vehicle 4 (50 bags, ₨50/km):\n",
            "   Route: Warehouse → Shop 17 → Shop 12 → Shop 6 → Shop 18 → Shop 7 → Shop 13 → Shop 14 → Shop 16 → Shop 20 → Shop 15 → Shop 10 → Shop 9 → Warehouse\n",
            "   Load: 33/50 bags (66.0% full)\n",
            "   Distance: 151.1 km (OSRM real roads)\n",
            "   Cost: ₨8547.50\n",
            "\n",
            "📊 OSRM-ENHANCED SUMMARY:\n",
            "   Vehicles used: 3/4\n",
            "   Total distance: 268.6 km (real driving)\n",
            "   Total cost: ₨19792.70\n",
            "   Cost per bag: ₨119.96\n"
          ]
        }
      ],
      "source": [
        "if solution:\n",
        "    print(\"✅ OSRM-enhanced solution found!\")\n",
        "\n",
        "    # Extract optimized routes\n",
        "    osrm_routes = []\n",
        "\n",
        "    for v in range(len(vehicle_specs)):\n",
        "        index = routing.Start(v)\n",
        "        route = []\n",
        "        load = 0\n",
        "        route_cost = 0\n",
        "        route_distance = 0\n",
        "\n",
        "        while not routing.IsEnd(index):\n",
        "            node = manager.IndexToNode(index)\n",
        "            route.append(node)\n",
        "            load += demands[node]\n",
        "            next_index = solution.Value(routing.NextVar(index))\n",
        "            route_cost += routing.GetArcCostForVehicle(index, next_index, v)\n",
        "            if not routing.IsEnd(next_index):\n",
        "                route_distance += osrm_distances[node][manager.IndexToNode(next_index)]\n",
        "            index = next_index\n",
        "\n",
        "        if len(route) > 1:  # Vehicle is used\n",
        "            capacity, cost_per_km = vehicle_specs[v]\n",
        "\n",
        "            # Get real driving paths for this route\n",
        "            print(f\"\\n🛣️ Getting real paths for Vehicle {v+1}...\")\n",
        "            full_path = []\n",
        "\n",
        "            for i in range(len(route)):\n",
        "                current_loc = route[i]\n",
        "                full_path.append([locations[current_loc][1], locations[current_loc][2]])\n",
        "\n",
        "                if i < len(route) - 1:  # Not last location\n",
        "                    next_loc = route[i + 1]\n",
        "                    start_coords = (locations[current_loc][1], locations[current_loc][2])\n",
        "                    end_coords = (locations[next_loc][1], locations[next_loc][2])\n",
        "\n",
        "                    path, dist, duration = get_osrm_route(start_coords, end_coords)\n",
        "                    if path:\n",
        "                        # Add intermediate points (skip first point to avoid duplication)\n",
        "                        full_path.extend(path[1:])\n",
        "                    else:\n",
        "                        # Fallback to direct line\n",
        "                        full_path.append([locations[next_loc][1], locations[next_loc][2]])\n",
        "\n",
        "            # Add return to warehouse\n",
        "            if len(route) > 0:\n",
        "                last_loc = route[-1]\n",
        "                start_coords = (locations[last_loc][1], locations[last_loc][2])\n",
        "                end_coords = (locations[0][1], locations[0][2])\n",
        "                path, dist, duration = get_osrm_route(start_coords, end_coords)\n",
        "                if path:\n",
        "                    full_path.extend(path[1:])  # Skip first point\n",
        "                else:\n",
        "                    full_path.append([locations[0][1], locations[0][2]])\n",
        "\n",
        "            osrm_routes.append({\n",
        "                'vehicle_id': v + 1,\n",
        "                'route': route,\n",
        "                'full_path': full_path,\n",
        "                'load': load,\n",
        "                'capacity': capacity,\n",
        "                'distance': route_distance,\n",
        "                'cost': route_cost / 100,\n",
        "                'cost_per_km': cost_per_km\n",
        "            })\n",
        "\n",
        "            # Display route\n",
        "            route_names = [locations[idx][0] for idx in route]\n",
        "            print(f\"🚚 Vehicle {v+1} ({capacity} bags, ₨{cost_per_km}/km):\")\n",
        "            print(f\"   Route: {' → '.join(route_names)} → Warehouse\")\n",
        "            print(f\"   Load: {load}/{capacity} bags ({load/capacity*100:.1f}% full)\")\n",
        "            print(f\"   Distance: {route_distance:.1f} km (OSRM real roads)\")\n",
        "            print(f\"   Cost: ₨{route_cost/100:.2f}\")\n",
        "\n",
        "    print(f\"\\n📊 OSRM-ENHANCED SUMMARY:\")\n",
        "    total_cost = sum(r['cost'] for r in osrm_routes)\n",
        "    total_distance = sum(r['distance'] for r in osrm_routes)\n",
        "    print(f\"   Vehicles used: {len(osrm_routes)}/{len(vehicle_specs)}\")\n",
        "    print(f\"   Total distance: {total_distance:.1f} km (real driving)\")\n",
        "    print(f\"   Total cost: ₨{total_cost:.2f}\")\n",
        "    print(f\"   Cost per bag: ₨{total_cost/total_demand:.2f}\")\n",
        "\n",
        "else:\n",
        "    print(\"❌ No OSRM solution found!\")\n",
        "    osrm_routes = []"
      ],
      "id": "nLhss0kKOgie"
    },
    {
      "cell_type": "code",
      "execution_count": 50,
      "id": "935b4b7d",
      "metadata": {
        "id": "935b4b7d"
      },
      "outputs": [],
      "source": [
        "def create_osrm_map(locations, routes, demands, filename=\"osrm_map.html\"):\n",
        "    \"\"\"Create map with real OSRM driving routes and save as HTML\"\"\"\n",
        "    center_lat = sum(loc[1] for loc in locations) / len(locations)\n",
        "    center_lon = sum(loc[2] for loc in locations) / len(locations)\n",
        "\n",
        "    m = folium.Map(location=[center_lat, center_lon], zoom_start=12)\n",
        "\n",
        "    # Add warehouse\n",
        "    folium.Marker(\n",
        "        [locations[0][1], locations[0][2]],\n",
        "        popup=f\"🏭 {locations[0][0]}\",\n",
        "        icon=folium.Icon(color='red', icon='home', prefix='fa')\n",
        "    ).add_to(m)\n",
        "\n",
        "    # Add shops\n",
        "    for i, (name, lat, lon) in enumerate(locations[1:], 1):\n",
        "        folium.Marker(\n",
        "            [lat, lon],\n",
        "            popup=f\"🏪 {name}<br>Demand: {demands[i]} bags\",\n",
        "            icon=folium.Icon(color='blue', icon='shopping-cart', prefix='fa')\n",
        "        ).add_to(m)\n",
        "\n",
        "    # Add real driving routes\n",
        "    colors = ['red', 'blue', 'green', 'purple', 'orange', 'darkred']\n",
        "\n",
        "    for i, route in enumerate(routes):\n",
        "        color = colors[i % len(colors)]\n",
        "\n",
        "        folium.PolyLine(\n",
        "            route['full_path'],\n",
        "            color=color,\n",
        "            weight=5,\n",
        "            opacity=0.8,\n",
        "            popup=f\"🚚 Vehicle {route['vehicle_id']}<br>\"\n",
        "                  f\"Real driving route<br>\"\n",
        "                  f\"Distance: {route['distance']:.1f} km<br>\"\n",
        "                  f\"Cost: ₨{route['cost']:.2f}\",\n",
        "        ).add_to(m)\n",
        "\n",
        "    # Enhanced legend\n",
        "    legend_html = f'''\n",
        "    <div style=\"position: fixed; bottom: 50px; left: 50px; width: 350px; height: 250px;\n",
        "                background-color: white; border:2px solid grey; z-index:9999;\n",
        "                font-size:14px; padding: 10px\">\n",
        "    <h4>🗺️ OSRM-Enhanced Route Map</h4>\n",
        "    <p>🏭 <span style=\"color:red\">Red</span>: Warehouse</p>\n",
        "    <p>🏪 <span style=\"color:blue\">Blue</span>: Customer Shops</p>\n",
        "    <p>🛣️ <span style=\"color:purple\">Colored Lines</span>: Real Driving Routes</p>\n",
        "    <hr>\n",
        "    <p><strong>Total Distance:</strong> {sum(r['distance'] for r in routes):.1f} km</p>\n",
        "    <p><strong>Total Cost:</strong> ₨{sum(r['cost'] for r in routes):.2f}</p>\n",
        "    <p><strong>Vehicles Used:</strong> {len(routes)}</p>\n",
        "    <p><em>Powered by OSRM real-world routing</em></p>\n",
        "    </div>\n",
        "    '''\n",
        "\n",
        "    m.get_root().html.add_child(folium.Element(legend_html))\n",
        "\n",
        "    # Save and return file name\n",
        "\n",
        "    return m\n"
      ]
    },
    {
      "cell_type": "code",
      "execution_count": 51,
      "id": "6ca13490",
      "metadata": {
        "colab": {
          "base_uri": "https://localhost:8080/"
        },
        "id": "6ca13490",
        "outputId": "d69807fe-d59d-4932-8afc-6bee8147365d"
      },
      "outputs": [
        {
          "output_type": "stream",
          "name": "stdout",
          "text": [
            "🗺️ Creating OSRM-enhanced route map...\n",
            "✅ OSRM map saved as 'osrm_optimized_routes.html'\n"
          ]
        }
      ],
      "source": [
        "\n",
        "# Create and save enhanced map\n",
        "if osrm_routes:\n",
        "    print(\"🗺️ Creating OSRM-enhanced route map...\")\n",
        "    osrm_map = create_osrm_map(locations, osrm_routes, demands)\n",
        "    osrm_map.save('osrm_optimized_routes.html')\n",
        "    print(\"✅ OSRM map saved as 'osrm_optimized_routes.html'\")\n",
        "\n",
        "    # Display if possible\n",
        "    try:\n",
        "        osrm_map\n",
        "    except:\n",
        "        print(\"💡 Open 'osrm_optimized_routes.html' in your browser!\")"
      ]
    },
    {
      "cell_type": "markdown",
      "id": "a4ef5719",
      "metadata": {
        "id": "a4ef5719"
      },
      "source": [
        "# restructure"
      ]
    },
    {
      "cell_type": "code",
      "execution_count": null,
      "id": "0035dac6",
      "metadata": {
        "id": "0035dac6"
      },
      "outputs": [],
      "source": []
    }
  ],
  "metadata": {
    "kernelspec": {
      "display_name": "base",
      "language": "python",
      "name": "python3"
    },
    "language_info": {
      "codemirror_mode": {
        "name": "ipython",
        "version": 3
      },
      "file_extension": ".py",
      "mimetype": "text/x-python",
      "name": "python",
      "nbconvert_exporter": "python",
      "pygments_lexer": "ipython3",
      "version": "3.13.5"
    },
    "colab": {
      "provenance": []
    }
  },
  "nbformat": 4,
  "nbformat_minor": 5
}